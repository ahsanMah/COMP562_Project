{
 "cells": [
  {
   "cell_type": "code",
   "execution_count": 42,
   "metadata": {},
   "outputs": [],
   "source": [
    "import numpy as np\n",
    "import pandas as pd\n",
    "import matplotlib.pyplot as plt\n",
    "\n",
    "from sklearn.mixture import GaussianMixture\n",
    "from sklearn.model_selection import ShuffleSplit\n",
    "from sklearn.preprocessing import StandardScaler\n",
    "from sklearn.metrics import average_precision_score\n",
    "from sklearn.metrics import precision_recall_curve\n",
    "from sklearn.metrics import precision_recall_fscore_support\n",
    "\n",
    "RANDOM_STATE = 42\n",
    "np.random.seed(seed=RANDOM_STATE)\n",
    "\n",
    "\n",
    "# To plot pretty figures\n",
    "%matplotlib inline"
   ]
  },
  {
   "cell_type": "markdown",
   "metadata": {},
   "source": [
    "# Credit Card Dataset"
   ]
  },
  {
   "cell_type": "code",
   "execution_count": 12,
   "metadata": {},
   "outputs": [
    {
     "data": {
      "text/html": [
       "<div>\n",
       "<style scoped>\n",
       "    .dataframe tbody tr th:only-of-type {\n",
       "        vertical-align: middle;\n",
       "    }\n",
       "\n",
       "    .dataframe tbody tr th {\n",
       "        vertical-align: top;\n",
       "    }\n",
       "\n",
       "    .dataframe thead th {\n",
       "        text-align: right;\n",
       "    }\n",
       "</style>\n",
       "<table border=\"1\" class=\"dataframe\">\n",
       "  <thead>\n",
       "    <tr style=\"text-align: right;\">\n",
       "      <th></th>\n",
       "      <th>Time</th>\n",
       "      <th>V1</th>\n",
       "      <th>V2</th>\n",
       "      <th>V3</th>\n",
       "      <th>V4</th>\n",
       "      <th>V5</th>\n",
       "      <th>V6</th>\n",
       "      <th>V7</th>\n",
       "      <th>V8</th>\n",
       "      <th>V9</th>\n",
       "      <th>...</th>\n",
       "      <th>V21</th>\n",
       "      <th>V22</th>\n",
       "      <th>V23</th>\n",
       "      <th>V24</th>\n",
       "      <th>V25</th>\n",
       "      <th>V26</th>\n",
       "      <th>V27</th>\n",
       "      <th>V28</th>\n",
       "      <th>Amount</th>\n",
       "      <th>Class</th>\n",
       "    </tr>\n",
       "  </thead>\n",
       "  <tbody>\n",
       "    <tr>\n",
       "      <th>0</th>\n",
       "      <td>1.411588</td>\n",
       "      <td>0.993379</td>\n",
       "      <td>-0.456037</td>\n",
       "      <td>-0.894052</td>\n",
       "      <td>-0.467284</td>\n",
       "      <td>1.089217</td>\n",
       "      <td>3.024383</td>\n",
       "      <td>-1.194852</td>\n",
       "      <td>0.957057</td>\n",
       "      <td>1.281376</td>\n",
       "      <td>...</td>\n",
       "      <td>0.103171</td>\n",
       "      <td>0.409563</td>\n",
       "      <td>0.490685</td>\n",
       "      <td>1.141970</td>\n",
       "      <td>-0.670832</td>\n",
       "      <td>-0.807227</td>\n",
       "      <td>0.191912</td>\n",
       "      <td>-0.099106</td>\n",
       "      <td>-0.322494</td>\n",
       "      <td>0.0</td>\n",
       "    </tr>\n",
       "    <tr>\n",
       "      <th>1</th>\n",
       "      <td>0.623141</td>\n",
       "      <td>1.038507</td>\n",
       "      <td>-0.029349</td>\n",
       "      <td>-2.018302</td>\n",
       "      <td>0.175133</td>\n",
       "      <td>2.133506</td>\n",
       "      <td>2.478840</td>\n",
       "      <td>-0.001832</td>\n",
       "      <td>0.566704</td>\n",
       "      <td>0.041121</td>\n",
       "      <td>...</td>\n",
       "      <td>0.052055</td>\n",
       "      <td>0.314019</td>\n",
       "      <td>0.056568</td>\n",
       "      <td>1.168583</td>\n",
       "      <td>0.985238</td>\n",
       "      <td>-0.977976</td>\n",
       "      <td>0.006397</td>\n",
       "      <td>-0.211524</td>\n",
       "      <td>-0.339764</td>\n",
       "      <td>0.0</td>\n",
       "    </tr>\n",
       "    <tr>\n",
       "      <th>2</th>\n",
       "      <td>-1.130680</td>\n",
       "      <td>-0.506766</td>\n",
       "      <td>0.366065</td>\n",
       "      <td>0.470114</td>\n",
       "      <td>-0.700918</td>\n",
       "      <td>-0.598748</td>\n",
       "      <td>1.470411</td>\n",
       "      <td>-1.786684</td>\n",
       "      <td>-4.227592</td>\n",
       "      <td>0.000064</td>\n",
       "      <td>...</td>\n",
       "      <td>-3.807987</td>\n",
       "      <td>0.150500</td>\n",
       "      <td>-0.695838</td>\n",
       "      <td>-1.540549</td>\n",
       "      <td>1.587269</td>\n",
       "      <td>1.895777</td>\n",
       "      <td>0.094137</td>\n",
       "      <td>0.566426</td>\n",
       "      <td>0.346693</td>\n",
       "      <td>0.0</td>\n",
       "    </tr>\n",
       "    <tr>\n",
       "      <th>3</th>\n",
       "      <td>0.794699</td>\n",
       "      <td>1.166419</td>\n",
       "      <td>-0.909447</td>\n",
       "      <td>-0.493095</td>\n",
       "      <td>-1.178149</td>\n",
       "      <td>-1.010692</td>\n",
       "      <td>-0.262292</td>\n",
       "      <td>-1.153123</td>\n",
       "      <td>0.008765</td>\n",
       "      <td>-1.019866</td>\n",
       "      <td>...</td>\n",
       "      <td>-0.190540</td>\n",
       "      <td>0.105701</td>\n",
       "      <td>0.331932</td>\n",
       "      <td>-0.888718</td>\n",
       "      <td>-0.532153</td>\n",
       "      <td>-0.336546</td>\n",
       "      <td>0.044738</td>\n",
       "      <td>-0.193183</td>\n",
       "      <td>-0.327360</td>\n",
       "      <td>0.0</td>\n",
       "    </tr>\n",
       "    <tr>\n",
       "      <th>4</th>\n",
       "      <td>-0.748102</td>\n",
       "      <td>-0.229485</td>\n",
       "      <td>-0.613041</td>\n",
       "      <td>0.076742</td>\n",
       "      <td>-2.440089</td>\n",
       "      <td>0.518711</td>\n",
       "      <td>-0.109914</td>\n",
       "      <td>0.407186</td>\n",
       "      <td>-0.095161</td>\n",
       "      <td>-0.041449</td>\n",
       "      <td>...</td>\n",
       "      <td>-0.331467</td>\n",
       "      <td>-0.239208</td>\n",
       "      <td>-0.010747</td>\n",
       "      <td>-2.250223</td>\n",
       "      <td>-0.559400</td>\n",
       "      <td>-0.300345</td>\n",
       "      <td>-0.080285</td>\n",
       "      <td>-0.196818</td>\n",
       "      <td>-0.008281</td>\n",
       "      <td>0.0</td>\n",
       "    </tr>\n",
       "  </tbody>\n",
       "</table>\n",
       "<p>5 rows × 31 columns</p>\n",
       "</div>"
      ],
      "text/plain": [
       "       Time        V1        V2        V3        V4        V5        V6  \\\n",
       "0  1.411588  0.993379 -0.456037 -0.894052 -0.467284  1.089217  3.024383   \n",
       "1  0.623141  1.038507 -0.029349 -2.018302  0.175133  2.133506  2.478840   \n",
       "2 -1.130680 -0.506766  0.366065  0.470114 -0.700918 -0.598748  1.470411   \n",
       "3  0.794699  1.166419 -0.909447 -0.493095 -1.178149 -1.010692 -0.262292   \n",
       "4 -0.748102 -0.229485 -0.613041  0.076742 -2.440089  0.518711 -0.109914   \n",
       "\n",
       "         V7        V8        V9  ...       V21       V22       V23       V24  \\\n",
       "0 -1.194852  0.957057  1.281376  ...  0.103171  0.409563  0.490685  1.141970   \n",
       "1 -0.001832  0.566704  0.041121  ...  0.052055  0.314019  0.056568  1.168583   \n",
       "2 -1.786684 -4.227592  0.000064  ... -3.807987  0.150500 -0.695838 -1.540549   \n",
       "3 -1.153123  0.008765 -1.019866  ... -0.190540  0.105701  0.331932 -0.888718   \n",
       "4  0.407186 -0.095161 -0.041449  ... -0.331467 -0.239208 -0.010747 -2.250223   \n",
       "\n",
       "        V25       V26       V27       V28    Amount  Class  \n",
       "0 -0.670832 -0.807227  0.191912 -0.099106 -0.322494    0.0  \n",
       "1  0.985238 -0.977976  0.006397 -0.211524 -0.339764    0.0  \n",
       "2  1.587269  1.895777  0.094137  0.566426  0.346693    0.0  \n",
       "3 -0.532153 -0.336546  0.044738 -0.193183 -0.327360    0.0  \n",
       "4 -0.559400 -0.300345 -0.080285 -0.196818 -0.008281    0.0  \n",
       "\n",
       "[5 rows x 31 columns]"
      ]
     },
     "execution_count": 12,
     "metadata": {},
     "output_type": "execute_result"
    }
   ],
   "source": [
    "data_train = pd.read_csv(\"data/credit_train.csv\", index_col=0)\n",
    "data_test = pd.read_csv(\"data/credit_test.csv\", index_col=0)\n",
    "\n",
    "X_train = data_train.drop(data_train.columns[-1],axis=1)\n",
    "y_train = data_train.iloc[:,-1]\n",
    "\n",
    "X_test = data_test.drop(data_test.columns[-1],axis=1)\n",
    "y_test = data_test.iloc[:,-1]\n",
    "data_train.head()"
   ]
  },
  {
   "cell_type": "code",
   "execution_count": 28,
   "metadata": {},
   "outputs": [],
   "source": [
    "# X = raw_data.drop(columns=[\"Class\"])\n",
    "# y = raw_data[\"Class\"].copy()\n",
    "\n",
    "inlier_train = X_train[y_train==0]\n",
    "inlier_test = X_test[y_test==0]\n",
    "outliers = X_test[y_test==1]\n",
    "\n",
    "# ## No need to split again\n",
    "# outliers = X[y==1]\n",
    "# outlier_ratio = len(outliers) / len(X)\n",
    "\n",
    "# # Test samples of non-anomalous class are the same size as outliers\n",
    "# test_ratio = outlier_ratio\n",
    "# splitter = ShuffleSplit(n_splits=1, test_size=test_ratio)\n",
    "\n",
    "# for train_index,test_index in splitter.split(inliers):\n",
    "#     inlier_train = inliers.iloc[train_index]\n",
    "#     inlier_test = inliers.iloc[test_index]\n",
    "\n",
    "# scaler = StandardScaler()\n",
    "\n",
    "# inlier_train = scaler.fit_transform(inlier_train)\n",
    "# inlier_test = scaler.transform(inlier_test)\n",
    "# outliers = scaler.transform(outliers)"
   ]
  },
  {
   "cell_type": "code",
   "execution_count": 18,
   "metadata": {},
   "outputs": [
    {
     "name": "stdout",
     "output_type": "stream",
     "text": [
      "CPU times: user 54.8 s, sys: 2.59 s, total: 57.4 s\n",
      "Wall time: 14.6 s\n"
     ]
    },
    {
     "data": {
      "text/plain": [
       "GaussianMixture(covariance_type='full', init_params='kmeans', max_iter=100,\n",
       "                means_init=None, n_components=3, n_init=1, precisions_init=None,\n",
       "                random_state=None, reg_covar=1e-06, tol=0.001, verbose=0,\n",
       "                verbose_interval=10, warm_start=False, weights_init=None)"
      ]
     },
     "execution_count": 18,
     "metadata": {},
     "output_type": "execute_result"
    }
   ],
   "source": [
    "%%time\n",
    "GMM = GaussianMixture(n_components=3, covariance_type=\"full\")\n",
    "GMM.fit(inlier_train)"
   ]
  },
  {
   "cell_type": "code",
   "execution_count": 19,
   "metadata": {},
   "outputs": [
    {
     "name": "stdout",
     "output_type": "stream",
     "text": [
      "Training Likelihood: -8.933\n"
     ]
    }
   ],
   "source": [
    "print(\"Training Likelihood: {:.3f}\".format(GMM.score(inlier_train)))"
   ]
  },
  {
   "cell_type": "code",
   "execution_count": 20,
   "metadata": {},
   "outputs": [
    {
     "name": "stdout",
     "output_type": "stream",
     "text": [
      "Testing Likelihood: -10.392\n"
     ]
    }
   ],
   "source": [
    "print(\"Testing Likelihood: {:.3f}\".format(GMM.score(X_test)))"
   ]
  },
  {
   "cell_type": "code",
   "execution_count": 60,
   "metadata": {},
   "outputs": [
    {
     "name": "stdout",
     "output_type": "stream",
     "text": [
      "Testing Likelihood: -39.882\n",
      "Outlier Likelihood: -1647.196\n"
     ]
    }
   ],
   "source": [
    "print(\"Testing Likelihood: {:.3f}\".format(GMM.score(inlier_test)))\n",
    "print(\"Outlier Likelihood: {:.3f}\".format(GMM.score(outliers)))"
   ]
  },
  {
   "cell_type": "code",
   "execution_count": 61,
   "metadata": {},
   "outputs": [
    {
     "name": "stdout",
     "output_type": "stream",
     "text": [
      "Testing BIC: 4541053.869\n",
      "Outlier BIC: 1623909.042\n"
     ]
    }
   ],
   "source": [
    "print(\"Testing BIC: {:.3f}\".format(GMM.bic(inlier_test)))\n",
    "print(\"Outlier BIC: {:.3f}\".format(GMM.bic(outliers)))"
   ]
  },
  {
   "cell_type": "markdown",
   "metadata": {},
   "source": [
    "## This is weighted probability of each sample occuring from this distribution"
   ]
  },
  {
   "cell_type": "code",
   "execution_count": 51,
   "metadata": {},
   "outputs": [
    {
     "data": {
      "text/plain": [
       "array([[<matplotlib.axes._subplots.AxesSubplot object at 0x1a1fc12c88>]],\n",
       "      dtype=object)"
      ]
     },
     "execution_count": 51,
     "metadata": {},
     "output_type": "execute_result"
    },
    {
     "data": {
      "image/png": "[encoded data removed]",
      "text/plain": [
       "<Figure size 432x288 with 1 Axes>"
      ]
     },
     "metadata": {
      "needs_background": "light"
     },
     "output_type": "display_data"
    }
   ],
   "source": [
    "scores = pd.DataFrame(np.exp(GMM.score_samples(inlier_train)))\n",
    "scores.hist()"
   ]
  },
  {
   "cell_type": "code",
   "execution_count": 50,
   "metadata": {},
   "outputs": [
    {
     "data": {
      "text/plain": [
       "array([[<matplotlib.axes._subplots.AxesSubplot object at 0x1a20e17ac8>]],\n",
       "      dtype=object)"
      ]
     },
     "execution_count": 50,
     "metadata": {},
     "output_type": "execute_result"
    },
    {
     "data": {
      "image/png": "[encoded data removed]",
      "text/plain": [
       "<Figure size 432x288 with 1 Axes>"
      ]
     },
     "metadata": {
      "needs_background": "light"
     },
     "output_type": "display_data"
    }
   ],
   "source": [
    "outlier_probs = pd.DataFrame(GMM.predict_proba(outliers))\n",
    "outlier_probs.hist(bins=50)"
   ]
  },
  {
   "cell_type": "markdown",
   "metadata": {},
   "source": [
    "## Gridsearch to get better density estimation..."
   ]
  },
  {
   "cell_type": "code",
   "execution_count": null,
   "metadata": {},
   "outputs": [],
   "source": [
    "%%time\n",
    "lowest_bic = np.infty\n",
    "bic = []\n",
    "n_components_range = range(1, 10)\n",
    "cv_types = ['full']\n",
    "for cv_type in cv_types:\n",
    "    for n_components in n_components_range:\n",
    "        # Fit a Gaussian mixture with EM\n",
    "        gmm = GaussianMixture(n_components=n_components,\n",
    "                                      covariance_type=cv_type)\n",
    "        gmm.fit(inlier_train)\n",
    "        bic.append(gmm.bic(inlier_train))\n",
    "        if bic[-1] < lowest_bic:\n",
    "            lowest_bic = bic[-1]\n",
    "            best_gmm = gmm"
   ]
  },
  {
   "cell_type": "code",
   "execution_count": null,
   "metadata": {},
   "outputs": [],
   "source": [
    "best_gmm"
   ]
  },
  {
   "cell_type": "code",
   "execution_count": null,
   "metadata": {},
   "outputs": [],
   "source": [
    "bics = pd.DataFrame(bic)\n",
    "bics.plot(kind=\"bar\")"
   ]
  },
  {
   "cell_type": "code",
   "execution_count": 29,
   "metadata": {},
   "outputs": [
    {
     "name": "stdout",
     "output_type": "stream",
     "text": [
      "CPU times: user 40.8 s, sys: 2.1 s, total: 42.9 s\n",
      "Wall time: 11 s\n"
     ]
    },
    {
     "data": {
      "text/plain": [
       "GaussianMixture(covariance_type='full', init_params='kmeans', max_iter=100,\n",
       "                means_init=None, n_components=3, n_init=1, precisions_init=None,\n",
       "                random_state=None, reg_covar=1e-06, tol=0.001, verbose=0,\n",
       "                verbose_interval=10, warm_start=False, weights_init=None)"
      ]
     },
     "execution_count": 29,
     "metadata": {},
     "output_type": "execute_result"
    }
   ],
   "source": [
    "%%time\n",
    "best_gmm = GaussianMixture(n_components=7, covariance_type=\"full\", max_iter=200, n_init=5)\n",
    "best_gmm.fit(inlier_train)"
   ]
  },
  {
   "cell_type": "code",
   "execution_count": 30,
   "metadata": {},
   "outputs": [
    {
     "name": "stdout",
     "output_type": "stream",
     "text": [
      "Training Likelihood: -6.333\n",
      "Testing Likelihood: -6.734\n",
      "Outlier Likelihood: -1560.566\n"
     ]
    }
   ],
   "source": [
    "print(\"Training Likelihood: {:.3f}\".format(best_gmm.score(inlier_train)))\n",
    "print(\"Testing Likelihood: {:.3f}\".format(best_gmm.score(inlier_test)))\n",
    "print(\"Outlier Likelihood: {:.3f}\".format(best_gmm.score(outliers)))"
   ]
  },
  {
   "cell_type": "code",
   "execution_count": 53,
   "metadata": {},
   "outputs": [
    {
     "data": {
      "text/plain": [
       "array([[<matplotlib.axes._subplots.AxesSubplot object at 0x1a222e3e48>,\n",
       "        <matplotlib.axes._subplots.AxesSubplot object at 0x1a22bdd2b0>],\n",
       "       [<matplotlib.axes._subplots.AxesSubplot object at 0x1a22aa67f0>,\n",
       "        <matplotlib.axes._subplots.AxesSubplot object at 0x1a22403518>]],\n",
       "      dtype=object)"
      ]
     },
     "execution_count": 53,
     "metadata": {},
     "output_type": "execute_result"
    },
    {
     "data": {
      "image/png": "[encoded data removed]",
      "text/plain": [
       "<Figure size 864x576 with 4 Axes>"
      ]
     },
     "metadata": {
      "needs_background": "light"
     },
     "output_type": "display_data"
    }
   ],
   "source": [
    "outlier_probs = pd.DataFrame(best_gmm.predict_proba(outliers))\n",
    "outlier_probs.hist(bins=5, figsize=(12,8))"
   ]
  },
  {
   "cell_type": "code",
   "execution_count": 31,
   "metadata": {},
   "outputs": [
    {
     "name": "stdout",
     "output_type": "stream",
     "text": [
      "Testing Likelihood: -9.407\n"
     ]
    }
   ],
   "source": [
    "print(\"Testing Likelihood: {:.3f}\".format(best_gmm.score(X_test)))"
   ]
  },
  {
   "cell_type": "markdown",
   "metadata": {},
   "source": [
    "## Recall that score samples returns probability *densities*\n",
    "> In order to use them we have to integrate from 0 to x"
   ]
  },
  {
   "cell_type": "code",
   "execution_count": 32,
   "metadata": {},
   "outputs": [
    {
     "data": {
      "text/plain": [
       "array([[<matplotlib.axes._subplots.AxesSubplot object at 0x1a29df0748>]],\n",
       "      dtype=object)"
      ]
     },
     "execution_count": 32,
     "metadata": {},
     "output_type": "execute_result"
    },
    {
     "data": {
      "image/png": "[encoded data removed]",
      "text/plain": [
       "<Figure size 1440x288 with 1 Axes>"
      ]
     },
     "metadata": {
      "needs_background": "light"
     },
     "output_type": "display_data"
    }
   ],
   "source": [
    "train_scores = pd.DataFrame(best_gmm.score_samples(inlier_train))\n",
    "train_scores.hist(bins=100, figsize=(20,4))"
   ]
  },
  {
   "cell_type": "code",
   "execution_count": 33,
   "metadata": {},
   "outputs": [
    {
     "data": {
      "text/plain": [
       "array([[<matplotlib.axes._subplots.AxesSubplot object at 0x1a273cf9b0>]],\n",
       "      dtype=object)"
      ]
     },
     "execution_count": 33,
     "metadata": {},
     "output_type": "execute_result"
    },
    {
     "data": {
      "image/png": "[encoded data removed]",
      "text/plain": [
       "<Figure size 1440x288 with 1 Axes>"
      ]
     },
     "metadata": {
      "needs_background": "light"
     },
     "output_type": "display_data"
    }
   ],
   "source": [
    "test_scores = pd.DataFrame(best_gmm.score_samples(X_test))\n",
    "test_scores.hist(bins=100, figsize=(20,4))"
   ]
  },
  {
   "cell_type": "code",
   "execution_count": 34,
   "metadata": {},
   "outputs": [
    {
     "data": {
      "text/plain": [
       "array([[<matplotlib.axes._subplots.AxesSubplot object at 0x1a2991a5f8>]],\n",
       "      dtype=object)"
      ]
     },
     "execution_count": 34,
     "metadata": {},
     "output_type": "execute_result"
    },
    {
     "data": {
      "image/png": "[encoded data removed]",
      "text/plain": [
       "<Figure size 1440x288 with 1 Axes>"
      ]
     },
     "metadata": {
      "needs_background": "light"
     },
     "output_type": "display_data"
    }
   ],
   "source": [
    "outlier_scores = pd.DataFrame(best_gmm.score_samples(outliers))\n",
    "outlier_scores.hist(bins=100, figsize=(20,4))"
   ]
  },
  {
   "cell_type": "code",
   "execution_count": 35,
   "metadata": {},
   "outputs": [
    {
     "data": {
      "text/plain": [
       "0   -9.406801\n",
       "dtype: float64"
      ]
     },
     "execution_count": 35,
     "metadata": {},
     "output_type": "execute_result"
    }
   ],
   "source": [
    "test_scores.mean()"
   ]
  },
  {
   "cell_type": "code",
   "execution_count": 39,
   "metadata": {},
   "outputs": [
    {
     "data": {
      "text/plain": [
       "0   -85.622239\n",
       "Name: 0.01, dtype: float64"
      ]
     },
     "execution_count": 39,
     "metadata": {},
     "output_type": "execute_result"
    }
   ],
   "source": [
    "test_scores.quantile(0.01)"
   ]
  },
  {
   "cell_type": "code",
   "execution_count": 41,
   "metadata": {},
   "outputs": [
    {
     "name": "stdout",
     "output_type": "stream",
     "text": [
      "              precision    recall  f1-score   support\n",
      "\n",
      "           0    0.99973   0.98999   0.99484     56962\n",
      "           1    0.12711   0.84694   0.22104        98\n",
      "\n",
      "    accuracy                        0.98975     57060\n",
      "   macro avg    0.56342   0.91847   0.60794     57060\n",
      "weighted avg    0.99824   0.98975   0.99351     57060\n",
      "\n"
     ]
    }
   ],
   "source": [
    "from sklearn.metrics import classification_report as report\n",
    "\n",
    "thresh = test_scores.quantile(0.01)[0]\n",
    "y_probs = np.concatenate((test_scores, outlier_scores))\n",
    "y_true = np.concatenate(([0]*len(test_scores), [1]*len(outlier_scores)))\n",
    "y_pred = y_probs < thresh\n",
    "print(report(y_true, y_pred, digits=5))"
   ]
  },
  {
   "cell_type": "code",
   "execution_count": null,
   "metadata": {},
   "outputs": [],
   "source": [
    "## Getting Precision Recall Curves\n",
    "\n",
    "credit_prec, credit_recall, threshes = precision_recall_curve(y_true, y_probs)\n",
    "\n",
    "plt.figure(figsize=(16, 8))\n",
    "plt.plot(http_recall, http_prec, marker='.', label='GMM')"
   ]
  },
  {
   "cell_type": "code",
   "execution_count": 64,
   "metadata": {},
   "outputs": [
    {
     "name": "stdout",
     "output_type": "stream",
     "text": [
      "(4414, 1)\n"
     ]
    },
    {
     "data": {
      "text/plain": [
       "(984,)"
      ]
     },
     "execution_count": 64,
     "metadata": {},
     "output_type": "execute_result"
    }
   ],
   "source": [
    "print(y_pred.shape)\n",
    "y_true.shape"
   ]
  },
  {
   "cell_type": "code",
   "execution_count": 66,
   "metadata": {},
   "outputs": [
    {
     "data": {
      "text/plain": [
       "(984, 1)"
      ]
     },
     "execution_count": 66,
     "metadata": {},
     "output_type": "execute_result"
    }
   ],
   "source": [
    "y_probs.shape"
   ]
  },
  {
   "cell_type": "markdown",
   "metadata": {},
   "source": [
    "## Using Average Precision to test different thresholds"
   ]
  },
  {
   "cell_type": "code",
   "execution_count": 129,
   "metadata": {},
   "outputs": [
    {
     "data": {
      "text/plain": [
       "0.3137928530365953"
      ]
     },
     "execution_count": 129,
     "metadata": {},
     "output_type": "execute_result"
    }
   ],
   "source": [
    "# thresh = inlier_test.mean() + inlier_test.std()*3\n",
    "y_score = np.concatenate((test_scores, outlier_scores))\n",
    "y_true = np.concatenate(([0]*len(test_scores), [1]*len(outlier_scores)))\n",
    "\n",
    "average_precision_score(y_true, y_score)"
   ]
  },
  {
   "cell_type": "markdown",
   "metadata": {},
   "source": [
    "# HTTP Dataset"
   ]
  },
  {
   "cell_type": "code",
   "execution_count": 2,
   "metadata": {},
   "outputs": [
    {
     "data": {
      "text/html": [
       "<div>\n",
       "<style scoped>\n",
       "    .dataframe tbody tr th:only-of-type {\n",
       "        vertical-align: middle;\n",
       "    }\n",
       "\n",
       "    .dataframe tbody tr th {\n",
       "        vertical-align: top;\n",
       "    }\n",
       "\n",
       "    .dataframe thead th {\n",
       "        text-align: right;\n",
       "    }\n",
       "</style>\n",
       "<table border=\"1\" class=\"dataframe\">\n",
       "  <thead>\n",
       "    <tr style=\"text-align: right;\">\n",
       "      <th></th>\n",
       "      <th>0</th>\n",
       "      <th>1</th>\n",
       "      <th>2</th>\n",
       "      <th>3</th>\n",
       "    </tr>\n",
       "  </thead>\n",
       "  <tbody>\n",
       "    <tr>\n",
       "      <th>0</th>\n",
       "      <td>-2.302585</td>\n",
       "      <td>5.371103</td>\n",
       "      <td>10.716107</td>\n",
       "      <td>0</td>\n",
       "    </tr>\n",
       "    <tr>\n",
       "      <th>1</th>\n",
       "      <td>-2.302585</td>\n",
       "      <td>5.088213</td>\n",
       "      <td>8.418058</td>\n",
       "      <td>0</td>\n",
       "    </tr>\n",
       "    <tr>\n",
       "      <th>2</th>\n",
       "      <td>-2.302585</td>\n",
       "      <td>5.464255</td>\n",
       "      <td>7.113224</td>\n",
       "      <td>0</td>\n",
       "    </tr>\n",
       "    <tr>\n",
       "      <th>3</th>\n",
       "      <td>-2.302585</td>\n",
       "      <td>5.451468</td>\n",
       "      <td>7.616825</td>\n",
       "      <td>0</td>\n",
       "    </tr>\n",
       "    <tr>\n",
       "      <th>4</th>\n",
       "      <td>-2.302585</td>\n",
       "      <td>5.476882</td>\n",
       "      <td>6.186414</td>\n",
       "      <td>0</td>\n",
       "    </tr>\n",
       "  </tbody>\n",
       "</table>\n",
       "</div>"
      ],
      "text/plain": [
       "          0         1          2  3\n",
       "0 -2.302585  5.371103  10.716107  0\n",
       "1 -2.302585  5.088213   8.418058  0\n",
       "2 -2.302585  5.464255   7.113224  0\n",
       "3 -2.302585  5.451468   7.616825  0\n",
       "4 -2.302585  5.476882   6.186414  0"
      ]
     },
     "execution_count": 2,
     "metadata": {},
     "output_type": "execute_result"
    }
   ],
   "source": [
    "raw_data = pd.read_csv(\"data/http.csv\", header=None)\n",
    "raw_data.head()"
   ]
  },
  {
   "cell_type": "code",
   "execution_count": 3,
   "metadata": {},
   "outputs": [],
   "source": [
    "X = raw_data.drop(columns=[3])\n",
    "y = raw_data[3].copy()\n",
    "\n",
    "inliers = X[y==0]\n",
    "outliers = X[y==1]\n",
    "outlier_ratio = len(outliers) / len(X)\n",
    "\n",
    "# Test samples of non-anomalous class are the same size as outliers\n",
    "test_ratio = outlier_ratio\n",
    "splitter = ShuffleSplit(n_splits=1, test_size=test_ratio)\n",
    "\n",
    "for train_index,test_index in splitter.split(inliers):\n",
    "    inlier_train = inliers.iloc[train_index]\n",
    "    inlier_test = inliers.iloc[test_index]\n",
    "\n",
    "# scaler = StandardScaler()\n",
    "\n",
    "# inlier_train = scaler.fit_transform(inlier_train)\n",
    "# inlier_test = scaler.transform(inlier_test)\n",
    "# outliers = scaler.transform(outliers)"
   ]
  },
  {
   "cell_type": "markdown",
   "metadata": {},
   "source": [
    "## Gridsearch to get better density estimation..."
   ]
  },
  {
   "cell_type": "code",
   "execution_count": 45,
   "metadata": {},
   "outputs": [
    {
     "name": "stdout",
     "output_type": "stream",
     "text": [
      "CPU times: user 15min 25s, sys: 43.2 s, total: 16min 9s\n",
      "Wall time: 4min 8s\n"
     ]
    }
   ],
   "source": [
    "%%time\n",
    "lowest_bic = np.infty\n",
    "bic = []\n",
    "n_components_range = range(1, 10)\n",
    "cv_types = ['full']\n",
    "for cv_type in cv_types:\n",
    "    for n_components in n_components_range:\n",
    "        # Fit a Gaussian mixture with EM\n",
    "        gmm = GaussianMixture(n_components=n_components,\n",
    "                                      covariance_type=cv_type)\n",
    "        gmm.fit(inlier_train)\n",
    "        bic.append(gmm.bic(inlier_train))\n",
    "        if bic[-1] < lowest_bic:\n",
    "            lowest_bic = bic[-1]\n",
    "            best_gmm = gmm"
   ]
  },
  {
   "cell_type": "code",
   "execution_count": null,
   "metadata": {},
   "outputs": [],
   "source": [
    "# n_components_range = range(1,8)\n",
    "# param_grid = {'n_components': n_components_range}\n",
    "# cv_test= KFold(n_splits=10)\n",
    "# # class_weight='balanced' makes the result worse\n",
    "# grid_search = GridSearchCV(GaussianMixture(n_init=3), param_grid, cv=cv_test, \n",
    "#                            scoring='average_precision', n_jobs=4)"
   ]
  },
  {
   "cell_type": "code",
   "execution_count": 14,
   "metadata": {},
   "outputs": [
    {
     "data": {
      "text/plain": [
       "<matplotlib.axes._subplots.AxesSubplot at 0x1a1fff15f8>"
      ]
     },
     "execution_count": 14,
     "metadata": {},
     "output_type": "execute_result"
    },
    {
     "data": {
      "image/png": "[encoded data removed]",
      "text/plain": [
       "<Figure size 432x288 with 1 Axes>"
      ]
     },
     "metadata": {
      "needs_background": "light"
     },
     "output_type": "display_data"
    }
   ],
   "source": [
    "bics = pd.DataFrame(bic)\n",
    "bics.plot(kind=\"bar\")"
   ]
  },
  {
   "cell_type": "code",
   "execution_count": 6,
   "metadata": {},
   "outputs": [
    {
     "name": "stdout",
     "output_type": "stream",
     "text": [
      "CPU times: user 6.17 s, sys: 250 ms, total: 6.42 s\n",
      "Wall time: 1.68 s\n"
     ]
    },
    {
     "data": {
      "text/plain": [
       "GaussianMixture(covariance_type='full', init_params='kmeans', max_iter=100,\n",
       "                means_init=None, n_components=3, n_init=1, precisions_init=None,\n",
       "                random_state=None, reg_covar=1e-06, tol=0.001, verbose=0,\n",
       "                verbose_interval=10, warm_start=False, weights_init=None)"
      ]
     },
     "execution_count": 6,
     "metadata": {},
     "output_type": "execute_result"
    }
   ],
   "source": [
    "%%time\n",
    "best_gmm = GaussianMixture(n_components=3, covariance_type=\"full\")\n",
    "best_gmm.fit(inlier_train)"
   ]
  },
  {
   "cell_type": "code",
   "execution_count": 7,
   "metadata": {},
   "outputs": [
    {
     "name": "stdout",
     "output_type": "stream",
     "text": [
      "Training Likelihood: 4.374\n",
      "Testing Likelihood: 4.399\n",
      "Outlier Likelihood: -23.864\n"
     ]
    }
   ],
   "source": [
    "print(\"Training Likelihood: {:.3f}\".format(best_gmm.score(inlier_train)))\n",
    "print(\"Testing Likelihood: {:.3f}\".format(best_gmm.score(inlier_test)))\n",
    "print(\"Outlier Likelihood: {:.3f}\".format(best_gmm.score(outliers)))"
   ]
  },
  {
   "cell_type": "code",
   "execution_count": 8,
   "metadata": {},
   "outputs": [
    {
     "data": {
      "text/plain": [
       "array([[<matplotlib.axes._subplots.AxesSubplot object at 0x1a1b10c710>,\n",
       "        <matplotlib.axes._subplots.AxesSubplot object at 0x1a18d26b38>],\n",
       "       [<matplotlib.axes._subplots.AxesSubplot object at 0x1a18d66128>,\n",
       "        <matplotlib.axes._subplots.AxesSubplot object at 0x1a1a1d06d8>]],\n",
       "      dtype=object)"
      ]
     },
     "execution_count": 8,
     "metadata": {},
     "output_type": "execute_result"
    },
    {
     "data": {
      "image/png": "[encoded data removed]",
      "text/plain": [
       "<Figure size 864x576 with 4 Axes>"
      ]
     },
     "metadata": {
      "needs_background": "light"
     },
     "output_type": "display_data"
    }
   ],
   "source": [
    "outlier_probs = pd.DataFrame(best_gmm.predict_proba(outliers))\n",
    "outlier_probs.hist(bins=5, figsize=(12,8))"
   ]
  },
  {
   "cell_type": "markdown",
   "metadata": {},
   "source": [
    "## Recall that score samples returns probability *densities*\n",
    "> In order to use them we have to integrate from 0 to x"
   ]
  },
  {
   "cell_type": "code",
   "execution_count": 9,
   "metadata": {},
   "outputs": [
    {
     "data": {
      "text/plain": [
       "array([[<matplotlib.axes._subplots.AxesSubplot object at 0x1a1b0981d0>]],\n",
       "      dtype=object)"
      ]
     },
     "execution_count": 9,
     "metadata": {},
     "output_type": "execute_result"
    },
    {
     "data": {
      "image/png": "[encoded data removed]",
      "text/plain": [
       "<Figure size 1440x288 with 1 Axes>"
      ]
     },
     "metadata": {
      "needs_background": "light"
     },
     "output_type": "display_data"
    }
   ],
   "source": [
    "train_scores = pd.DataFrame(best_gmm.score_samples(inlier_train))\n",
    "train_scores.hist(bins=100, figsize=(20,4))"
   ]
  },
  {
   "cell_type": "code",
   "execution_count": 10,
   "metadata": {},
   "outputs": [
    {
     "data": {
      "text/plain": [
       "array([[<matplotlib.axes._subplots.AxesSubplot object at 0x1a1a260198>]],\n",
       "      dtype=object)"
      ]
     },
     "execution_count": 10,
     "metadata": {},
     "output_type": "execute_result"
    },
    {
     "data": {
      "image/png": "[encoded data removed]",
      "text/plain": [
       "<Figure size 1440x288 with 1 Axes>"
      ]
     },
     "metadata": {
      "needs_background": "light"
     },
     "output_type": "display_data"
    }
   ],
   "source": [
    "test_scores = pd.DataFrame(best_gmm.score_samples(inlier_test))\n",
    "test_scores.hist(bins=100, figsize=(20,4))"
   ]
  },
  {
   "cell_type": "code",
   "execution_count": 11,
   "metadata": {},
   "outputs": [
    {
     "data": {
      "text/plain": [
       "array([[<matplotlib.axes._subplots.AxesSubplot object at 0x1a1fd35ef0>]],\n",
       "      dtype=object)"
      ]
     },
     "execution_count": 11,
     "metadata": {},
     "output_type": "execute_result"
    },
    {
     "data": {
      "image/png": "[encoded data removed]",
      "text/plain": [
       "<Figure size 1440x288 with 1 Axes>"
      ]
     },
     "metadata": {
      "needs_background": "light"
     },
     "output_type": "display_data"
    }
   ],
   "source": [
    "epsilon = 1e-10\n",
    "outlier_scores = pd.DataFrame(best_gmm.score_samples(outliers))\n",
    "outlier_scores.hist(bins=100, figsize=(20,4))"
   ]
  },
  {
   "cell_type": "markdown",
   "metadata": {},
   "source": [
    "## Using Average Precision to test different thresholds"
   ]
  },
  {
   "cell_type": "code",
   "execution_count": 45,
   "metadata": {},
   "outputs": [
    {
     "data": {
      "text/plain": [
       "2211"
      ]
     },
     "execution_count": 45,
     "metadata": {},
     "output_type": "execute_result"
    }
   ],
   "source": [
    "len(outlier_scores)"
   ]
  },
  {
   "cell_type": "code",
   "execution_count": 26,
   "metadata": {},
   "outputs": [
    {
     "data": {
      "text/plain": [
       "0.4781972811289943"
      ]
     },
     "execution_count": 26,
     "metadata": {},
     "output_type": "execute_result"
    }
   ],
   "source": [
    "# thresh = inlier_test.mean() + inlier_test.std()*3\n",
    "test_data = np.concatenate([inlier_test, outliers])\n",
    "y_probs = np.concatenate((test_scores, outlier_scores))\n",
    "\n",
    "y_true = np.concatenate(([0]*len(test_scores), [1]*len(outlier_scores)))\n",
    "\n",
    "average_precision_score(y_true, y_probs)"
   ]
  },
  {
   "cell_type": "code",
   "execution_count": 46,
   "metadata": {},
   "outputs": [
    {
     "name": "stdout",
     "output_type": "stream",
     "text": [
      "              precision    recall  f1-score   support\n",
      "\n",
      "           0    1.00000   0.99955   0.99977      2203\n",
      "           1    0.99955   1.00000   0.99977      2211\n",
      "\n",
      "    accuracy                        0.99977      4414\n",
      "   macro avg    0.99977   0.99977   0.99977      4414\n",
      "weighted avg    0.99977   0.99977   0.99977      4414\n",
      "\n"
     ]
    }
   ],
   "source": [
    "from sklearn.metrics import classification_report as report\n",
    "\n",
    "thresh = -12\n",
    "y_pred = y_probs < thresh\n",
    "print(report(y_true, y_pred,digits=5))"
   ]
  },
  {
   "cell_type": "code",
   "execution_count": 40,
   "metadata": {},
   "outputs": [
    {
     "ename": "TypeError",
     "evalue": "only size-1 arrays can be converted to Python scalars",
     "output_type": "error",
     "traceback": [
      "\u001b[0;31m---------------------------------------------------------------------------\u001b[0m",
      "\u001b[0;31mTypeError\u001b[0m                                 Traceback (most recent call last)",
      "\u001b[0;32m<ipython-input-40-030905d242cf>\u001b[0m in \u001b[0;36m<module>\u001b[0;34m\u001b[0m\n\u001b[0;32m----> 1\u001b[0;31m \u001b[0mnp\u001b[0m\u001b[0;34m.\u001b[0m\u001b[0mint\u001b[0m\u001b[0;34m(\u001b[0m\u001b[0my_probs\u001b[0m \u001b[0;34m<\u001b[0m \u001b[0;34m-\u001b[0m\u001b[0;36m12\u001b[0m\u001b[0;34m)\u001b[0m\u001b[0;34m\u001b[0m\u001b[0;34m\u001b[0m\u001b[0m\n\u001b[0m",
      "\u001b[0;31mTypeError\u001b[0m: only size-1 arrays can be converted to Python scalars"
     ]
    }
   ],
   "source": [
    "np.int(y_probs < -12)"
   ]
  },
  {
   "cell_type": "code",
   "execution_count": 13,
   "metadata": {},
   "outputs": [
    {
     "data": {
      "text/plain": [
       "0.9999999999999999"
      ]
     },
     "execution_count": 13,
     "metadata": {},
     "output_type": "execute_result"
    }
   ],
   "source": [
    "average_precision_score([1]*len(outlier_scores), outlier_scores)"
   ]
  },
  {
   "cell_type": "code",
   "execution_count": 33,
   "metadata": {},
   "outputs": [
    {
     "data": {
      "text/plain": [
       "[<matplotlib.lines.Line2D at 0x1a22ad3f60>]"
      ]
     },
     "execution_count": 33,
     "metadata": {},
     "output_type": "execute_result"
    },
    {
     "data": {
      "image/png": "[encoded data removed]",
      "text/plain": [
       "<Figure size 1152x576 with 1 Axes>"
      ]
     },
     "metadata": {
      "needs_background": "light"
     },
     "output_type": "display_data"
    }
   ],
   "source": [
    "## Getting Precision Recall Curves\n",
    "\n",
    "from sklearn.metrics import precision_recall_curve\n",
    "from sklearn.metrics import precision_recall_fscore_support\n",
    "# from sklearn.metrics import plot_precision_recall_curve\n",
    "\n",
    "http_prec, http_recall, threshes = precision_recall_curve(y_true, y_probs)\n",
    "\n",
    "plt.figure(figsize=(16, 8))\n",
    "plt.plot(http_recall, http_prec, marker='.', label='GMM')"
   ]
  },
  {
   "cell_type": "code",
   "execution_count": 34,
   "metadata": {},
   "outputs": [
    {
     "data": {
      "text/plain": [
       "array([-40.73992942, -25.03706111, -24.58645017, ...,   5.55191258,\n",
       "         5.55216606,   5.55324887])"
      ]
     },
     "execution_count": 34,
     "metadata": {},
     "output_type": "execute_result"
    }
   ],
   "source": [
    "threshes"
   ]
  },
  {
   "cell_type": "code",
   "execution_count": 27,
   "metadata": {},
   "outputs": [
    {
     "ename": "NameError",
     "evalue": "name 'plot_precision_recall_curve' is not defined",
     "output_type": "error",
     "traceback": [
      "\u001b[0;31m---------------------------------------------------------------------------\u001b[0m",
      "\u001b[0;31mNameError\u001b[0m                                 Traceback (most recent call last)",
      "\u001b[0;32m<ipython-input-27-e4329997eda4>\u001b[0m in \u001b[0;36m<module>\u001b[0;34m\u001b[0m\n\u001b[0;32m----> 1\u001b[0;31m \u001b[0mplot_precision_recall_curve\u001b[0m\u001b[0;34m(\u001b[0m\u001b[0mbest_gmm\u001b[0m\u001b[0;34m,\u001b[0m \u001b[0mtest_data\u001b[0m\u001b[0;34m,\u001b[0m \u001b[0my_true\u001b[0m\u001b[0;34m)\u001b[0m\u001b[0;34m\u001b[0m\u001b[0;34m\u001b[0m\u001b[0m\n\u001b[0m",
      "\u001b[0;31mNameError\u001b[0m: name 'plot_precision_recall_curve' is not defined"
     ]
    }
   ],
   "source": [
    "# plot_precision_recall_curve(best_gmm, test_data, y_true)"
   ]
  },
  {
   "cell_type": "code",
   "execution_count": null,
   "metadata": {},
   "outputs": [],
   "source": []
  }
 ],
 "metadata": {
  "kernelspec": {
   "display_name": "Python (condatensor)",
   "language": "python",
   "name": "condatensor"
  },
  "language_info": {
   "codemirror_mode": {
    "name": "ipython",
    "version": 3
   },
   "file_extension": ".py",
   "mimetype": "text/x-python",
   "name": "python",
   "nbconvert_exporter": "python",
   "pygments_lexer": "ipython3",
   "version": "3.6.9"
  }
 },
 "nbformat": 4,
 "nbformat_minor": 4
}
