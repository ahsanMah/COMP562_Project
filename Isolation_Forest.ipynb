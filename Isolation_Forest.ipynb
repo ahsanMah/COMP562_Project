{
 "cells": [
  {
   "cell_type": "code",
   "execution_count": 445,
   "metadata": {},
   "outputs": [],
   "source": [
    "import pandas as pd\n",
    "import numpy as np\n",
    "from sklearn.metrics import classification_report as report\n",
    "from sklearn.model_selection import GridSearchCV\n",
    "from sklearn.model_selection import ParameterGrid\n",
    "from sklearn.metrics import average_precision_score\n",
    "import seaborn as sns\n",
    "from sklearn.metrics import confusion_matrix as matrix\n",
    "from sklearn.metrics import average_precision_score\n",
    "from sklearn.ensemble import IsolationForest\n",
    "RANDOM_STATE = 42\n",
    "np.random.seed(seed=RANDOM_STATE)\n",
    "import matplotlib.pyplot as plt"
   ]
  },
  {
   "cell_type": "markdown",
   "metadata": {},
   "source": [
    "# Dataset1: http(contamination:0.0039)"
   ]
  },
  {
   "cell_type": "markdown",
   "metadata": {},
   "source": [
    "## load train/test data"
   ]
  },
  {
   "cell_type": "code",
   "execution_count": 446,
   "metadata": {},
   "outputs": [
    {
     "data": {
      "text/plain": [
       "(453998, 4)"
      ]
     },
     "execution_count": 446,
     "metadata": {},
     "output_type": "execute_result"
    }
   ],
   "source": [
    "http_train=pd.read_csv('data/http_train.csv',sep=',')\n",
    "http_test=pd.read_csv('data/http_test.csv',sep=',')\n",
    "\n",
    "#train_raw_data = http_train.drop(http_train.index[0])\n",
    "train_data = http_train.drop(http_train.columns[-1],axis='columns')\n",
    "train_label = http_train.iloc[:,-1]\n",
    "\n",
    "#test_raw_data = http_test.drop(http_test.index[0])\n",
    "test_data = http_test.drop(http_test.columns[-1],axis='columns')\n",
    "test_label = http_test.iloc[:,-1]\n",
    "\n",
    "#train_data.head()\n",
    "http_train.shape"
   ]
  },
  {
   "cell_type": "code",
   "execution_count": 417,
   "metadata": {},
   "outputs": [
    {
     "data": {
      "image/png": "[encoded data removed]",
      "text/plain": [
       "<Figure size 504x360 with 1 Axes>"
      ]
     },
     "metadata": {
      "needs_background": "light"
     },
     "output_type": "display_data"
    }
   ],
   "source": [
    "plt.figure(figsize=(7,5))\n",
    "fig = sns.countplot(x=\"3\", data=http_train)\n",
    "for p in fig.patches:\n",
    "    height = p.get_height()\n",
    "    fig.text(p.get_x()+p.get_width()/2., height + 0.5,height ,ha=\"center\")"
   ]
  },
  {
   "cell_type": "markdown",
   "metadata": {},
   "source": [
    "## build a model(isolation forest)"
   ]
  },
  {
   "cell_type": "code",
   "execution_count": 447,
   "metadata": {},
   "outputs": [
    {
     "data": {
      "text/plain": [
       "IsolationForest(behaviour='new', bootstrap=False, contamination=0.003911734,\n",
       "                max_features=1.0, max_samples='auto', n_estimators=60,\n",
       "                n_jobs=-1, random_state=42, verbose=0, warm_start=False)"
      ]
     },
     "execution_count": 447,
     "metadata": {},
     "output_type": "execute_result"
    }
   ],
   "source": [
    "IF_model = IsolationForest(n_estimators=60,random_state=42,contamination=(0.003911734),n_jobs=-1,behaviour=\"new\")\n",
    "# param_grid = {'n_estimators': list(range(50, 300, 50)), \n",
    "#               'max_samples': list(range(200, 500, 20)), \n",
    "#               'contamination': [0.0040, 0.0050,0.0060,0.0070,0.0080,0.0090,0.010],\n",
    "#                }\n",
    "# #\"'max_features':list\"\n",
    "# IF_model = GridSearchCV(IF_model, param_grid ,scoring=\"average_precision\", cv=5)\n",
    "IF_model.fit(train_data,train_label)"
   ]
  },
  {
   "cell_type": "markdown",
   "metadata": {},
   "source": [
    "## calculate average precision"
   ]
  },
  {
   "cell_type": "code",
   "execution_count": 448,
   "metadata": {},
   "outputs": [
    {
     "name": "stdout",
     "output_type": "stream",
     "text": [
      "[0.31367355 0.2821482  0.30755124 ... 0.29851435 0.34102049 0.28994197]\n",
      "Average precision-recall score: 0.00363\n"
     ]
    }
   ],
   "source": [
    "test_score=IF_model.decision_function(test_data)\n",
    "print(test_score)\n",
    "average_precision = average_precision_score(test_label, test_score)\n",
    "print('Average precision-recall score: {0:0.5f}'.format(\n",
    "      average_precision))"
   ]
  },
  {
   "cell_type": "markdown",
   "metadata": {},
   "source": [
    "## make predict"
   ]
  },
  {
   "cell_type": "code",
   "execution_count": 327,
   "metadata": {},
   "outputs": [
    {
     "name": "stdout",
     "output_type": "stream",
     "text": [
      "              precision    recall  f1-score   support\n",
      "\n",
      "           0    0.99988   0.99990   0.99989    113058\n",
      "           1    0.97494   0.96833   0.97162       442\n",
      "\n",
      "    accuracy                        0.99978    113500\n",
      "   macro avg    0.98741   0.98411   0.98576    113500\n",
      "weighted avg    0.99978   0.99978   0.99978    113500\n",
      "\n",
      "[[113047     11]\n",
      " [    14    428]]\n"
     ]
    }
   ],
   "source": [
    "result_model=IF_model.predict(test_data)\n",
    "#report_model=report(test_label,result_model,digits=5)\n",
    "for i in range(len(result_model)):\n",
    "    if(result_model[i]==-1):\n",
    "        result_model[i]=1\n",
    "    else:\n",
    "        result_model[i]=0\n",
    "#print(result_model)\n",
    "report_model=report(test_label,result_model,digits=5)\n",
    "matrix_model=matrix(test_label,result_model)\n",
    "print(report_model)\n",
    "print(matrix_model)"
   ]
  },
  {
   "cell_type": "code",
   "execution_count": 173,
   "metadata": {},
   "outputs": [
    {
     "data": {
      "image/png": "[encoded data removed]",
      "text/plain": [
       "<Figure size 432x288 with 2 Axes>"
      ]
     },
     "metadata": {
      "needs_background": "light"
     },
     "output_type": "display_data"
    }
   ],
   "source": [
    "# Plot non-normalized confusion matrix\n",
    "\n",
    "import itertools\n",
    "\n",
    "def plot_confusion_matrix(cm, classes,\n",
    "                          normalize=False,\n",
    "                          title='Confusion matrix',\n",
    "                          cmap=plt.cm.Blues):\n",
    "    \"\"\"\n",
    "    This function prints and plots the confusion matrix.\n",
    "    Normalization can be applied by setting `normalize=True`.\n",
    "    \"\"\"\n",
    "    plt.imshow(cm, interpolation='nearest', cmap=cmap)\n",
    "    plt.title(title)\n",
    "    plt.colorbar()\n",
    "    tick_marks = np.arange(len(classes))\n",
    "    plt.xticks(tick_marks, classes, rotation=0)\n",
    "    plt.yticks(tick_marks, classes)\n",
    "\n",
    "    if normalize:\n",
    "        cm = cm.astype('float') / cm.sum(axis=1)[:, np.newaxis]\n",
    "        #print(\"Normalized confusion matrix\")\n",
    "    else:\n",
    "        1#print('Confusion matrix, without normalization')\n",
    "\n",
    "    #print(cm)\n",
    "\n",
    "    thresh = cm.max() / 2.\n",
    "    for i, j in itertools.product(range(cm.shape[0]), range(cm.shape[1])):\n",
    "        plt.text(j, i, cm[i, j],\n",
    "                 horizontalalignment=\"center\",\n",
    "                 color=\"white\" if cm[i, j] > thresh else \"black\")\n",
    "\n",
    "    plt.tight_layout()\n",
    "    plt.ylabel('True label')\n",
    "    plt.xlabel('Predicted label')\n",
    "    \n",
    "    \n",
    "class_names = [0,1]\n",
    "plt.figure()\n",
    "plot_confusion_matrix(matrix_model\n",
    "                      , classes=class_names\n",
    "                      , title='Confusion matrix')\n",
    "plt.show()"
   ]
  },
  {
   "cell_type": "markdown",
   "metadata": {},
   "source": [
    "# Dataset2: Cardio (Contamination : 0.096)"
   ]
  },
  {
   "cell_type": "markdown",
   "metadata": {},
   "source": [
    "## load train/test data"
   ]
  },
  {
   "cell_type": "code",
   "execution_count": 428,
   "metadata": {},
   "outputs": [
    {
     "data": {
      "text/plain": [
       "(1464, 22)"
      ]
     },
     "execution_count": 428,
     "metadata": {},
     "output_type": "execute_result"
    }
   ],
   "source": [
    "cardio_train=pd.read_csv('data/cardio_train.csv',sep=',')\n",
    "cardio_test=pd.read_csv('data/cardio_test.csv',sep=',')\n",
    "\n",
    "#train_raw_data = http_train.drop(http_train.index[0])\n",
    "train_data = cardio_train.drop(cardio_train.columns[-1],axis='columns')\n",
    "train_label = cardio_train.iloc[:,-1]\n",
    "\n",
    "#test_raw_data = http_test.drop(http_test.index[0])\n",
    "test_data = cardio_test.drop(cardio_test.columns[-1],axis='columns')\n",
    "test_label = cardio_test.iloc[:,-1]\n",
    "\n",
    "#train_data.head()\n",
    "cardio_train.shape"
   ]
  },
  {
   "cell_type": "code",
   "execution_count": 414,
   "metadata": {},
   "outputs": [
    {
     "data": {
      "image/png": "[encoded data removed]",
      "text/plain": [
       "<Figure size 504x360 with 1 Axes>"
      ]
     },
     "metadata": {
      "needs_background": "light"
     },
     "output_type": "display_data"
    }
   ],
   "source": [
    "plt.figure(figsize=(7,5))\n",
    "fig = sns.countplot(x=\"21\", data=cardio_train)\n",
    "for p in fig.patches:\n",
    "    height = p.get_height()\n",
    "    fig.text(p.get_x()+p.get_width()/2., height + 0.5,height ,ha=\"center\")"
   ]
  },
  {
   "cell_type": "code",
   "execution_count": 329,
   "metadata": {},
   "outputs": [
    {
     "data": {
      "text/plain": [
       "0.09631147540983606"
      ]
     },
     "execution_count": 329,
     "metadata": {},
     "output_type": "execute_result"
    }
   ],
   "source": [
    "141/(141+1323)"
   ]
  },
  {
   "cell_type": "markdown",
   "metadata": {},
   "source": [
    "## build a model"
   ]
  },
  {
   "cell_type": "code",
   "execution_count": 429,
   "metadata": {},
   "outputs": [
    {
     "data": {
      "text/plain": [
       "IsolationForest(behaviour='new', bootstrap=False, contamination=0.099,\n",
       "                max_features=1.0, max_samples=75, n_estimators=14, n_jobs=None,\n",
       "                random_state=40, verbose=0, warm_start=False)"
      ]
     },
     "execution_count": 429,
     "metadata": {},
     "output_type": "execute_result"
    }
   ],
   "source": [
    "IF_model = IsolationForest(n_estimators=14,max_features=1.0,max_samples=75,random_state=40,contamination=0.099, behaviour='new')\n",
    "# param_grid = {'n_estimators': list(range(100, 800, 5)), \n",
    "#               'max_samples': list(range(100, 500, 5)), \n",
    "#               'contamination': [0.1, 0.2, 0.3, 0.4, 0.5], \n",
    "#               'bootstrap': [True, False], \n",
    "#               'n_jobs': [5, 10, 20, 30]}\n",
    "# IF_model = GridSearchCV(IF_model, param_grid ,scoring='average_precision', cv=5)\n",
    "IF_model.fit(train_data,train_label)"
   ]
  },
  {
   "cell_type": "markdown",
   "metadata": {},
   "source": [
    "## average precision score"
   ]
  },
  {
   "cell_type": "code",
   "execution_count": 433,
   "metadata": {},
   "outputs": [
    {
     "name": "stdout",
     "output_type": "stream",
     "text": [
      "Average precision-recall score: 0.05156\n"
     ]
    }
   ],
   "source": [
    "test_score=IF_model.decision_function(test_data)\n",
    "#print(test_score)\n",
    "average_precision = average_precision_score(test_label, test_score)\n",
    "print('Average precision-recall score: {0:0.5f}'.format(\n",
    "      average_precision))"
   ]
  },
  {
   "cell_type": "markdown",
   "metadata": {},
   "source": [
    "## make predict"
   ]
  },
  {
   "cell_type": "code",
   "execution_count": 331,
   "metadata": {},
   "outputs": [
    {
     "name": "stdout",
     "output_type": "stream",
     "text": [
      "              precision    recall  f1-score   support\n",
      "\n",
      "           0    0.97015   0.97892   0.97451       332\n",
      "           1    0.78125   0.71429   0.74627        35\n",
      "\n",
      "    accuracy                        0.95368       367\n",
      "   macro avg    0.87570   0.84660   0.86039       367\n",
      "weighted avg    0.95213   0.95368   0.95275       367\n",
      "\n",
      "[[325   7]\n",
      " [ 10  25]]\n"
     ]
    }
   ],
   "source": [
    "result_model=IF_model.predict(test_data)\n",
    "#report_model=report(test_label,result_model,digits=5)\n",
    "for i in range(len(result_model)):\n",
    "    if(result_model[i]==-1):\n",
    "        result_model[i]=1\n",
    "    else:\n",
    "        result_model[i]=0\n",
    "#print(result_model)\n",
    "report_model=report(test_label,result_model,digits=5)\n",
    "matrix_model=matrix(test_label,result_model)\n",
    "print(report_model)\n",
    "print(matrix_model)"
   ]
  },
  {
   "cell_type": "markdown",
   "metadata": {},
   "source": [
    "# Dataset3: creditcard (0.00173)"
   ]
  },
  {
   "cell_type": "markdown",
   "metadata": {},
   "source": [
    "## load data"
   ]
  },
  {
   "cell_type": "code",
   "execution_count": 441,
   "metadata": {},
   "outputs": [
    {
     "data": {
      "text/plain": [
       "(227845, 31)"
      ]
     },
     "execution_count": 441,
     "metadata": {},
     "output_type": "execute_result"
    }
   ],
   "source": [
    "credit_train=pd.read_csv('data/credit_train.csv',sep=',')\n",
    "credit_test=pd.read_csv('data/credit_test.csv',sep=',')\n",
    "\n",
    "#train_raw_data = http_train.drop(http_train.index[0])\n",
    "train_data = credit_train.drop(credit_train.columns[-1],axis='columns')\n",
    "train_label = credit_train.iloc[:,-1]\n",
    "\n",
    "#test_raw_data = http_test.drop(http_test.index[0])\n",
    "test_data = credit_test.drop(credit_test.columns[-1],axis='columns')\n",
    "test_label = credit_test.iloc[:,-1]\n",
    "\n",
    "#train_data.head()\n",
    "credit_train.shape"
   ]
  },
  {
   "cell_type": "code",
   "execution_count": 442,
   "metadata": {},
   "outputs": [
    {
     "data": {
      "image/png": "[encoded data removed]",
      "text/plain": [
       "<Figure size 504x360 with 1 Axes>"
      ]
     },
     "metadata": {
      "needs_background": "light"
     },
     "output_type": "display_data"
    }
   ],
   "source": [
    "plt.figure(figsize=(7,5))\n",
    "fig = sns.countplot(x=\"Class\", data=credit_train)\n",
    "for p in fig.patches:\n",
    "    height = p.get_height()\n",
    "    fig.text(p.get_x()+p.get_width()/2., height + 0.5,height ,ha=\"center\")"
   ]
  },
  {
   "cell_type": "code",
   "execution_count": 333,
   "metadata": {},
   "outputs": [
    {
     "data": {
      "text/plain": [
       "0.001729245759178389"
      ]
     },
     "execution_count": 333,
     "metadata": {},
     "output_type": "execute_result"
    }
   ],
   "source": [
    "394/(394+227451)"
   ]
  },
  {
   "cell_type": "markdown",
   "metadata": {},
   "source": [
    "## build a model"
   ]
  },
  {
   "cell_type": "code",
   "execution_count": 443,
   "metadata": {},
   "outputs": [
    {
     "data": {
      "text/plain": [
       "IsolationForest(behaviour='new', bootstrap=False,\n",
       "                contamination=0.001729245759178389, max_features=0.63,\n",
       "                max_samples='auto', n_estimators=100, n_jobs=-1,\n",
       "                random_state=42, verbose=0, warm_start=True)"
      ]
     },
     "execution_count": 443,
     "metadata": {},
     "output_type": "execute_result"
    }
   ],
   "source": [
    "IF_model = IsolationForest(warm_start=True,n_estimators=100,max_features=0.63,random_state=42,n_jobs=-1,contamination=0.001729245759178389, behaviour='new')\n",
    "# param_grid = {'n_estimators': list(range(100, 800, 5)), \n",
    "#               'max_samples': list(range(100, 500, 5)), \n",
    "#               'contamination': [0.1, 0.2, 0.3, 0.4, 0.5], \n",
    "#               'bootstrap': [True, False], \n",
    "#               'n_jobs': [5, 10, 20, 30]}\n",
    "# IF_model = GridSearchCV(IF_model, param_grid ,scoring='average_precision', cv=5)\n",
    "IF_model.fit(train_data,train_label)"
   ]
  },
  {
   "cell_type": "markdown",
   "metadata": {},
   "source": [
    "## average precision score"
   ]
  },
  {
   "cell_type": "code",
   "execution_count": 444,
   "metadata": {},
   "outputs": [
    {
     "name": "stdout",
     "output_type": "stream",
     "text": [
      "[0.2669452  0.18280734 0.14169691 ... 0.2576255  0.26556225 0.25745438]\n",
      "Average precision-recall score: 0.00088\n"
     ]
    }
   ],
   "source": [
    "test_score=IF_model.decision_function(test_data)\n",
    "print(test_score)\n",
    "average_precision = average_precision_score(test_label, test_score)\n",
    "print('Average precision-recall score: {0:0.5f}'.format(\n",
    "      average_precision))"
   ]
  },
  {
   "cell_type": "markdown",
   "metadata": {},
   "source": [
    "## make predict"
   ]
  },
  {
   "cell_type": "code",
   "execution_count": 410,
   "metadata": {},
   "outputs": [
    {
     "name": "stdout",
     "output_type": "stream",
     "text": [
      "              precision    recall  f1-score   support\n",
      "\n",
      "           0    0.99886   0.99875   0.99880     56864\n",
      "           1    0.31731   0.33673   0.32673        98\n",
      "\n",
      "    accuracy                        0.99761     56962\n",
      "   macro avg    0.65808   0.66774   0.66277     56962\n",
      "weighted avg    0.99768   0.99761   0.99765     56962\n",
      "\n",
      "[[56793    71]\n",
      " [   65    33]]\n"
     ]
    }
   ],
   "source": [
    "result_model=IF_model.predict(test_data)\n",
    "#report_model=report(test_label,result_model,digits=5)\n",
    "for i in range(len(result_model)):\n",
    "    if(result_model[i]==-1):\n",
    "        result_model[i]=1\n",
    "    else:\n",
    "        result_model[i]=0\n",
    "#print(result_model)\n",
    "report_model=report(test_label,result_model,digits=5)\n",
    "matrix_model=matrix(test_label,result_model)\n",
    "print(report_model)\n",
    "print(matrix_model)"
   ]
  },
  {
   "cell_type": "code",
   "execution_count": null,
   "metadata": {},
   "outputs": [],
   "source": []
  }
 ],
 "metadata": {
  "kernelspec": {
   "display_name": "Python 3",
   "language": "python",
   "name": "python3"
  }
 },
 "nbformat": 4,
 "nbformat_minor": 2
}
