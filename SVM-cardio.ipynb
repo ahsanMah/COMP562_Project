{
 "cells": [
  {
   "cell_type": "code",
   "execution_count": 1,
   "metadata": {},
   "outputs": [],
   "source": [
    "import pandas as pd\n",
    "import numpy as np\n",
    "import matplotlib.pyplot as plt\n",
    "from sklearn.metrics import classification_report, confusion_matrix\n",
    "from sklearn.metrics import average_precision_score\n",
    "from sklearn.metrics import precision_recall_curve\n",
    "from sklearn.svm import SVC\n",
    "%matplotlib inline"
   ]
  },
  {
   "cell_type": "markdown",
   "metadata": {},
   "source": [
    "### Loading the Dataset"
   ]
  },
  {
   "cell_type": "code",
   "execution_count": 2,
   "metadata": {},
   "outputs": [
    {
     "data": {
      "text/html": [
       "<div>\n",
       "<style scoped>\n",
       "    .dataframe tbody tr th:only-of-type {\n",
       "        vertical-align: middle;\n",
       "    }\n",
       "\n",
       "    .dataframe tbody tr th {\n",
       "        vertical-align: top;\n",
       "    }\n",
       "\n",
       "    .dataframe thead th {\n",
       "        text-align: right;\n",
       "    }\n",
       "</style>\n",
       "<table border=\"1\" class=\"dataframe\">\n",
       "  <thead>\n",
       "    <tr style=\"text-align: right;\">\n",
       "      <th></th>\n",
       "      <th>0</th>\n",
       "      <th>1</th>\n",
       "      <th>2</th>\n",
       "      <th>3</th>\n",
       "      <th>4</th>\n",
       "      <th>5</th>\n",
       "      <th>6</th>\n",
       "      <th>7</th>\n",
       "      <th>8</th>\n",
       "      <th>9</th>\n",
       "      <th>...</th>\n",
       "      <th>12</th>\n",
       "      <th>13</th>\n",
       "      <th>14</th>\n",
       "      <th>15</th>\n",
       "      <th>16</th>\n",
       "      <th>17</th>\n",
       "      <th>18</th>\n",
       "      <th>19</th>\n",
       "      <th>20</th>\n",
       "      <th>21</th>\n",
       "    </tr>\n",
       "  </thead>\n",
       "  <tbody>\n",
       "    <tr>\n",
       "      <td>0</td>\n",
       "      <td>-2.746331</td>\n",
       "      <td>0.674374</td>\n",
       "      <td>-0.203640</td>\n",
       "      <td>0.569296</td>\n",
       "      <td>-0.683598</td>\n",
       "      <td>-0.061401</td>\n",
       "      <td>-0.278295</td>\n",
       "      <td>1.161352</td>\n",
       "      <td>-0.862298</td>\n",
       "      <td>-0.420487</td>\n",
       "      <td>...</td>\n",
       "      <td>0.342006</td>\n",
       "      <td>-0.565334</td>\n",
       "      <td>-0.409388</td>\n",
       "      <td>-0.488279</td>\n",
       "      <td>-1.441887</td>\n",
       "      <td>-1.083848</td>\n",
       "      <td>-1.561651</td>\n",
       "      <td>-0.222985</td>\n",
       "      <td>-2.126605</td>\n",
       "      <td>0</td>\n",
       "    </tr>\n",
       "    <tr>\n",
       "      <td>1</td>\n",
       "      <td>-1.476526</td>\n",
       "      <td>-0.487369</td>\n",
       "      <td>-0.203640</td>\n",
       "      <td>0.159199</td>\n",
       "      <td>-0.127511</td>\n",
       "      <td>-0.061401</td>\n",
       "      <td>-0.278295</td>\n",
       "      <td>-1.171841</td>\n",
       "      <td>-0.051613</td>\n",
       "      <td>0.948799</td>\n",
       "      <td>...</td>\n",
       "      <td>-0.655829</td>\n",
       "      <td>-0.235325</td>\n",
       "      <td>-0.753395</td>\n",
       "      <td>2.414444</td>\n",
       "      <td>-0.600269</td>\n",
       "      <td>-0.828456</td>\n",
       "      <td>-0.940945</td>\n",
       "      <td>-0.323186</td>\n",
       "      <td>-0.493294</td>\n",
       "      <td>0</td>\n",
       "    </tr>\n",
       "    <tr>\n",
       "      <td>2</td>\n",
       "      <td>-0.312539</td>\n",
       "      <td>-0.380829</td>\n",
       "      <td>0.066072</td>\n",
       "      <td>-1.635871</td>\n",
       "      <td>-0.683598</td>\n",
       "      <td>-0.061401</td>\n",
       "      <td>-0.278295</td>\n",
       "      <td>0.144320</td>\n",
       "      <td>-0.630673</td>\n",
       "      <td>-0.420487</td>\n",
       "      <td>...</td>\n",
       "      <td>-1.368567</td>\n",
       "      <td>-0.455331</td>\n",
       "      <td>0.622631</td>\n",
       "      <td>-0.488279</td>\n",
       "      <td>-0.179460</td>\n",
       "      <td>0.001569</td>\n",
       "      <td>-0.182306</td>\n",
       "      <td>-0.556988</td>\n",
       "      <td>1.140018</td>\n",
       "      <td>0</td>\n",
       "    </tr>\n",
       "    <tr>\n",
       "      <td>3</td>\n",
       "      <td>-0.947441</td>\n",
       "      <td>3.464968</td>\n",
       "      <td>-0.203640</td>\n",
       "      <td>-0.961999</td>\n",
       "      <td>-0.683598</td>\n",
       "      <td>-0.061401</td>\n",
       "      <td>-0.278295</td>\n",
       "      <td>-1.231666</td>\n",
       "      <td>0.874885</td>\n",
       "      <td>-0.420487</td>\n",
       "      <td>...</td>\n",
       "      <td>0.342006</td>\n",
       "      <td>-0.675337</td>\n",
       "      <td>-1.097401</td>\n",
       "      <td>-0.488279</td>\n",
       "      <td>0.000886</td>\n",
       "      <td>0.001569</td>\n",
       "      <td>-0.113338</td>\n",
       "      <td>-0.523588</td>\n",
       "      <td>-0.493294</td>\n",
       "      <td>0</td>\n",
       "    </tr>\n",
       "    <tr>\n",
       "      <td>4</td>\n",
       "      <td>0.533997</td>\n",
       "      <td>-0.437880</td>\n",
       "      <td>-0.163445</td>\n",
       "      <td>0.697949</td>\n",
       "      <td>1.175504</td>\n",
       "      <td>-0.061401</td>\n",
       "      <td>-0.278295</td>\n",
       "      <td>0.802400</td>\n",
       "      <td>0.411636</td>\n",
       "      <td>-0.420487</td>\n",
       "      <td>...</td>\n",
       "      <td>-1.083472</td>\n",
       "      <td>0.094683</td>\n",
       "      <td>0.622631</td>\n",
       "      <td>-0.488279</td>\n",
       "      <td>0.181233</td>\n",
       "      <td>0.001569</td>\n",
       "      <td>0.300465</td>\n",
       "      <td>0.044218</td>\n",
       "      <td>1.140018</td>\n",
       "      <td>0</td>\n",
       "    </tr>\n",
       "  </tbody>\n",
       "</table>\n",
       "<p>5 rows × 22 columns</p>\n",
       "</div>"
      ],
      "text/plain": [
       "          0         1         2         3         4         5         6  \\\n",
       "0 -2.746331  0.674374 -0.203640  0.569296 -0.683598 -0.061401 -0.278295   \n",
       "1 -1.476526 -0.487369 -0.203640  0.159199 -0.127511 -0.061401 -0.278295   \n",
       "2 -0.312539 -0.380829  0.066072 -1.635871 -0.683598 -0.061401 -0.278295   \n",
       "3 -0.947441  3.464968 -0.203640 -0.961999 -0.683598 -0.061401 -0.278295   \n",
       "4  0.533997 -0.437880 -0.163445  0.697949  1.175504 -0.061401 -0.278295   \n",
       "\n",
       "          7         8         9  ...        12        13        14        15  \\\n",
       "0  1.161352 -0.862298 -0.420487  ...  0.342006 -0.565334 -0.409388 -0.488279   \n",
       "1 -1.171841 -0.051613  0.948799  ... -0.655829 -0.235325 -0.753395  2.414444   \n",
       "2  0.144320 -0.630673 -0.420487  ... -1.368567 -0.455331  0.622631 -0.488279   \n",
       "3 -1.231666  0.874885 -0.420487  ...  0.342006 -0.675337 -1.097401 -0.488279   \n",
       "4  0.802400  0.411636 -0.420487  ... -1.083472  0.094683  0.622631 -0.488279   \n",
       "\n",
       "         16        17        18        19        20  21  \n",
       "0 -1.441887 -1.083848 -1.561651 -0.222985 -2.126605   0  \n",
       "1 -0.600269 -0.828456 -0.940945 -0.323186 -0.493294   0  \n",
       "2 -0.179460  0.001569 -0.182306 -0.556988  1.140018   0  \n",
       "3  0.000886  0.001569 -0.113338 -0.523588 -0.493294   0  \n",
       "4  0.181233  0.001569  0.300465  0.044218  1.140018   0  \n",
       "\n",
       "[5 rows x 22 columns]"
      ]
     },
     "execution_count": 2,
     "metadata": {},
     "output_type": "execute_result"
    }
   ],
   "source": [
    "data_train = pd.read_csv(\"data/cardio_train.csv\")\n",
    "data_test = pd.read_csv(\"data/cardio_test.csv\")\n",
    "\n",
    "X_train = data_train.drop(data_train.columns[-1],axis=1)\n",
    "y_train = data_train.iloc[:,-1]\n",
    "\n",
    "X_test = data_test.drop(data_test.columns[-1],axis=1)\n",
    "y_test = data_test.iloc[:,-1]\n",
    "data_train.head()"
   ]
  },
  {
   "cell_type": "code",
   "execution_count": 3,
   "metadata": {},
   "outputs": [],
   "source": [
    "def svm(ker):\n",
    "    #training the model\n",
    "    svclassifier = SVC(kernel=ker, degree=5)\n",
    "    svclassifier.fit(X_train, y_train)\n",
    "    return svclassifier"
   ]
  },
  {
   "cell_type": "markdown",
   "metadata": {},
   "source": [
    "## 1. Gaussian Kernel"
   ]
  },
  {
   "cell_type": "markdown",
   "metadata": {},
   "source": [
    "### Training the model"
   ]
  },
  {
   "cell_type": "code",
   "execution_count": 5,
   "metadata": {},
   "outputs": [
    {
     "name": "stderr",
     "output_type": "stream",
     "text": [
      "/Users/yanli/opt/anaconda3/lib/python3.7/site-packages/sklearn/svm/base.py:193: FutureWarning: The default value of gamma will change from 'auto' to 'scale' in version 0.22 to account better for unscaled features. Set gamma explicitly to 'auto' or 'scale' to avoid this warning.\n",
      "  \"avoid this warning.\", FutureWarning)\n"
     ]
    }
   ],
   "source": [
    "#Gaussian Kernel\n",
    "svclassifier = svm('rbf')"
   ]
  },
  {
   "cell_type": "markdown",
   "metadata": {},
   "source": [
    "### Making predictions"
   ]
  },
  {
   "cell_type": "code",
   "execution_count": 6,
   "metadata": {},
   "outputs": [],
   "source": [
    "y_pred = svclassifier.predict(X_test)"
   ]
  },
  {
   "cell_type": "markdown",
   "metadata": {},
   "source": [
    "### Evaluating the result"
   ]
  },
  {
   "cell_type": "code",
   "execution_count": 7,
   "metadata": {},
   "outputs": [
    {
     "name": "stdout",
     "output_type": "stream",
     "text": [
      "[[329   3]\n",
      " [  1  34]]\n",
      "              precision    recall  f1-score   support\n",
      "\n",
      "           0       1.00      0.99      0.99       332\n",
      "           1       0.92      0.97      0.94        35\n",
      "\n",
      "    accuracy                           0.99       367\n",
      "   macro avg       0.96      0.98      0.97       367\n",
      "weighted avg       0.99      0.99      0.99       367\n",
      "\n"
     ]
    }
   ],
   "source": [
    "print(confusion_matrix(y_test,y_pred))\n",
    "print(classification_report(y_test,y_pred))"
   ]
  },
  {
   "cell_type": "markdown",
   "metadata": {},
   "source": [
    "### Average_precision"
   ]
  },
  {
   "cell_type": "code",
   "execution_count": 8,
   "metadata": {},
   "outputs": [
    {
     "name": "stdout",
     "output_type": "stream",
     "text": [
      "0.9897719087635055\n"
     ]
    }
   ],
   "source": [
    "y_scores = svclassifier.decision_function(X_test)\n",
    "avg_prec = average_precision_score(y_test, y_scores)\n",
    "print(avg_prec)"
   ]
  },
  {
   "cell_type": "code",
   "execution_count": 9,
   "metadata": {},
   "outputs": [
    {
     "data": {
      "text/plain": [
       "<matplotlib.legend.Legend at 0x111aae110>"
      ]
     },
     "execution_count": 9,
     "metadata": {},
     "output_type": "execute_result"
    },
    {
     "data": {
      "image/png": "[encoded data removed]",
      "text/plain": [
       "<Figure size 1152x576 with 1 Axes>"
      ]
     },
     "metadata": {
      "needs_background": "light"
     },
     "output_type": "display_data"
    }
   ],
   "source": [
    "## Getting Precision Recall Curves\n",
    "credit_prec, credit_recall, threshes = precision_recall_curve(y_test, y_scores)\n",
    "\n",
    "plt.figure(figsize=(16, 8))\n",
    "plt.plot(credit_recall, credit_prec, marker='.', label='SVM')\n",
    "\n",
    "plt.xlabel(\"Recall\")\n",
    "plt.ylabel(\"Precision\")\n",
    "plt.title('Cardio Precision-Recall curve: '\n",
    "                   'AP={0:0.2f}'.format(avg_prec))\n",
    "plt.legend()"
   ]
  },
  {
   "cell_type": "markdown",
   "metadata": {},
   "source": [
    "## 2. Linear Kernel"
   ]
  },
  {
   "cell_type": "markdown",
   "metadata": {},
   "source": [
    "### Training the model"
   ]
  },
  {
   "cell_type": "code",
   "execution_count": 10,
   "metadata": {},
   "outputs": [],
   "source": [
    "#Linear Kernel\n",
    "svclassifier = svm('linear')"
   ]
  },
  {
   "cell_type": "markdown",
   "metadata": {},
   "source": [
    "### Making predictions"
   ]
  },
  {
   "cell_type": "code",
   "execution_count": 11,
   "metadata": {},
   "outputs": [],
   "source": [
    "y_pred = svclassifier.predict(X_test)"
   ]
  },
  {
   "cell_type": "markdown",
   "metadata": {},
   "source": [
    "### Evaluating the result"
   ]
  },
  {
   "cell_type": "code",
   "execution_count": 12,
   "metadata": {},
   "outputs": [
    {
     "name": "stdout",
     "output_type": "stream",
     "text": [
      "[[330   2]\n",
      " [  2  33]]\n",
      "              precision    recall  f1-score   support\n",
      "\n",
      "           0       0.99      0.99      0.99       332\n",
      "           1       0.94      0.94      0.94        35\n",
      "\n",
      "    accuracy                           0.99       367\n",
      "   macro avg       0.97      0.97      0.97       367\n",
      "weighted avg       0.99      0.99      0.99       367\n",
      "\n"
     ]
    }
   ],
   "source": [
    "print(confusion_matrix(y_test,y_pred))\n",
    "print(classification_report(y_test,y_pred))"
   ]
  },
  {
   "cell_type": "markdown",
   "metadata": {},
   "source": [
    "### Average_precision"
   ]
  },
  {
   "cell_type": "code",
   "execution_count": 13,
   "metadata": {},
   "outputs": [
    {
     "data": {
      "text/plain": [
       "0.9890720390720391"
      ]
     },
     "execution_count": 13,
     "metadata": {},
     "output_type": "execute_result"
    }
   ],
   "source": [
    "y_scores = svclassifier.decision_function(X_test)\n",
    "average_precision_score(y_test, y_scores)"
   ]
  },
  {
   "cell_type": "markdown",
   "metadata": {},
   "source": [
    "## 3. Polynomial Kernel"
   ]
  },
  {
   "cell_type": "markdown",
   "metadata": {},
   "source": [
    "### Training the model"
   ]
  },
  {
   "cell_type": "code",
   "execution_count": 14,
   "metadata": {},
   "outputs": [
    {
     "name": "stderr",
     "output_type": "stream",
     "text": [
      "/Users/yanli/opt/anaconda3/lib/python3.7/site-packages/sklearn/svm/base.py:193: FutureWarning: The default value of gamma will change from 'auto' to 'scale' in version 0.22 to account better for unscaled features. Set gamma explicitly to 'auto' or 'scale' to avoid this warning.\n",
      "  \"avoid this warning.\", FutureWarning)\n"
     ]
    }
   ],
   "source": [
    "#Polynomial Kernel\n",
    "svclassifier = svm('poly')"
   ]
  },
  {
   "cell_type": "markdown",
   "metadata": {},
   "source": [
    "### Making predictions"
   ]
  },
  {
   "cell_type": "code",
   "execution_count": 15,
   "metadata": {},
   "outputs": [],
   "source": [
    "y_pred = svclassifier.predict(X_test)"
   ]
  },
  {
   "cell_type": "markdown",
   "metadata": {},
   "source": [
    "### Evaluating the result"
   ]
  },
  {
   "cell_type": "code",
   "execution_count": 16,
   "metadata": {},
   "outputs": [
    {
     "name": "stdout",
     "output_type": "stream",
     "text": [
      "[[331   1]\n",
      " [  1  34]]\n",
      "              precision    recall  f1-score   support\n",
      "\n",
      "           0       1.00      1.00      1.00       332\n",
      "           1       0.97      0.97      0.97        35\n",
      "\n",
      "    accuracy                           0.99       367\n",
      "   macro avg       0.98      0.98      0.98       367\n",
      "weighted avg       0.99      0.99      0.99       367\n",
      "\n"
     ]
    }
   ],
   "source": [
    "print(confusion_matrix(y_test,y_pred))\n",
    "print(classification_report(y_test,y_pred))"
   ]
  },
  {
   "cell_type": "markdown",
   "metadata": {},
   "source": [
    "### Average_precision"
   ]
  },
  {
   "cell_type": "code",
   "execution_count": 17,
   "metadata": {},
   "outputs": [
    {
     "data": {
      "text/plain": [
       "0.9600925561865812"
      ]
     },
     "execution_count": 17,
     "metadata": {},
     "output_type": "execute_result"
    }
   ],
   "source": [
    "y_scores = svclassifier.decision_function(X_test)\n",
    "average_precision_score(y_test, y_scores)"
   ]
  },
  {
   "cell_type": "markdown",
   "metadata": {},
   "source": [
    "## 4. Sigmoid Kernel"
   ]
  },
  {
   "cell_type": "markdown",
   "metadata": {},
   "source": [
    "### Training the model"
   ]
  },
  {
   "cell_type": "code",
   "execution_count": 18,
   "metadata": {
    "scrolled": true
   },
   "outputs": [
    {
     "name": "stderr",
     "output_type": "stream",
     "text": [
      "/Users/yanli/opt/anaconda3/lib/python3.7/site-packages/sklearn/svm/base.py:193: FutureWarning: The default value of gamma will change from 'auto' to 'scale' in version 0.22 to account better for unscaled features. Set gamma explicitly to 'auto' or 'scale' to avoid this warning.\n",
      "  \"avoid this warning.\", FutureWarning)\n"
     ]
    }
   ],
   "source": [
    "#Sigmoid Kernel\n",
    "svclassifier = svm('sigmoid')"
   ]
  },
  {
   "cell_type": "markdown",
   "metadata": {},
   "source": [
    "### Making predictions"
   ]
  },
  {
   "cell_type": "code",
   "execution_count": 19,
   "metadata": {},
   "outputs": [],
   "source": [
    "y_pred = svclassifier.predict(X_test)"
   ]
  },
  {
   "cell_type": "markdown",
   "metadata": {},
   "source": [
    "### Evaluating the result"
   ]
  },
  {
   "cell_type": "code",
   "execution_count": 20,
   "metadata": {},
   "outputs": [
    {
     "name": "stdout",
     "output_type": "stream",
     "text": [
      "[[309  23]\n",
      " [ 25  10]]\n",
      "              precision    recall  f1-score   support\n",
      "\n",
      "           0       0.93      0.93      0.93       332\n",
      "           1       0.30      0.29      0.29        35\n",
      "\n",
      "    accuracy                           0.87       367\n",
      "   macro avg       0.61      0.61      0.61       367\n",
      "weighted avg       0.87      0.87      0.87       367\n",
      "\n"
     ]
    }
   ],
   "source": [
    "print(confusion_matrix(y_test,y_pred))\n",
    "print(classification_report(y_test,y_pred))"
   ]
  },
  {
   "cell_type": "markdown",
   "metadata": {},
   "source": [
    "### Average_precision"
   ]
  },
  {
   "cell_type": "code",
   "execution_count": 21,
   "metadata": {},
   "outputs": [
    {
     "data": {
      "text/plain": [
       "0.22770131001233668"
      ]
     },
     "execution_count": 21,
     "metadata": {},
     "output_type": "execute_result"
    }
   ],
   "source": [
    "y_scores = svclassifier.decision_function(X_test)\n",
    "average_precision_score(y_test, y_scores)"
   ]
  }
 ],
 "metadata": {
  "kernelspec": {
   "display_name": "Python 3",
   "language": "python",
   "name": "python3"
  },
  "language_info": {
   "codemirror_mode": {
    "name": "ipython",
    "version": 3
   },
   "file_extension": ".py",
   "mimetype": "text/x-python",
   "name": "python",
   "nbconvert_exporter": "python",
   "pygments_lexer": "ipython3",
   "version": "3.7.4"
  }
 },
 "nbformat": 4,
 "nbformat_minor": 2
}
