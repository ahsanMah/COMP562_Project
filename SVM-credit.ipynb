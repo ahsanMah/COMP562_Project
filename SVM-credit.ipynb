{
 "cells": [
  {
   "cell_type": "code",
   "execution_count": 1,
   "metadata": {},
   "outputs": [],
   "source": [
    "import pandas as pd\n",
    "import numpy as np\n",
    "import matplotlib.pyplot as plt\n",
    "from sklearn.metrics import classification_report, confusion_matrix\n",
    "from sklearn.metrics import average_precision_score\n",
    "from sklearn.metrics import precision_recall_curve\n",
    "from sklearn.svm import SVC\n",
    "%matplotlib inline"
   ]
  },
  {
   "cell_type": "markdown",
   "metadata": {},
   "source": [
    "### Loading the Dataset"
   ]
  },
  {
   "cell_type": "code",
   "execution_count": 2,
   "metadata": {},
   "outputs": [
    {
     "data": {
      "text/html": [
       "<div>\n",
       "<style scoped>\n",
       "    .dataframe tbody tr th:only-of-type {\n",
       "        vertical-align: middle;\n",
       "    }\n",
       "\n",
       "    .dataframe tbody tr th {\n",
       "        vertical-align: top;\n",
       "    }\n",
       "\n",
       "    .dataframe thead th {\n",
       "        text-align: right;\n",
       "    }\n",
       "</style>\n",
       "<table border=\"1\" class=\"dataframe\">\n",
       "  <thead>\n",
       "    <tr style=\"text-align: right;\">\n",
       "      <th></th>\n",
       "      <th>V1</th>\n",
       "      <th>V2</th>\n",
       "      <th>V3</th>\n",
       "      <th>V4</th>\n",
       "      <th>V5</th>\n",
       "      <th>V6</th>\n",
       "      <th>V7</th>\n",
       "      <th>V8</th>\n",
       "      <th>V9</th>\n",
       "      <th>V10</th>\n",
       "      <th>...</th>\n",
       "      <th>V21</th>\n",
       "      <th>V22</th>\n",
       "      <th>V23</th>\n",
       "      <th>V24</th>\n",
       "      <th>V25</th>\n",
       "      <th>V26</th>\n",
       "      <th>V27</th>\n",
       "      <th>V28</th>\n",
       "      <th>Amount</th>\n",
       "      <th>Class</th>\n",
       "    </tr>\n",
       "  </thead>\n",
       "  <tbody>\n",
       "    <tr>\n",
       "      <td>0</td>\n",
       "      <td>1.114107</td>\n",
       "      <td>0.188459</td>\n",
       "      <td>0.149144</td>\n",
       "      <td>1.153868</td>\n",
       "      <td>0.224011</td>\n",
       "      <td>0.396246</td>\n",
       "      <td>0.020168</td>\n",
       "      <td>0.217603</td>\n",
       "      <td>-0.141379</td>\n",
       "      <td>0.090719</td>\n",
       "      <td>...</td>\n",
       "      <td>0.065655</td>\n",
       "      <td>0.367010</td>\n",
       "      <td>-0.090954</td>\n",
       "      <td>-0.271464</td>\n",
       "      <td>0.646597</td>\n",
       "      <td>-0.217493</td>\n",
       "      <td>0.035881</td>\n",
       "      <td>-0.004553</td>\n",
       "      <td>1.00</td>\n",
       "      <td>0</td>\n",
       "    </tr>\n",
       "    <tr>\n",
       "      <td>1</td>\n",
       "      <td>1.910941</td>\n",
       "      <td>0.686774</td>\n",
       "      <td>-0.595770</td>\n",
       "      <td>3.817385</td>\n",
       "      <td>0.288991</td>\n",
       "      <td>-0.660187</td>\n",
       "      <td>0.365387</td>\n",
       "      <td>-0.261102</td>\n",
       "      <td>-1.226056</td>\n",
       "      <td>1.527476</td>\n",
       "      <td>...</td>\n",
       "      <td>0.266636</td>\n",
       "      <td>0.805442</td>\n",
       "      <td>0.114189</td>\n",
       "      <td>0.401013</td>\n",
       "      <td>0.069967</td>\n",
       "      <td>0.108304</td>\n",
       "      <td>-0.039724</td>\n",
       "      <td>-0.047338</td>\n",
       "      <td>5.14</td>\n",
       "      <td>0</td>\n",
       "    </tr>\n",
       "    <tr>\n",
       "      <td>2</td>\n",
       "      <td>0.013514</td>\n",
       "      <td>0.452287</td>\n",
       "      <td>-0.738086</td>\n",
       "      <td>-0.950309</td>\n",
       "      <td>1.405159</td>\n",
       "      <td>-0.423082</td>\n",
       "      <td>1.115085</td>\n",
       "      <td>-0.073982</td>\n",
       "      <td>-0.349808</td>\n",
       "      <td>-0.362877</td>\n",
       "      <td>...</td>\n",
       "      <td>0.152423</td>\n",
       "      <td>0.411430</td>\n",
       "      <td>-0.017938</td>\n",
       "      <td>0.227643</td>\n",
       "      <td>-0.857711</td>\n",
       "      <td>0.444818</td>\n",
       "      <td>0.136231</td>\n",
       "      <td>0.229043</td>\n",
       "      <td>22.95</td>\n",
       "      <td>0</td>\n",
       "    </tr>\n",
       "    <tr>\n",
       "      <td>3</td>\n",
       "      <td>-1.273388</td>\n",
       "      <td>0.270815</td>\n",
       "      <td>1.256719</td>\n",
       "      <td>1.064659</td>\n",
       "      <td>-1.401545</td>\n",
       "      <td>0.234430</td>\n",
       "      <td>1.194255</td>\n",
       "      <td>0.412955</td>\n",
       "      <td>-0.528987</td>\n",
       "      <td>-1.038559</td>\n",
       "      <td>...</td>\n",
       "      <td>0.407454</td>\n",
       "      <td>0.673393</td>\n",
       "      <td>0.759378</td>\n",
       "      <td>0.580046</td>\n",
       "      <td>-0.310258</td>\n",
       "      <td>-0.463227</td>\n",
       "      <td>-0.023899</td>\n",
       "      <td>0.134970</td>\n",
       "      <td>325.00</td>\n",
       "      <td>0</td>\n",
       "    </tr>\n",
       "    <tr>\n",
       "      <td>4</td>\n",
       "      <td>1.978615</td>\n",
       "      <td>0.114560</td>\n",
       "      <td>-1.322450</td>\n",
       "      <td>0.577586</td>\n",
       "      <td>0.348417</td>\n",
       "      <td>-0.376863</td>\n",
       "      <td>-0.211046</td>\n",
       "      <td>-0.123861</td>\n",
       "      <td>1.623757</td>\n",
       "      <td>-0.637724</td>\n",
       "      <td>...</td>\n",
       "      <td>-0.138925</td>\n",
       "      <td>-0.031185</td>\n",
       "      <td>0.191191</td>\n",
       "      <td>0.598530</td>\n",
       "      <td>-0.182579</td>\n",
       "      <td>0.389251</td>\n",
       "      <td>-0.075180</td>\n",
       "      <td>-0.040764</td>\n",
       "      <td>14.05</td>\n",
       "      <td>0</td>\n",
       "    </tr>\n",
       "  </tbody>\n",
       "</table>\n",
       "<p>5 rows × 30 columns</p>\n",
       "</div>"
      ],
      "text/plain": [
       "         V1        V2        V3        V4        V5        V6        V7  \\\n",
       "0  1.114107  0.188459  0.149144  1.153868  0.224011  0.396246  0.020168   \n",
       "1  1.910941  0.686774 -0.595770  3.817385  0.288991 -0.660187  0.365387   \n",
       "2  0.013514  0.452287 -0.738086 -0.950309  1.405159 -0.423082  1.115085   \n",
       "3 -1.273388  0.270815  1.256719  1.064659 -1.401545  0.234430  1.194255   \n",
       "4  1.978615  0.114560 -1.322450  0.577586  0.348417 -0.376863 -0.211046   \n",
       "\n",
       "         V8        V9       V10  ...       V21       V22       V23       V24  \\\n",
       "0  0.217603 -0.141379  0.090719  ...  0.065655  0.367010 -0.090954 -0.271464   \n",
       "1 -0.261102 -1.226056  1.527476  ...  0.266636  0.805442  0.114189  0.401013   \n",
       "2 -0.073982 -0.349808 -0.362877  ...  0.152423  0.411430 -0.017938  0.227643   \n",
       "3  0.412955 -0.528987 -1.038559  ...  0.407454  0.673393  0.759378  0.580046   \n",
       "4 -0.123861  1.623757 -0.637724  ... -0.138925 -0.031185  0.191191  0.598530   \n",
       "\n",
       "        V25       V26       V27       V28  Amount  Class  \n",
       "0  0.646597 -0.217493  0.035881 -0.004553    1.00      0  \n",
       "1  0.069967  0.108304 -0.039724 -0.047338    5.14      0  \n",
       "2 -0.857711  0.444818  0.136231  0.229043   22.95      0  \n",
       "3 -0.310258 -0.463227 -0.023899  0.134970  325.00      0  \n",
       "4 -0.182579  0.389251 -0.075180 -0.040764   14.05      0  \n",
       "\n",
       "[5 rows x 30 columns]"
      ]
     },
     "execution_count": 2,
     "metadata": {},
     "output_type": "execute_result"
    }
   ],
   "source": [
    "data_train = pd.read_csv(\"data/credit_train_reduced.csv\")\n",
    "data_test = pd.read_csv(\"data/credit_test_reduced.csv\")\n",
    "\n",
    "X_train = data_train.drop(data_train.columns[-1],axis=1)\n",
    "y_train = data_train.iloc[:,-1]\n",
    "\n",
    "X_test = data_test.drop(data_test.columns[-1],axis=1)\n",
    "y_test = data_test.iloc[:,-1]\n",
    "data_train.head()"
   ]
  },
  {
   "cell_type": "code",
   "execution_count": 3,
   "metadata": {},
   "outputs": [],
   "source": [
    "def svm(ker):\n",
    "    #training the model\n",
    "    svclassifier = SVC(kernel=ker, degree=3)\n",
    "    svclassifier.fit(X_train, y_train)\n",
    "    return svclassifier"
   ]
  },
  {
   "cell_type": "markdown",
   "metadata": {},
   "source": [
    "## 1. Gaussian Kernel"
   ]
  },
  {
   "cell_type": "markdown",
   "metadata": {},
   "source": [
    "### Training the model"
   ]
  },
  {
   "cell_type": "code",
   "execution_count": 26,
   "metadata": {},
   "outputs": [
    {
     "name": "stderr",
     "output_type": "stream",
     "text": [
      "/Users/yanli/opt/anaconda3/lib/python3.7/site-packages/sklearn/svm/base.py:193: FutureWarning: The default value of gamma will change from 'auto' to 'scale' in version 0.22 to account better for unscaled features. Set gamma explicitly to 'auto' or 'scale' to avoid this warning.\n",
      "  \"avoid this warning.\", FutureWarning)\n"
     ]
    }
   ],
   "source": [
    "#Gaussian Kernel\n",
    "svclassifier = svm('rbf')"
   ]
  },
  {
   "cell_type": "markdown",
   "metadata": {},
   "source": [
    "### Making predictions"
   ]
  },
  {
   "cell_type": "code",
   "execution_count": 27,
   "metadata": {},
   "outputs": [],
   "source": [
    "y_pred = svclassifier.predict(X_test)"
   ]
  },
  {
   "cell_type": "markdown",
   "metadata": {},
   "source": [
    "### Evaluating the result"
   ]
  },
  {
   "cell_type": "code",
   "execution_count": 28,
   "metadata": {},
   "outputs": [
    {
     "name": "stdout",
     "output_type": "stream",
     "text": [
      "[[5686    1]\n",
      " [  52   46]]\n",
      "              precision    recall  f1-score   support\n",
      "\n",
      "           0       0.99      1.00      1.00      5687\n",
      "           1       0.98      0.47      0.63        98\n",
      "\n",
      "    accuracy                           0.99      5785\n",
      "   macro avg       0.98      0.73      0.81      5785\n",
      "weighted avg       0.99      0.99      0.99      5785\n",
      "\n"
     ]
    }
   ],
   "source": [
    "print(confusion_matrix(y_test,y_pred))\n",
    "print(classification_report(y_test,y_pred))"
   ]
  },
  {
   "cell_type": "markdown",
   "metadata": {},
   "source": [
    "### Average_precision"
   ]
  },
  {
   "cell_type": "code",
   "execution_count": 29,
   "metadata": {},
   "outputs": [
    {
     "name": "stdout",
     "output_type": "stream",
     "text": [
      "0.8632895072570671\n"
     ]
    }
   ],
   "source": [
    "y_scores = svclassifier.decision_function(X_test)\n",
    "avg_prec = average_precision_score(y_test, y_scores)\n",
    "print(avg_prec)"
   ]
  },
  {
   "cell_type": "code",
   "execution_count": 30,
   "metadata": {},
   "outputs": [
    {
     "data": {
      "text/plain": [
       "<matplotlib.legend.Legend at 0x1a20dabad0>"
      ]
     },
     "execution_count": 30,
     "metadata": {},
     "output_type": "execute_result"
    },
    {
     "data": {
      "image/png": "[encoded data removed]",
      "text/plain": [
       "<Figure size 1152x576 with 1 Axes>"
      ]
     },
     "metadata": {
      "needs_background": "light"
     },
     "output_type": "display_data"
    }
   ],
   "source": [
    "## Getting Precision Recall Curves\n",
    "credit_prec, credit_recall, threshes = precision_recall_curve(y_test, y_scores)\n",
    "\n",
    "plt.figure(figsize=(16, 8))\n",
    "plt.plot(credit_recall, credit_prec, marker='.', label='SVM')\n",
    "\n",
    "plt.xlabel(\"Recall\")\n",
    "plt.ylabel(\"Precision\")\n",
    "plt.title('Credit Card Precision-Recall curve: '\n",
    "                   'AP={0:0.2f}'.format(avg_prec))\n",
    "plt.legend()"
   ]
  },
  {
   "cell_type": "markdown",
   "metadata": {},
   "source": [
    "## 2. Linear Kernel"
   ]
  },
  {
   "cell_type": "markdown",
   "metadata": {},
   "source": [
    "### Training the model"
   ]
  },
  {
   "cell_type": "code",
   "execution_count": 31,
   "metadata": {},
   "outputs": [],
   "source": [
    "#Linear Kernel\n",
    "svclassifier = svm('linear')"
   ]
  },
  {
   "cell_type": "markdown",
   "metadata": {},
   "source": [
    "### Making predictions"
   ]
  },
  {
   "cell_type": "code",
   "execution_count": 32,
   "metadata": {},
   "outputs": [],
   "source": [
    "y_pred = svclassifier.predict(X_test)"
   ]
  },
  {
   "cell_type": "markdown",
   "metadata": {},
   "source": [
    "### Evaluating the result"
   ]
  },
  {
   "cell_type": "code",
   "execution_count": 33,
   "metadata": {},
   "outputs": [
    {
     "name": "stdout",
     "output_type": "stream",
     "text": [
      "[[5682    5]\n",
      " [  18   80]]\n",
      "              precision    recall  f1-score   support\n",
      "\n",
      "           0       1.00      1.00      1.00      5687\n",
      "           1       0.94      0.82      0.87        98\n",
      "\n",
      "    accuracy                           1.00      5785\n",
      "   macro avg       0.97      0.91      0.94      5785\n",
      "weighted avg       1.00      1.00      1.00      5785\n",
      "\n"
     ]
    }
   ],
   "source": [
    "print(confusion_matrix(y_test,y_pred))\n",
    "print(classification_report(y_test,y_pred))"
   ]
  },
  {
   "cell_type": "markdown",
   "metadata": {},
   "source": [
    "### Average_precision"
   ]
  },
  {
   "cell_type": "code",
   "execution_count": 34,
   "metadata": {},
   "outputs": [
    {
     "data": {
      "text/plain": [
       "0.861885973569755"
      ]
     },
     "execution_count": 34,
     "metadata": {},
     "output_type": "execute_result"
    }
   ],
   "source": [
    "y_scores = svclassifier.decision_function(X_test)\n",
    "average_precision_score(y_test, y_scores)"
   ]
  },
  {
   "cell_type": "markdown",
   "metadata": {},
   "source": [
    "## 3. Sigmoid Kernel"
   ]
  },
  {
   "cell_type": "markdown",
   "metadata": {},
   "source": [
    "### Training the model"
   ]
  },
  {
   "cell_type": "code",
   "execution_count": 4,
   "metadata": {
    "scrolled": true
   },
   "outputs": [
    {
     "name": "stderr",
     "output_type": "stream",
     "text": [
      "/Users/yanli/opt/anaconda3/lib/python3.7/site-packages/sklearn/svm/base.py:193: FutureWarning: The default value of gamma will change from 'auto' to 'scale' in version 0.22 to account better for unscaled features. Set gamma explicitly to 'auto' or 'scale' to avoid this warning.\n",
      "  \"avoid this warning.\", FutureWarning)\n"
     ]
    }
   ],
   "source": [
    "#Sigmoid Kernel\n",
    "svclassifier = svm('sigmoid')"
   ]
  },
  {
   "cell_type": "markdown",
   "metadata": {},
   "source": [
    "### Making predictions"
   ]
  },
  {
   "cell_type": "code",
   "execution_count": 5,
   "metadata": {},
   "outputs": [],
   "source": [
    "y_pred = svclassifier.predict(X_test)"
   ]
  },
  {
   "cell_type": "markdown",
   "metadata": {},
   "source": [
    "### Evaluating the result"
   ]
  },
  {
   "cell_type": "code",
   "execution_count": 6,
   "metadata": {},
   "outputs": [
    {
     "name": "stdout",
     "output_type": "stream",
     "text": [
      "[[5624   63]\n",
      " [  79   19]]\n",
      "              precision    recall  f1-score   support\n",
      "\n",
      "           0       0.99      0.99      0.99      5687\n",
      "           1       0.23      0.19      0.21        98\n",
      "\n",
      "    accuracy                           0.98      5785\n",
      "   macro avg       0.61      0.59      0.60      5785\n",
      "weighted avg       0.97      0.98      0.97      5785\n",
      "\n"
     ]
    }
   ],
   "source": [
    "print(confusion_matrix(y_test,y_pred))\n",
    "print(classification_report(y_test,y_pred))"
   ]
  },
  {
   "cell_type": "markdown",
   "metadata": {},
   "source": [
    "### Average_precision"
   ]
  },
  {
   "cell_type": "code",
   "execution_count": 7,
   "metadata": {},
   "outputs": [
    {
     "data": {
      "text/plain": [
       "0.18152188369694114"
      ]
     },
     "execution_count": 7,
     "metadata": {},
     "output_type": "execute_result"
    }
   ],
   "source": [
    "y_scores = svclassifier.decision_function(X_test)\n",
    "average_precision_score(y_test, y_scores)"
   ]
  }
 ],
 "metadata": {
  "kernelspec": {
   "display_name": "Python 3",
   "language": "python",
   "name": "python3"
  },
  "language_info": {
   "codemirror_mode": {
    "name": "ipython",
    "version": 3
   },
   "file_extension": ".py",
   "mimetype": "text/x-python",
   "name": "python",
   "nbconvert_exporter": "python",
   "pygments_lexer": "ipython3",
   "version": "3.7.4"
  }
 },
 "nbformat": 4,
 "nbformat_minor": 2
}
