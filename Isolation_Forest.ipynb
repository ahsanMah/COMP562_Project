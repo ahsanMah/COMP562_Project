{
 "cells": [
  {
   "cell_type": "code",
   "execution_count": 85,
   "metadata": {},
   "outputs": [],
   "source": [
    "import pandas as pd\n",
    "import numpy as np\n",
    "from sklearn.metrics import classification_report as report\n",
    "from sklearn.model_selection import GridSearchCV\n",
    "from sklearn.model_selection import ParameterGrid\n",
    "from sklearn.metrics import confusion_matrix as matrix\n",
    "from sklearn.metrics import average_precision_score\n",
    "from sklearn.ensemble import IsolationForest\n",
    "RANDOM_STATE = 42\n",
    "np.random.seed(seed=RANDOM_STATE)"
   ]
  },
  {
   "cell_type": "markdown",
   "metadata": {},
   "source": [
    "# Dataset1: http(contamination:0.0039)"
   ]
  },
  {
   "cell_type": "markdown",
   "metadata": {},
   "source": [
    "## load train/test data"
   ]
  },
  {
   "cell_type": "code",
   "execution_count": 86,
   "metadata": {},
   "outputs": [
    {
     "data": {
      "text/plain": [
       "(453998, 4)"
      ]
     },
     "execution_count": 86,
     "metadata": {},
     "output_type": "execute_result"
    }
   ],
   "source": [
    "http_train=pd.read_csv('data/http_train.csv',sep=',')\n",
    "http_test=pd.read_csv('data/http_test.csv',sep=',')\n",
    "\n",
    "#train_raw_data = http_train.drop(http_train.index[0])\n",
    "train_data = http_train.drop(http_train.columns[-1],axis='columns')\n",
    "train_label = http_train.iloc[:,-1]\n",
    "\n",
    "#test_raw_data = http_test.drop(http_test.index[0])\n",
    "test_data = http_test.drop(http_test.columns[-1],axis='columns')\n",
    "test_label = http_test.iloc[:,-1]\n",
    "\n",
    "#train_data.head()\n",
    "http_train.shape"
   ]
  },
  {
   "cell_type": "markdown",
   "metadata": {},
   "source": [
    "## build a model(isolation forest)"
   ]
  },
  {
   "cell_type": "code",
   "execution_count": 89,
   "metadata": {},
   "outputs": [
    {
     "data": {
      "text/plain": [
       "IsolationForest(behaviour='new', bootstrap=False, contamination=0.0039,\n",
       "                max_features=1.0, max_samples='auto', n_estimators=100,\n",
       "                n_jobs=None, random_state=42, verbose=0, warm_start=False)"
      ]
     },
     "execution_count": 89,
     "metadata": {},
     "output_type": "execute_result"
    }
   ],
   "source": [
    "IF_model = IsolationForest(max_samples=\"auto\",random_state=42,contamination=0.0039, behaviour='new')\n",
    "# param_grid = {'n_estimators': list(range(100, 800, 5)), \n",
    "#               'max_samples': list(range(100, 500, 5)), \n",
    "#               'contamination': [0.1, 0.2, 0.3, 0.4, 0.5], \n",
    "#               'bootstrap': [True, False], \n",
    "#               'n_jobs': [5, 10, 20, 30]}\n",
    "# IF_model = GridSearchCV(IF_model, param_grid ,scoring='average_precision', cv=5)\n",
    "IF_model.fit(train_data,train_label)"
   ]
  },
  {
   "cell_type": "markdown",
   "metadata": {},
   "source": [
    "## make predict"
   ]
  },
  {
   "cell_type": "code",
   "execution_count": 90,
   "metadata": {},
   "outputs": [
    {
     "name": "stdout",
     "output_type": "stream",
     "text": [
      "              precision    recall  f1-score   support\n",
      "\n",
      "           0    0.99625   0.99980   0.99802    113058\n",
      "           1    0.42500   0.03846   0.07054       442\n",
      "\n",
      "    accuracy                        0.99605    113500\n",
      "   macro avg    0.71063   0.51913   0.53428    113500\n",
      "weighted avg    0.99403   0.99605   0.99441    113500\n",
      "\n",
      "[[113035     23]\n",
      " [   425     17]]\n"
     ]
    }
   ],
   "source": [
    "result_model=IF_model.predict(test_data)\n",
    "#report_model=report(test_label,result_model,digits=5)\n",
    "for i in range(len(result_model)):\n",
    "    if(result_model[i]==-1):\n",
    "        result_model[i]=1\n",
    "    else:\n",
    "        result_model[i]=0\n",
    "#print(result_model)\n",
    "report_model=report(test_label,result_model,digits=5)\n",
    "matrix_model=matrix(test_label,result_model)\n",
    "print(report_model)\n",
    "print(matrix_model)"
   ]
  },
  {
   "cell_type": "markdown",
   "metadata": {},
   "source": [
    "# Dataset2: Cardio (Contamination : 0.096)"
   ]
  },
  {
   "cell_type": "markdown",
   "metadata": {},
   "source": [
    "## load train/test data"
   ]
  },
  {
   "cell_type": "code",
   "execution_count": 78,
   "metadata": {},
   "outputs": [
    {
     "data": {
      "text/plain": [
       "(1464, 22)"
      ]
     },
     "execution_count": 78,
     "metadata": {},
     "output_type": "execute_result"
    }
   ],
   "source": [
    "cardio_train=pd.read_csv('data/cardio_train.csv',sep=',')\n",
    "cardio_test=pd.read_csv('data/cardio_test.csv',sep=',')\n",
    "\n",
    "#train_raw_data = http_train.drop(http_train.index[0])\n",
    "train_data = cardio_train.drop(cardio_train.columns[-1],axis='columns')\n",
    "train_label = cardio_train.iloc[:,-1]\n",
    "\n",
    "#test_raw_data = http_test.drop(http_test.index[0])\n",
    "test_data = cardio_test.drop(cardio_test.columns[-1],axis='columns')\n",
    "test_label = cardio_test.iloc[:,-1]\n",
    "\n",
    "#train_data.head()\n",
    "cardio_train.shape"
   ]
  },
  {
   "cell_type": "markdown",
   "metadata": {},
   "source": [
    "## build a model"
   ]
  },
  {
   "cell_type": "code",
   "execution_count": 79,
   "metadata": {},
   "outputs": [
    {
     "data": {
      "text/plain": [
       "IsolationForest(behaviour='new', bootstrap=False, contamination=0.096,\n",
       "                max_features=1.0, max_samples='auto', n_estimators=100,\n",
       "                n_jobs=None, random_state=42, verbose=0, warm_start=False)"
      ]
     },
     "execution_count": 79,
     "metadata": {},
     "output_type": "execute_result"
    }
   ],
   "source": [
    "IF_model = IsolationForest(max_samples=\"auto\",random_state=42,contamination=0.096, behaviour='new')\n",
    "# param_grid = {'n_estimators': list(range(100, 800, 5)), \n",
    "#               'max_samples': list(range(100, 500, 5)), \n",
    "#               'contamination': [0.1, 0.2, 0.3, 0.4, 0.5], \n",
    "#               'bootstrap': [True, False], \n",
    "#               'n_jobs': [5, 10, 20, 30]}\n",
    "# IF_model = GridSearchCV(IF_model, param_grid ,scoring='average_precision', cv=5)\n",
    "IF_model.fit(train_data,train_label)"
   ]
  },
  {
   "cell_type": "markdown",
   "metadata": {},
   "source": [
    "## make predict"
   ]
  },
  {
   "cell_type": "code",
   "execution_count": 80,
   "metadata": {},
   "outputs": [
    {
     "name": "stdout",
     "output_type": "stream",
     "text": [
      "              precision    recall  f1-score   support\n",
      "\n",
      "           0    0.94769   0.92771   0.93760       332\n",
      "           1    0.42857   0.51429   0.46753        35\n",
      "\n",
      "    accuracy                        0.88828       367\n",
      "   macro avg    0.68813   0.72100   0.70256       367\n",
      "weighted avg    0.89818   0.88828   0.89277       367\n",
      "\n",
      "[[308  24]\n",
      " [ 17  18]]\n"
     ]
    }
   ],
   "source": [
    "result_model=IF_model.predict(test_data)\n",
    "#report_model=report(test_label,result_model,digits=5)\n",
    "for i in range(len(result_model)):\n",
    "    if(result_model[i]==-1):\n",
    "        result_model[i]=1\n",
    "    else:\n",
    "        result_model[i]=0\n",
    "#print(result_model)\n",
    "report_model=report(test_label,result_model,digits=5)\n",
    "matrix_model=matrix(test_label,result_model)\n",
    "print(report_model)\n",
    "print(matrix_model)"
   ]
  },
  {
   "cell_type": "markdown",
   "metadata": {},
   "source": [
    "# Dataset3: creditcard (0.00173)"
   ]
  },
  {
   "cell_type": "markdown",
   "metadata": {},
   "source": [
    "## load data"
   ]
  },
  {
   "cell_type": "code",
   "execution_count": 81,
   "metadata": {},
   "outputs": [
    {
     "data": {
      "text/plain": [
       "(227845, 31)"
      ]
     },
     "execution_count": 81,
     "metadata": {},
     "output_type": "execute_result"
    }
   ],
   "source": [
    "credit_train=pd.read_csv('data/credit_train.csv',sep=',')\n",
    "credit_test=pd.read_csv('data/credit_test.csv',sep=',')\n",
    "\n",
    "#train_raw_data = http_train.drop(http_train.index[0])\n",
    "train_data = credit_train.drop(credit_train.columns[-1],axis='columns')\n",
    "train_label = credit_train.iloc[:,-1]\n",
    "\n",
    "#test_raw_data = http_test.drop(http_test.index[0])\n",
    "test_data = credit_test.drop(credit_test.columns[-1],axis='columns')\n",
    "test_label = credit_test.iloc[:,-1]\n",
    "\n",
    "#train_data.head()\n",
    "credit_train.shape"
   ]
  },
  {
   "cell_type": "markdown",
   "metadata": {},
   "source": [
    "## build a model"
   ]
  },
  {
   "cell_type": "code",
   "execution_count": 82,
   "metadata": {},
   "outputs": [
    {
     "data": {
      "text/plain": [
       "IsolationForest(behaviour='new', bootstrap=False, contamination=0.00173,\n",
       "                max_features=1.0, max_samples='auto', n_estimators=100,\n",
       "                n_jobs=None, random_state=42, verbose=0, warm_start=False)"
      ]
     },
     "execution_count": 82,
     "metadata": {},
     "output_type": "execute_result"
    }
   ],
   "source": [
    "IF_model = IsolationForest(max_samples=\"auto\",random_state=42,contamination=0.00173, behaviour='new')\n",
    "# param_grid = {'n_estimators': list(range(100, 800, 5)), \n",
    "#               'max_samples': list(range(100, 500, 5)), \n",
    "#               'contamination': [0.1, 0.2, 0.3, 0.4, 0.5], \n",
    "#               'bootstrap': [True, False], \n",
    "#               'n_jobs': [5, 10, 20, 30]}\n",
    "# IF_model = GridSearchCV(IF_model, param_grid ,scoring='average_precision', cv=5)\n",
    "IF_model.fit(train_data,train_label)"
   ]
  },
  {
   "cell_type": "markdown",
   "metadata": {},
   "source": [
    "## make predict"
   ]
  },
  {
   "cell_type": "code",
   "execution_count": 83,
   "metadata": {},
   "outputs": [
    {
     "name": "stdout",
     "output_type": "stream",
     "text": [
      "              precision    recall  f1-score   support\n",
      "\n",
      "           0    0.99886   0.99875   0.99880     56864\n",
      "           1    0.31731   0.33673   0.32673        98\n",
      "\n",
      "    accuracy                        0.99761     56962\n",
      "   macro avg    0.65808   0.66774   0.66277     56962\n",
      "weighted avg    0.99768   0.99761   0.99765     56962\n",
      "\n",
      "[[56793    71]\n",
      " [   65    33]]\n"
     ]
    }
   ],
   "source": [
    "result_model=IF_model.predict(test_data)\n",
    "#report_model=report(test_label,result_model,digits=5)\n",
    "for i in range(len(result_model)):\n",
    "    if(result_model[i]==-1):\n",
    "        result_model[i]=1\n",
    "    else:\n",
    "        result_model[i]=0\n",
    "#print(result_model)\n",
    "report_model=report(test_label,result_model,digits=5)\n",
    "matrix_model=matrix(test_label,result_model)\n",
    "print(report_model)\n",
    "print(matrix_model)"
   ]
  }
 ],
 "metadata": {
  "kernelspec": {
   "display_name": "Python 3",
   "language": "python",
   "name": "python3"
  },
  "language_info": {
   "codemirror_mode": {
    "name": "ipython",
    "version": 3
   },
   "file_extension": ".py",
   "mimetype": "text/x-python",
   "name": "python",
   "nbconvert_exporter": "python",
   "pygments_lexer": "ipython3",
   "version": "3.7.4"
  }
 },
 "nbformat": 4,
 "nbformat_minor": 2
}
