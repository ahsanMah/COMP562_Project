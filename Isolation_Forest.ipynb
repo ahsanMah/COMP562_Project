{
 "cells": [
  {
   "cell_type": "code",
   "execution_count": 797,
   "metadata": {},
   "outputs": [],
   "source": [
    "import pandas as pd\n",
    "import numpy as np\n",
    "from sklearn.metrics import classification_report as report\n",
    "from sklearn.model_selection import GridSearchCV\n",
    "from sklearn.model_selection import ParameterGrid\n",
    "from sklearn.metrics import average_precision_score\n",
    "import seaborn as sns\n",
    "from sklearn.metrics import confusion_matrix as matrix\n",
    "from sklearn.metrics import average_precision_score\n",
    "from sklearn.ensemble import IsolationForest\n",
    "from sklearn.metrics import precision_recall_curve\n",
    "from sklearn.metrics import f1_score\n",
    "from sklearn.metrics import auc\n",
    "RANDOM_STATE = 42\n",
    "np.random.seed(seed=RANDOM_STATE)\n",
    "import matplotlib.pyplot as plt"
   ]
  },
  {
   "cell_type": "markdown",
   "metadata": {},
   "source": [
    "# Dataset1: http(contamination:0.0039)"
   ]
  },
  {
   "cell_type": "markdown",
   "metadata": {},
   "source": [
    "## load train/test data"
   ]
  },
  {
   "cell_type": "code",
   "execution_count": 798,
   "metadata": {},
   "outputs": [
    {
     "data": {
      "text/plain": [
       "(453998, 4)"
      ]
     },
     "execution_count": 798,
     "metadata": {},
     "output_type": "execute_result"
    }
   ],
   "source": [
    "http_train=pd.read_csv('data/http_train.csv',sep=',')\n",
    "http_test=pd.read_csv('data/http_test.csv',sep=',')\n",
    "\n",
    "#train_raw_data = http_train.drop(http_train.index[0])\n",
    "train_data = http_train.drop(http_train.columns[-1],axis='columns')\n",
    "train_label = http_train.iloc[:,-1]\n",
    "\n",
    "#test_raw_data = http_test.drop(http_test.index[0])\n",
    "test_data = http_test.drop(http_test.columns[-1],axis='columns')\n",
    "test_label = http_test.iloc[:,-1]\n",
    "\n",
    "#train_data.head()\n",
    "http_train.shape"
   ]
  },
  {
   "cell_type": "code",
   "execution_count": 799,
   "metadata": {},
   "outputs": [
    {
     "name": "stdout",
     "output_type": "stream",
     "text": [
      "452229\n",
      "1769\n"
     ]
    },
    {
     "data": {
      "image/png": "[encoded data removed]",
      "text/plain": [
       "<Figure size 504x360 with 1 Axes>"
      ]
     },
     "metadata": {
      "needs_background": "light"
     },
     "output_type": "display_data"
    }
   ],
   "source": [
    "plt.figure(figsize=(7,5))\n",
    "fig = sns.countplot(x=\"3\", data=http_train) \n",
    "for p in fig.patches:\n",
    "    height = p.get_height()\n",
    "    print(height)\n",
    "    fig.text(p.get_x()+p.get_width()/2., height + 0.5,height ,ha=\"center\")"
   ]
  },
  {
   "cell_type": "markdown",
   "metadata": {},
   "source": [
    "## build a model(isolation forest)"
   ]
  },
  {
   "cell_type": "code",
   "execution_count": 800,
   "metadata": {},
   "outputs": [
    {
     "data": {
      "text/plain": [
       "IsolationForest(behaviour='new', bootstrap=False, contamination=0.003911734,\n",
       "                max_features=1.0, max_samples='auto', n_estimators=60,\n",
       "                n_jobs=-1, random_state=42, verbose=0, warm_start=False)"
      ]
     },
     "execution_count": 800,
     "metadata": {},
     "output_type": "execute_result"
    }
   ],
   "source": [
    "IF_model = IsolationForest(n_estimators=60,random_state=42,contamination=(0.003911734),n_jobs=-1,behaviour=\"new\")\n",
    "# param_grid = {'n_estimators': list(range(50, 300, 50)), \n",
    "#               'max_samples': list(range(200, 500, 20)), \n",
    "#               'contamination': [0.0040, 0.0050,0.0060,0.0070,0.0080,0.0090,0.010],\n",
    "#                }\n",
    "# #\"'max_features':list\"\n",
    "# IF_model = GridSearchCV(IF_model, param_grid ,scoring=\"average_precision\", cv=5)\n",
    "IF_model.fit(train_data,train_label)"
   ]
  },
  {
   "cell_type": "markdown",
   "metadata": {},
   "source": [
    "## calculate average precision"
   ]
  },
  {
   "cell_type": "code",
   "execution_count": 801,
   "metadata": {},
   "outputs": [
    {
     "name": "stdout",
     "output_type": "stream",
     "text": [
      "[0.31367355 0.2821482  0.30755124 ... 0.29851435 0.34102049 0.28994197]\n",
      "Average precision-recall score: 0.96971\n"
     ]
    }
   ],
   "source": [
    "test_score=IF_model.decision_function(test_data)\n",
    "print(test_score)\n",
    "average_precision = average_precision_score(test_label, -test_score)\n",
    "print('Average precision-recall score: {0:0.5f}'.format(\n",
    "      average_precision))"
   ]
  },
  {
   "cell_type": "markdown",
   "metadata": {},
   "source": [
    "## make predict"
   ]
  },
  {
   "cell_type": "code",
   "execution_count": 802,
   "metadata": {},
   "outputs": [
    {
     "name": "stdout",
     "output_type": "stream",
     "text": [
      "              precision    recall  f1-score   support\n",
      "\n",
      "           0    0.99988   0.99990   0.99989    113058\n",
      "           1    0.97494   0.96833   0.97162       442\n",
      "\n",
      "    accuracy                        0.99978    113500\n",
      "   macro avg    0.98741   0.98411   0.98576    113500\n",
      "weighted avg    0.99978   0.99978   0.99978    113500\n",
      "\n",
      "[[113047     11]\n",
      " [    14    428]]\n"
     ]
    }
   ],
   "source": [
    "result_model=IF_model.predict(test_data)\n",
    "#report_model=report(test_label,result_model,digits=5)\n",
    "for i in range(len(result_model)):\n",
    "    if(result_model[i]==-1):\n",
    "        result_model[i]=1\n",
    "    else:\n",
    "        result_model[i]=0\n",
    "#print(result_model)\n",
    "report_model=report(test_label,result_model,digits=5)\n",
    "matrix_model=matrix(test_label,result_model)\n",
    "print(report_model)\n",
    "print(matrix_model)"
   ]
  },
  {
   "cell_type": "code",
   "execution_count": 803,
   "metadata": {},
   "outputs": [
    {
     "data": {
      "image/png": "[encoded data removed]",
      "text/plain": [
       "<Figure size 432x288 with 2 Axes>"
      ]
     },
     "metadata": {
      "needs_background": "light"
     },
     "output_type": "display_data"
    }
   ],
   "source": [
    "# Plot non-normalized confusion matrix\n",
    "\n",
    "import itertools\n",
    "\n",
    "def plot_confusion_matrix(cm, classes,\n",
    "                          normalize=False,\n",
    "                          title='Confusion matrix',\n",
    "                          cmap=plt.cm.Blues):\n",
    "    \"\"\"\n",
    "    This function prints and plots the confusion matrix.\n",
    "    Normalization can be applied by setting `normalize=True`.\n",
    "    \"\"\"\n",
    "    plt.imshow(cm, interpolation='nearest', cmap=cmap)\n",
    "    plt.title(title)\n",
    "    plt.colorbar()\n",
    "    tick_marks = np.arange(len(classes))\n",
    "    plt.xticks(tick_marks, classes, rotation=0)\n",
    "    plt.yticks(tick_marks, classes)\n",
    "\n",
    "    if normalize:\n",
    "        cm = cm.astype('float') / cm.sum(axis=1)[:, np.newaxis]\n",
    "        #print(\"Normalized confusion matrix\")\n",
    "    else:\n",
    "        1#print('Confusion matrix, without normalization')\n",
    "\n",
    "    #print(cm)\n",
    "\n",
    "    thresh = cm.max() / 2.\n",
    "    for i, j in itertools.product(range(cm.shape[0]), range(cm.shape[1])):\n",
    "        plt.text(j, i, cm[i, j],\n",
    "                 horizontalalignment=\"center\",\n",
    "                 color=\"white\" if cm[i, j] > thresh else \"black\")\n",
    "\n",
    "    plt.tight_layout()\n",
    "    plt.ylabel('True label')\n",
    "    plt.xlabel('Predicted label')\n",
    "    \n",
    "    \n",
    "class_names = [0,1]\n",
    "plt.figure()\n",
    "plot_confusion_matrix(matrix_model\n",
    "                      , classes=class_names\n",
    "                      , title='Confusion matrix')\n",
    "plt.show()"
   ]
  },
  {
   "cell_type": "markdown",
   "metadata": {},
   "source": [
    "## plot"
   ]
  },
  {
   "cell_type": "code",
   "execution_count": 804,
   "metadata": {},
   "outputs": [
    {
     "name": "stdout",
     "output_type": "stream",
     "text": [
      "isolation: f1=0.972 auc=0.807\n"
     ]
    },
    {
     "data": {
      "image/png": "[encoded data removed]",
      "text/plain": [
       "<Figure size 432x288 with 1 Axes>"
      ]
     },
     "metadata": {
      "needs_background": "light"
     },
     "output_type": "display_data"
    }
   ],
   "source": [
    "# predict probabilities\n",
    "lr_probs = IF_model.score_samples(test_data)\n",
    "# keep probabilities for the positive outcome only\n",
    "# lr_probs = lr_probs[:, 1]\n",
    "# predict class values\n",
    "result_model = IF_model.predict(test_data)\n",
    "for i in range(len(result_model)):\n",
    "    if(result_model[i]==-1):\n",
    "        result_model[i]=1\n",
    "    else:\n",
    "        result_model[i]=0\n",
    "lr_precision, lr_recall, _ = precision_recall_curve(test_label, -lr_probs)\n",
    "lr_f1, lr_auc = f1_score(test_label, result_model), auc(lr_recall, lr_precision)\n",
    "# summarize scores\n",
    "print('isolation: f1=%.3f auc=%.3f' % (lr_f1, lr_auc))\n",
    "# plot the precision-recall curves\n",
    "out_lier = len(test_label[test_label==1]) / len(test_label)\n",
    "plt.plot([0, 1], [out_lier, out_lier], linestyle='--', label='out_lier')\n",
    "plt.plot(lr_recall, lr_precision, marker='.', label='isolation')\n",
    "# axis labels\n",
    "plt.xlabel('Recall')\n",
    "plt.ylabel('Precision')\n",
    "# show the legend\n",
    "plt.legend()\n",
    "# show the plot\n",
    "plt.show()"
   ]
  },
  {
   "cell_type": "markdown",
   "metadata": {},
   "source": [
    "# Dataset2: Cardio (Contamination : 0.096)"
   ]
  },
  {
   "cell_type": "markdown",
   "metadata": {},
   "source": [
    "## load train/test data"
   ]
  },
  {
   "cell_type": "code",
   "execution_count": 805,
   "metadata": {},
   "outputs": [
    {
     "data": {
      "text/html": [
       "<div>\n",
       "<style scoped>\n",
       "    .dataframe tbody tr th:only-of-type {\n",
       "        vertical-align: middle;\n",
       "    }\n",
       "\n",
       "    .dataframe tbody tr th {\n",
       "        vertical-align: top;\n",
       "    }\n",
       "\n",
       "    .dataframe thead th {\n",
       "        text-align: right;\n",
       "    }\n",
       "</style>\n",
       "<table border=\"1\" class=\"dataframe\">\n",
       "  <thead>\n",
       "    <tr style=\"text-align: right;\">\n",
       "      <th></th>\n",
       "      <th>0</th>\n",
       "      <th>1</th>\n",
       "      <th>2</th>\n",
       "      <th>3</th>\n",
       "      <th>4</th>\n",
       "      <th>5</th>\n",
       "      <th>6</th>\n",
       "      <th>7</th>\n",
       "      <th>8</th>\n",
       "      <th>9</th>\n",
       "      <th>...</th>\n",
       "      <th>12</th>\n",
       "      <th>13</th>\n",
       "      <th>14</th>\n",
       "      <th>15</th>\n",
       "      <th>16</th>\n",
       "      <th>17</th>\n",
       "      <th>18</th>\n",
       "      <th>19</th>\n",
       "      <th>20</th>\n",
       "      <th>21</th>\n",
       "    </tr>\n",
       "  </thead>\n",
       "  <tbody>\n",
       "    <tr>\n",
       "      <th>0</th>\n",
       "      <td>-2.746331</td>\n",
       "      <td>0.674374</td>\n",
       "      <td>-0.203640</td>\n",
       "      <td>0.569296</td>\n",
       "      <td>-0.683598</td>\n",
       "      <td>-0.061401</td>\n",
       "      <td>-0.278295</td>\n",
       "      <td>1.161352</td>\n",
       "      <td>-0.862298</td>\n",
       "      <td>-0.420487</td>\n",
       "      <td>...</td>\n",
       "      <td>0.342006</td>\n",
       "      <td>-0.565334</td>\n",
       "      <td>-0.409388</td>\n",
       "      <td>-0.488279</td>\n",
       "      <td>-1.441887</td>\n",
       "      <td>-1.083848</td>\n",
       "      <td>-1.561651</td>\n",
       "      <td>-0.222985</td>\n",
       "      <td>-2.126605</td>\n",
       "      <td>0</td>\n",
       "    </tr>\n",
       "    <tr>\n",
       "      <th>1</th>\n",
       "      <td>-1.476526</td>\n",
       "      <td>-0.487369</td>\n",
       "      <td>-0.203640</td>\n",
       "      <td>0.159199</td>\n",
       "      <td>-0.127511</td>\n",
       "      <td>-0.061401</td>\n",
       "      <td>-0.278295</td>\n",
       "      <td>-1.171841</td>\n",
       "      <td>-0.051613</td>\n",
       "      <td>0.948799</td>\n",
       "      <td>...</td>\n",
       "      <td>-0.655829</td>\n",
       "      <td>-0.235325</td>\n",
       "      <td>-0.753395</td>\n",
       "      <td>2.414444</td>\n",
       "      <td>-0.600269</td>\n",
       "      <td>-0.828456</td>\n",
       "      <td>-0.940945</td>\n",
       "      <td>-0.323186</td>\n",
       "      <td>-0.493294</td>\n",
       "      <td>0</td>\n",
       "    </tr>\n",
       "    <tr>\n",
       "      <th>2</th>\n",
       "      <td>-0.312539</td>\n",
       "      <td>-0.380829</td>\n",
       "      <td>0.066072</td>\n",
       "      <td>-1.635871</td>\n",
       "      <td>-0.683598</td>\n",
       "      <td>-0.061401</td>\n",
       "      <td>-0.278295</td>\n",
       "      <td>0.144320</td>\n",
       "      <td>-0.630673</td>\n",
       "      <td>-0.420487</td>\n",
       "      <td>...</td>\n",
       "      <td>-1.368567</td>\n",
       "      <td>-0.455331</td>\n",
       "      <td>0.622631</td>\n",
       "      <td>-0.488279</td>\n",
       "      <td>-0.179460</td>\n",
       "      <td>0.001569</td>\n",
       "      <td>-0.182306</td>\n",
       "      <td>-0.556988</td>\n",
       "      <td>1.140018</td>\n",
       "      <td>0</td>\n",
       "    </tr>\n",
       "    <tr>\n",
       "      <th>3</th>\n",
       "      <td>-0.947441</td>\n",
       "      <td>3.464968</td>\n",
       "      <td>-0.203640</td>\n",
       "      <td>-0.961999</td>\n",
       "      <td>-0.683598</td>\n",
       "      <td>-0.061401</td>\n",
       "      <td>-0.278295</td>\n",
       "      <td>-1.231666</td>\n",
       "      <td>0.874885</td>\n",
       "      <td>-0.420487</td>\n",
       "      <td>...</td>\n",
       "      <td>0.342006</td>\n",
       "      <td>-0.675337</td>\n",
       "      <td>-1.097401</td>\n",
       "      <td>-0.488279</td>\n",
       "      <td>0.000886</td>\n",
       "      <td>0.001569</td>\n",
       "      <td>-0.113338</td>\n",
       "      <td>-0.523588</td>\n",
       "      <td>-0.493294</td>\n",
       "      <td>0</td>\n",
       "    </tr>\n",
       "    <tr>\n",
       "      <th>4</th>\n",
       "      <td>0.533997</td>\n",
       "      <td>-0.437880</td>\n",
       "      <td>-0.163445</td>\n",
       "      <td>0.697949</td>\n",
       "      <td>1.175504</td>\n",
       "      <td>-0.061401</td>\n",
       "      <td>-0.278295</td>\n",
       "      <td>0.802400</td>\n",
       "      <td>0.411636</td>\n",
       "      <td>-0.420487</td>\n",
       "      <td>...</td>\n",
       "      <td>-1.083472</td>\n",
       "      <td>0.094683</td>\n",
       "      <td>0.622631</td>\n",
       "      <td>-0.488279</td>\n",
       "      <td>0.181233</td>\n",
       "      <td>0.001569</td>\n",
       "      <td>0.300465</td>\n",
       "      <td>0.044218</td>\n",
       "      <td>1.140018</td>\n",
       "      <td>0</td>\n",
       "    </tr>\n",
       "  </tbody>\n",
       "</table>\n",
       "<p>5 rows × 22 columns</p>\n",
       "</div>"
      ],
      "text/plain": [
       "          0         1         2         3         4         5         6  \\\n",
       "0 -2.746331  0.674374 -0.203640  0.569296 -0.683598 -0.061401 -0.278295   \n",
       "1 -1.476526 -0.487369 -0.203640  0.159199 -0.127511 -0.061401 -0.278295   \n",
       "2 -0.312539 -0.380829  0.066072 -1.635871 -0.683598 -0.061401 -0.278295   \n",
       "3 -0.947441  3.464968 -0.203640 -0.961999 -0.683598 -0.061401 -0.278295   \n",
       "4  0.533997 -0.437880 -0.163445  0.697949  1.175504 -0.061401 -0.278295   \n",
       "\n",
       "          7         8         9  ...        12        13        14        15  \\\n",
       "0  1.161352 -0.862298 -0.420487  ...  0.342006 -0.565334 -0.409388 -0.488279   \n",
       "1 -1.171841 -0.051613  0.948799  ... -0.655829 -0.235325 -0.753395  2.414444   \n",
       "2  0.144320 -0.630673 -0.420487  ... -1.368567 -0.455331  0.622631 -0.488279   \n",
       "3 -1.231666  0.874885 -0.420487  ...  0.342006 -0.675337 -1.097401 -0.488279   \n",
       "4  0.802400  0.411636 -0.420487  ... -1.083472  0.094683  0.622631 -0.488279   \n",
       "\n",
       "         16        17        18        19        20  21  \n",
       "0 -1.441887 -1.083848 -1.561651 -0.222985 -2.126605   0  \n",
       "1 -0.600269 -0.828456 -0.940945 -0.323186 -0.493294   0  \n",
       "2 -0.179460  0.001569 -0.182306 -0.556988  1.140018   0  \n",
       "3  0.000886  0.001569 -0.113338 -0.523588 -0.493294   0  \n",
       "4  0.181233  0.001569  0.300465  0.044218  1.140018   0  \n",
       "\n",
       "[5 rows x 22 columns]"
      ]
     },
     "execution_count": 805,
     "metadata": {},
     "output_type": "execute_result"
    }
   ],
   "source": [
    "cardio_train=pd.read_csv('data/cardio_train.csv',sep=',')\n",
    "cardio_test=pd.read_csv('data/cardio_test.csv',sep=',')\n",
    "\n",
    "#train_raw_data = http_train.drop(http_train.index[0])\n",
    "train_data = cardio_train.drop(cardio_train.columns[-1],axis='columns')\n",
    "train_label = cardio_train.iloc[:,-1]\n",
    "\n",
    "#test_raw_data = http_test.drop(http_test.index[0])\n",
    "test_data = cardio_test.drop(cardio_test.columns[-1],axis='columns')\n",
    "test_label = cardio_test.iloc[:,-1]\n",
    "\n",
    "#train_data.head()\n",
    "cardio_train.head()"
   ]
  },
  {
   "cell_type": "code",
   "execution_count": 806,
   "metadata": {},
   "outputs": [
    {
     "data": {
      "image/png": "[encoded data removed]",
      "text/plain": [
       "<Figure size 504x360 with 1 Axes>"
      ]
     },
     "metadata": {
      "needs_background": "light"
     },
     "output_type": "display_data"
    }
   ],
   "source": [
    "plt.figure(figsize=(7,5))\n",
    "fig = sns.countplot(x=\"21\", data=cardio_train)\n",
    "for p in fig.patches:\n",
    "    height = p.get_height()\n",
    "    fig.text(p.get_x()+p.get_width()/2., height + 0.5,height ,ha=\"center\")"
   ]
  },
  {
   "cell_type": "code",
   "execution_count": 807,
   "metadata": {},
   "outputs": [
    {
     "data": {
      "text/plain": [
       "0.09631147540983606"
      ]
     },
     "execution_count": 807,
     "metadata": {},
     "output_type": "execute_result"
    }
   ],
   "source": [
    "141/(141+1323)"
   ]
  },
  {
   "cell_type": "markdown",
   "metadata": {},
   "source": [
    "## build a model"
   ]
  },
  {
   "cell_type": "code",
   "execution_count": 808,
   "metadata": {},
   "outputs": [
    {
     "data": {
      "text/plain": [
       "IsolationForest(behaviour='new', bootstrap=False, contamination=0.099,\n",
       "                max_features=1.0, max_samples=75, n_estimators=14, n_jobs=None,\n",
       "                random_state=40, verbose=0, warm_start=False)"
      ]
     },
     "execution_count": 808,
     "metadata": {},
     "output_type": "execute_result"
    }
   ],
   "source": [
    "IF_model = IsolationForest(n_estimators=14,max_features=1.0,max_samples=75,random_state=40,contamination=0.099, behaviour='new')\n",
    "# param_grid = {'n_estimators': list(range(100, 800, 5)), \n",
    "#               'max_samples': list(range(100, 500, 5)), \n",
    "#               'contamination': [0.1, 0.2, 0.3, 0.4, 0.5], \n",
    "#               'bootstrap': [True, False], \n",
    "#               'n_jobs': [5, 10, 20, 30]}\n",
    "# IF_model = GridSearchCV(IF_model, param_grid ,scoring='average_precision', cv=5)\n",
    "IF_model.fit(train_data,train_label)"
   ]
  },
  {
   "cell_type": "markdown",
   "metadata": {},
   "source": [
    "## average precision score"
   ]
  },
  {
   "cell_type": "code",
   "execution_count": 809,
   "metadata": {},
   "outputs": [
    {
     "name": "stdout",
     "output_type": "stream",
     "text": [
      "Average precision-recall score: 0.70559\n"
     ]
    }
   ],
   "source": [
    "test_score=IF_model.decision_function(test_data)\n",
    "#print(test_score)\n",
    "average_precision = average_precision_score(test_label, -test_score)\n",
    "print('Average precision-recall score: {0:0.5f}'.format(\n",
    "      average_precision))"
   ]
  },
  {
   "cell_type": "markdown",
   "metadata": {},
   "source": [
    "## make predict"
   ]
  },
  {
   "cell_type": "code",
   "execution_count": 810,
   "metadata": {},
   "outputs": [
    {
     "name": "stdout",
     "output_type": "stream",
     "text": [
      "              precision    recall  f1-score   support\n",
      "\n",
      "           0    0.97015   0.97892   0.97451       332\n",
      "           1    0.78125   0.71429   0.74627        35\n",
      "\n",
      "    accuracy                        0.95368       367\n",
      "   macro avg    0.87570   0.84660   0.86039       367\n",
      "weighted avg    0.95213   0.95368   0.95275       367\n",
      "\n",
      "[[325   7]\n",
      " [ 10  25]]\n"
     ]
    }
   ],
   "source": [
    "result_model=IF_model.predict(test_data)\n",
    "#report_model=report(test_label,result_model,digits=5)\n",
    "for i in range(len(result_model)):\n",
    "    if(result_model[i]==-1):\n",
    "        result_model[i]=1\n",
    "    else:\n",
    "        result_model[i]=0\n",
    "#print(result_model)\n",
    "report_model=report(test_label,result_model,digits=5)\n",
    "matrix_model=matrix(test_label,result_model)\n",
    "print(report_model)\n",
    "print(matrix_model)"
   ]
  },
  {
   "cell_type": "markdown",
   "metadata": {},
   "source": [
    "## plot"
   ]
  },
  {
   "cell_type": "code",
   "execution_count": 811,
   "metadata": {},
   "outputs": [
    {
     "name": "stdout",
     "output_type": "stream",
     "text": [
      "isolation: f1=0.746 auc=0.694\n"
     ]
    },
    {
     "data": {
      "image/png": "[encoded data removed]",
      "text/plain": [
       "<Figure size 432x288 with 1 Axes>"
      ]
     },
     "metadata": {
      "needs_background": "light"
     },
     "output_type": "display_data"
    }
   ],
   "source": [
    "# predict probabilities\n",
    "lr_probs = IF_model.score_samples(test_data)\n",
    "# keep probabilities for the positive outcome only\n",
    "# lr_probs = lr_probs[:, 1]\n",
    "# predict class values\n",
    "result_model = IF_model.predict(test_data)\n",
    "for i in range(len(result_model)):\n",
    "    if(result_model[i]==-1):\n",
    "        result_model[i]=1\n",
    "    else:\n",
    "        result_model[i]=0\n",
    "lr_precision, lr_recall, _ = precision_recall_curve(test_label, -lr_probs)\n",
    "lr_f1, lr_auc = f1_score(test_label, result_model), auc(lr_recall, lr_precision)\n",
    "# summarize scores\n",
    "print('isolation: f1=%.3f auc=%.3f' % (lr_f1, lr_auc))\n",
    "# plot the precision-recall curves\n",
    "out_lier = len(test_label[test_label==1]) / len(test_label)\n",
    "plt.plot([0, 1], [out_lier, out_lier], linestyle='--', label='out_lier')\n",
    "plt.plot(lr_recall, lr_precision, marker='.', label='isolation')\n",
    "# axis labels\n",
    "plt.xlabel('Recall')\n",
    "plt.ylabel('Precision')\n",
    "# show the legend\n",
    "plt.legend()\n",
    "# show the plot\n",
    "plt.show()"
   ]
  },
  {
   "cell_type": "markdown",
   "metadata": {},
   "source": [
    "# Dataset3: creditcard (0.00173)"
   ]
  },
  {
   "cell_type": "markdown",
   "metadata": {},
   "source": [
    "## load data"
   ]
  },
  {
   "cell_type": "code",
   "execution_count": 812,
   "metadata": {},
   "outputs": [
    {
     "name": "stdout",
     "output_type": "stream",
     "text": [
      "0    227451\n",
      "1       394\n",
      "Name: Class, dtype: int64\n"
     ]
    }
   ],
   "source": [
    "credit_train=pd.read_csv('data/credit_train.csv',sep=',')\n",
    "credit_test=pd.read_csv('data/credit_test.csv',sep=',')\n",
    "\n",
    "#train_raw_data = http_train.drop(http_train.index[0])\n",
    "train_data = credit_train.drop(credit_train.columns[[0,-1]],axis='columns')\n",
    "train_label = credit_train.iloc[:,-1]\n",
    "\n",
    "#test_raw_data = http_test.drop(http_test.index[0])\n",
    "test_data = credit_test.drop(credit_test.columns[[0,-1]],axis='columns')\n",
    "test_label = credit_test.iloc[:,-1]\n",
    "\n",
    "print(credit_train.iloc[:,-1].value_counts())\n",
    "#credit_train.shape"
   ]
  },
  {
   "cell_type": "code",
   "execution_count": 813,
   "metadata": {},
   "outputs": [
    {
     "data": {
      "image/png": "[encoded data removed]",
      "text/plain": [
       "<Figure size 504x360 with 1 Axes>"
      ]
     },
     "metadata": {
      "needs_background": "light"
     },
     "output_type": "display_data"
    }
   ],
   "source": [
    "plt.figure(figsize=(7,5))\n",
    "fig = sns.countplot(x=\"Class\", data=credit_train)\n",
    "for p in fig.patches:\n",
    "    height = p.get_height()\n",
    "    fig.text(p.get_x()+p.get_width()/2., height + 0.5,height ,ha=\"center\")"
   ]
  },
  {
   "cell_type": "code",
   "execution_count": 814,
   "metadata": {},
   "outputs": [
    {
     "data": {
      "text/plain": [
       "0.001729245759178389"
      ]
     },
     "execution_count": 814,
     "metadata": {},
     "output_type": "execute_result"
    }
   ],
   "source": [
    "394/(394+227451)"
   ]
  },
  {
   "cell_type": "markdown",
   "metadata": {},
   "source": [
    "## build a model"
   ]
  },
  {
   "cell_type": "code",
   "execution_count": 815,
   "metadata": {},
   "outputs": [
    {
     "data": {
      "text/plain": [
       "IsolationForest(behaviour='new', bootstrap=False, contamination=0.0018,\n",
       "                max_features=1, max_samples='auto', n_estimators=100, n_jobs=-1,\n",
       "                random_state=42, verbose=0, warm_start=True)"
      ]
     },
     "execution_count": 815,
     "metadata": {},
     "output_type": "execute_result"
    }
   ],
   "source": [
    "IF_model = IsolationForest(warm_start=True,n_estimators=100,max_features=1,random_state=42,n_jobs=-1,contamination=0.0018, behaviour='new')\n",
    "# param_grid = {'n_estimators': list(range(100, 800, 5)), \n",
    "#               'max_samples': list(range(100, 500, 5)), \n",
    "#               'contamination': [0.1, 0.2, 0.3, 0.4, 0.5], \n",
    "#               'bootstrap': [True, False], \n",
    "#               'n_jobs': [5, 10, 20, 30]}\n",
    "# IF_model = GridSearchCV(IF_model, param_grid ,scoring='average_precision', cv=5)\n",
    "IF_model.fit(train_data,train_label)"
   ]
  },
  {
   "cell_type": "markdown",
   "metadata": {},
   "source": [
    "## average precision score"
   ]
  },
  {
   "cell_type": "code",
   "execution_count": 816,
   "metadata": {},
   "outputs": [
    {
     "name": "stdout",
     "output_type": "stream",
     "text": [
      "[0.15728645 0.10132484 0.07488151 ... 0.14450561 0.16954475 0.16089792]\n",
      "Average precision-recall score: 0.19001\n"
     ]
    }
   ],
   "source": [
    "test_score=IF_model.decision_function(test_data)\n",
    "print(test_score)\n",
    "average_precision = average_precision_score(test_label, -test_score)\n",
    "print('Average precision-recall score: {0:0.5f}'.format(\n",
    "      average_precision))"
   ]
  },
  {
   "cell_type": "markdown",
   "metadata": {},
   "source": [
    "## make predict"
   ]
  },
  {
   "cell_type": "code",
   "execution_count": 817,
   "metadata": {},
   "outputs": [
    {
     "name": "stdout",
     "output_type": "stream",
     "text": [
      "              precision    recall  f1-score   support\n",
      "\n",
      "           0    0.99887   0.99873   0.99880     56864\n",
      "           1    0.32075   0.34694   0.33333        98\n",
      "\n",
      "    accuracy                        0.99761     56962\n",
      "   macro avg    0.65981   0.67284   0.66607     56962\n",
      "weighted avg    0.99771   0.99761   0.99766     56962\n",
      "\n",
      "[[56792    72]\n",
      " [   64    34]]\n"
     ]
    }
   ],
   "source": [
    "result_model=IF_model.predict(test_data)\n",
    "#report_model=report(test_label,result_model,digits=5)\n",
    "for i in range(len(result_model)):\n",
    "    if(result_model[i]==-1):\n",
    "        result_model[i]=1\n",
    "    else:\n",
    "        result_model[i]=0\n",
    "#print(result_model)\n",
    "report_model=report(test_label,result_model,digits=5)\n",
    "matrix_model=matrix(test_label,result_model)\n",
    "print(report_model)\n",
    "print(matrix_model)"
   ]
  },
  {
   "cell_type": "code",
   "execution_count": 818,
   "metadata": {},
   "outputs": [
    {
     "name": "stdout",
     "output_type": "stream",
     "text": [
      "isolation: f1=0.333 auc=0.186\n"
     ]
    },
    {
     "data": {
      "image/png": "[encoded data removed]",
      "text/plain": [
       "<Figure size 432x288 with 1 Axes>"
      ]
     },
     "metadata": {
      "needs_background": "light"
     },
     "output_type": "display_data"
    }
   ],
   "source": [
    "# predict probabilities\n",
    "lr_probs = IF_model.score_samples(test_data)\n",
    "# keep probabilities for the positive outcome only\n",
    "# lr_probs = lr_probs[:, 1]\n",
    "# predict class values\n",
    "result_model = IF_model.predict(test_data)\n",
    "for i in range(len(result_model)):\n",
    "    if(result_model[i]==-1):\n",
    "        result_model[i]=1\n",
    "    else:\n",
    "        result_model[i]=0\n",
    "lr_precision, lr_recall, _ = precision_recall_curve(test_label, -lr_probs)\n",
    "lr_f1, lr_auc = f1_score(test_label, result_model), auc(lr_recall, lr_precision)\n",
    "# summarize scores\n",
    "print('isolation: f1=%.3f auc=%.3f' % (lr_f1, lr_auc))\n",
    "# plot the precision-recall curves\n",
    "out_lier = len(test_label[test_label==1]) / len(test_label)\n",
    "plt.plot([0, 1], [out_lier, out_lier], linestyle='--', label='out_lier')\n",
    "plt.plot(lr_recall, lr_precision, marker='.', label='isolation')\n",
    "# axis labels\n",
    "plt.xlabel('Recall')\n",
    "plt.ylabel('Precision')\n",
    "# show the legend\n",
    "plt.legend()\n",
    "# show the plot\n",
    "plt.show()"
   ]
  },
  {
   "cell_type": "markdown",
   "metadata": {},
   "source": [
    "# Separate 10% of trainning data set"
   ]
  },
  {
   "cell_type": "code",
   "execution_count": 819,
   "metadata": {},
   "outputs": [],
   "source": [
    "credit_train=pd.read_csv('data/credit_train.csv',sep=',')\n",
    "credit_test=pd.read_csv('data/credit_test.csv',sep=',')\n",
    "# only choose 10% tranning dataset\n",
    "credit_train= credit_train.drop(credit_train.columns[[0]],axis='columns')\n",
    "credit_test= credit_test.drop(credit_test.columns[[0]],axis='columns')\n",
    "#credit_train= credit_train.loc[credit_train['Class'] == 0]\n",
    "\n",
    "#train_raw_data = http_train.drop(http_train.index[0])\n",
    "train_label = credit_train.iloc[:,-1]\n",
    "test_label = credit_test.iloc[:,-1]\n",
    "\n",
    "\n",
    "inner_liers=credit_train[train_label==0]\n",
    "outter_liers=credit_train[train_label==1]\n",
    "#outter_liers.head()\n",
    "from sklearn.model_selection import ShuffleSplit\n",
    "rs=ShuffleSplit(n_splits=1, random_state=42, test_size=0.10)\n",
    "for train_index, test_index in rs.split(inner_liers):\n",
    "    inner_liers=inner_liers.iloc[test_index]\n",
    "    \n",
    "frames=[inner_liers,outter_liers]\n",
    "credit_train=pd.concat(frames)\n",
    "\n",
    "# for test set\n",
    "inner_liers=credit_test[test_label==0]\n",
    "outter_liers=credit_test[test_label==1]\n",
    "#outter_liers.head()\n",
    "from sklearn.model_selection import ShuffleSplit\n",
    "rs=ShuffleSplit(n_splits=1, random_state=42, test_size=0.10)\n",
    "for train_index, test_index in rs.split(inner_liers):\n",
    "    inner_liers=inner_liers.iloc[test_index]\n",
    "    \n",
    "frames=[inner_liers,outter_liers]\n",
    "credit_test=pd.concat(frames)\n",
    "\n",
    "\n",
    "# train_data = np.concatenate((inner_liers, outter_liers), axis=1)\n",
    "\n",
    "# train_data = pd.DataFrame(train_data)\n",
    "#outter_liers.head()\n",
    "\n",
    "#test_raw_data = http_test.drop(http_test.index[0])\n",
    "# test_data = credit_test.drop(credit_test.columns[-1],axis='columns')\n",
    "# test_label = credit_test.iloc[:,-1]\n",
    "\n",
    "\n",
    "train_data = credit_train.drop(credit_train.columns[-1],axis='columns')\n",
    "train_label = credit_train.iloc[:,-1]\n",
    "\n",
    "test_data = credit_test.drop(credit_test.columns[-1],axis='columns')\n",
    "test_label = credit_test.iloc[:,-1]\n",
    "# print(train_data.head())\n",
    "# print(test_data.head())\n",
    "# #train_data.head()\n",
    "# credit_train.shape\n",
    "dirname = \"data/\"\n",
    "\n",
    "# Change filenames according to dataset\n",
    "# credit_train.to_csv(dirname + \"credit_train_reduced.csv\", index=False)\n",
    "# credit_test.to_csv(dirname + \"credit_test_reduced.csv\", index=False)"
   ]
  },
  {
   "cell_type": "code",
   "execution_count": 820,
   "metadata": {},
   "outputs": [
    {
     "data": {
      "image/png": "[encoded data removed]",
      "text/plain": [
       "<Figure size 504x360 with 1 Axes>"
      ]
     },
     "metadata": {
      "needs_background": "light"
     },
     "output_type": "display_data"
    }
   ],
   "source": [
    "plt.figure(figsize=(7,5))\n",
    "fig = sns.countplot(x=\"Class\", data=credit_train)\n",
    "for p in fig.patches:\n",
    "    height = p.get_height()\n",
    "    fig.text(p.get_x()+p.get_width()/2., height + 0.5,height ,ha=\"center\")"
   ]
  },
  {
   "cell_type": "code",
   "execution_count": 821,
   "metadata": {},
   "outputs": [
    {
     "data": {
      "text/plain": [
       "0.017026793431287813"
      ]
     },
     "execution_count": 821,
     "metadata": {},
     "output_type": "execute_result"
    }
   ],
   "source": [
    "394/(394+22746)"
   ]
  },
  {
   "cell_type": "markdown",
   "metadata": {},
   "source": [
    "# build a model"
   ]
  },
  {
   "cell_type": "code",
   "execution_count": 822,
   "metadata": {},
   "outputs": [
    {
     "data": {
      "text/plain": [
       "IsolationForest(behaviour='new', bootstrap=False, contamination=0.01802679,\n",
       "                max_features=0.63, max_samples=256, n_estimators=130, n_jobs=-1,\n",
       "                random_state=42, verbose=0, warm_start=False)"
      ]
     },
     "execution_count": 822,
     "metadata": {},
     "output_type": "execute_result"
    }
   ],
   "source": [
    "IF_model = IsolationForest(n_estimators=130,max_features=0.63,max_samples=256,random_state=42,n_jobs=-1,contamination=0.01802679, behaviour='new')\n",
    "# param_grid = {'n_estimators':[50,100,150] \n",
    "#               }\n",
    "#               'max_samples': list(range(100, 500, 5)), \n",
    "#               'contamination': [0.1, 0.2, 0.3, 0.4, 0.5], \n",
    "#               'bootstrap': [True, False], \n",
    "#               'n_jobs': [5, 10, 20, 30]\n",
    "# IF_model = GridSearchCV(IF_model, param_grid ,scoring='average_precision', cv=5)\n",
    "IF_model.fit(train_data,train_label)"
   ]
  },
  {
   "cell_type": "markdown",
   "metadata": {},
   "source": [
    "## average precision score"
   ]
  },
  {
   "cell_type": "code",
   "execution_count": 823,
   "metadata": {},
   "outputs": [
    {
     "name": "stdout",
     "output_type": "stream",
     "text": [
      "[0.12277716 0.16307763 0.18123878 ... 0.15151577 0.11879801 0.09194772]\n",
      "Average precision-recall score: 0.60894\n"
     ]
    }
   ],
   "source": [
    "test_score=IF_model.decision_function(test_data)\n",
    "print(test_score)\n",
    "average_precision = average_precision_score(test_label, -test_score)\n",
    "print('Average precision-recall score: {0:0.5f}'.format(\n",
    "      average_precision))"
   ]
  },
  {
   "cell_type": "markdown",
   "metadata": {},
   "source": [
    "## make predict"
   ]
  },
  {
   "cell_type": "code",
   "execution_count": 824,
   "metadata": {},
   "outputs": [
    {
     "name": "stdout",
     "output_type": "stream",
     "text": [
      "              precision    recall  f1-score   support\n",
      "\n",
      "           0    0.99296   0.99156   0.99226      5687\n",
      "           1    0.54717   0.59184   0.56863        98\n",
      "\n",
      "    accuracy                        0.98479      5785\n",
      "   macro avg    0.77006   0.79170   0.78044      5785\n",
      "weighted avg    0.98540   0.98479   0.98508      5785\n",
      "\n",
      "[[5639   48]\n",
      " [  40   58]]\n"
     ]
    }
   ],
   "source": [
    "result_model=IF_model.predict(test_data)\n",
    "#report_model=report(test_label,result_model,digits=5)\n",
    "for i in range(len(result_model)):\n",
    "    if(result_model[i]==-1):\n",
    "        result_model[i]=1\n",
    "    else:\n",
    "        result_model[i]=0\n",
    "#print(result_model)\n",
    "report_model=report(test_label,result_model,digits=5)\n",
    "matrix_model=matrix(test_label,result_model)\n",
    "print(report_model)\n",
    "print(matrix_model)"
   ]
  },
  {
   "cell_type": "markdown",
   "metadata": {},
   "source": [
    "## plot"
   ]
  },
  {
   "cell_type": "code",
   "execution_count": 825,
   "metadata": {},
   "outputs": [
    {
     "name": "stdout",
     "output_type": "stream",
     "text": [
      "isolation: f1=0.569 auc=0.607\n"
     ]
    },
    {
     "data": {
      "image/png": "[encoded data removed]",
      "text/plain": [
       "<Figure size 432x288 with 1 Axes>"
      ]
     },
     "metadata": {
      "needs_background": "light"
     },
     "output_type": "display_data"
    }
   ],
   "source": [
    "# predict probabilities\n",
    "lr_probs = IF_model.score_samples(test_data)\n",
    "# keep probabilities for the positive outcome only\n",
    "# lr_probs = lr_probs[:, 1]\n",
    "# predict class values\n",
    "result_model = IF_model.predict(test_data)\n",
    "for i in range(len(result_model)):\n",
    "    if(result_model[i]==-1):\n",
    "        result_model[i]=1\n",
    "    else:\n",
    "        result_model[i]=0\n",
    "lr_precision, lr_recall, _ = precision_recall_curve(test_label, -lr_probs)\n",
    "lr_f1, lr_auc = f1_score(test_label, result_model), auc(lr_recall, lr_precision)\n",
    "# summarize scores\n",
    "print('isolation: f1=%.3f auc=%.3f' % (lr_f1, lr_auc))\n",
    "# plot the precision-recall curves\n",
    "out_lier = len(test_label[test_label==1]) / len(test_label)\n",
    "plt.plot([0, 1], [out_lier, out_lier], linestyle='--', label='out_lier')\n",
    "plt.plot(lr_recall, lr_precision, marker='.', label='isolation')\n",
    "# axis labels\n",
    "plt.xlabel('Recall')\n",
    "plt.ylabel('Precision')\n",
    "# show the legend\n",
    "plt.legend()\n",
    "# show the plot\n",
    "plt.show()"
   ]
  },
  {
   "cell_type": "code",
   "execution_count": null,
   "metadata": {},
   "outputs": [],
   "source": []
  }
 ],
 "metadata": {
  "kernelspec": {
   "display_name": "Python 3",
   "language": "python",
   "name": "python3"
  },
  "language_info": {
   "codemirror_mode": {
    "name": "ipython",
    "version": 3
   },
   "file_extension": ".py",
   "mimetype": "text/x-python",
   "name": "python",
   "nbconvert_exporter": "python",
   "pygments_lexer": "ipython3",
   "version": "3.7.4"
  }
 },
 "nbformat": 4,
 "nbformat_minor": 2
}
