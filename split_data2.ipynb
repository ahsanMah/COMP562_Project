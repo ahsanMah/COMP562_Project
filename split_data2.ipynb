{
 "cells": [
  {
   "cell_type": "code",
   "execution_count": 15,
   "metadata": {},
   "outputs": [],
   "source": [
    "import pandas as pd\n",
    "import numpy as np\n",
    "from sklearn.model_selection import StratifiedShuffleSplit\n",
    "\n",
    "RANDOM_STATE = 42"
   ]
  },
  {
   "cell_type": "markdown",
   "metadata": {},
   "source": [
    "### Load the data"
   ]
  },
  {
   "cell_type": "code",
   "execution_count": 16,
   "metadata": {},
   "outputs": [
    {
     "data": {
      "text/html": [
       "<div>\n",
       "<style scoped>\n",
       "    .dataframe tbody tr th:only-of-type {\n",
       "        vertical-align: middle;\n",
       "    }\n",
       "\n",
       "    .dataframe tbody tr th {\n",
       "        vertical-align: top;\n",
       "    }\n",
       "\n",
       "    .dataframe thead th {\n",
       "        text-align: right;\n",
       "    }\n",
       "</style>\n",
       "<table border=\"1\" class=\"dataframe\">\n",
       "  <thead>\n",
       "    <tr style=\"text-align: right;\">\n",
       "      <th></th>\n",
       "      <th>0</th>\n",
       "      <th>1</th>\n",
       "      <th>2</th>\n",
       "      <th>3</th>\n",
       "    </tr>\n",
       "  </thead>\n",
       "  <tbody>\n",
       "    <tr>\n",
       "      <td>0</td>\n",
       "      <td>-2.302585</td>\n",
       "      <td>5.371103</td>\n",
       "      <td>10.716107</td>\n",
       "      <td>0</td>\n",
       "    </tr>\n",
       "    <tr>\n",
       "      <td>1</td>\n",
       "      <td>-2.302585</td>\n",
       "      <td>5.088213</td>\n",
       "      <td>8.418058</td>\n",
       "      <td>0</td>\n",
       "    </tr>\n",
       "    <tr>\n",
       "      <td>2</td>\n",
       "      <td>-2.302585</td>\n",
       "      <td>5.464255</td>\n",
       "      <td>7.113224</td>\n",
       "      <td>0</td>\n",
       "    </tr>\n",
       "    <tr>\n",
       "      <td>3</td>\n",
       "      <td>-2.302585</td>\n",
       "      <td>5.451468</td>\n",
       "      <td>7.616825</td>\n",
       "      <td>0</td>\n",
       "    </tr>\n",
       "    <tr>\n",
       "      <td>4</td>\n",
       "      <td>-2.302585</td>\n",
       "      <td>5.476882</td>\n",
       "      <td>6.186414</td>\n",
       "      <td>0</td>\n",
       "    </tr>\n",
       "  </tbody>\n",
       "</table>\n",
       "</div>"
      ],
      "text/plain": [
       "          0         1          2  3\n",
       "0 -2.302585  5.371103  10.716107  0\n",
       "1 -2.302585  5.088213   8.418058  0\n",
       "2 -2.302585  5.464255   7.113224  0\n",
       "3 -2.302585  5.451468   7.616825  0\n",
       "4 -2.302585  5.476882   6.186414  0"
      ]
     },
     "execution_count": 16,
     "metadata": {},
     "output_type": "execute_result"
    }
   ],
   "source": [
    "raw_data = pd.read_csv(\"data/cardio.csv\", header=None)\n",
    "raw_data.head()"
   ]
  },
  {
   "cell_type": "markdown",
   "metadata": {},
   "source": [
    "### Check the class distribution"
   ]
  },
  {
   "cell_type": "code",
   "execution_count": 17,
   "metadata": {
    "scrolled": true
   },
   "outputs": [
    {
     "name": "stdout",
     "output_type": "stream",
     "text": [
      "0    565287\n",
      "1      2211\n",
      "Name: 3, dtype: int64\n",
      "Outlier Ratio: 0.00390\n"
     ]
    }
   ],
   "source": [
    "print(raw_data.iloc[:,-1].value_counts())\n",
    "print(\"Outlier Ratio: {:.5f}\".format(raw_data.iloc[:,-1].sum()/raw_data.shape[0]))"
   ]
  },
  {
   "cell_type": "markdown",
   "metadata": {},
   "source": [
    "### Split the data into training data and test data\n",
    "Stratified folds force the splits to have same ratios of classes as the original data"
   ]
  },
  {
   "cell_type": "code",
   "execution_count": 18,
   "metadata": {},
   "outputs": [],
   "source": [
    "# Ratio of test samples to separate\n",
    "test_size = 0.2\n",
    "\n",
    "# The seed will guarantee that the same split is produced if code is rerun\n",
    "splitter = StratifiedShuffleSplit(n_splits=1, test_size=test_size, random_state=RANDOM_STATE)\n",
    "\n",
    "features = raw_data.drop(raw_data.columns[-1],axis=1)\n",
    "labels = raw_data.iloc[:,-1].copy()\n",
    "\n",
    "for train_index,test_index in splitter.split(features, labels):\n",
    "    # Note that this includes the label column\n",
    "    X_train = raw_data.iloc[train_index]\n",
    "    X_test = raw_data.iloc[test_index]"
   ]
  },
  {
   "cell_type": "code",
   "execution_count": 19,
   "metadata": {},
   "outputs": [
    {
     "name": "stdout",
     "output_type": "stream",
     "text": [
      "0    452229\n",
      "1      1769\n",
      "Name: 3, dtype: int64\n",
      "Outlier Ratio: 0.00390\n"
     ]
    }
   ],
   "source": [
    "print(X_train.iloc[:,-1].value_counts())\n",
    "print(\"Outlier Ratio: {:.5f}\".format(X_train.iloc[:,-1].sum()/X_train.shape[0]))"
   ]
  },
  {
   "cell_type": "code",
   "execution_count": 20,
   "metadata": {},
   "outputs": [
    {
     "name": "stdout",
     "output_type": "stream",
     "text": [
      "0    113058\n",
      "1       442\n",
      "Name: 3, dtype: int64\n",
      "Outlier Ratio: 0.00389\n"
     ]
    }
   ],
   "source": [
    "print(X_test.iloc[:,-1].value_counts())\n",
    "print(\"Outlier Ratio: {:.5f}\".format(X_test.iloc[:,-1].sum()/X_test.shape[0]))"
   ]
  },
  {
   "cell_type": "markdown",
   "metadata": {},
   "source": [
    "### Write training data and test data to different files"
   ]
  },
  {
   "cell_type": "code",
   "execution_count": 21,
   "metadata": {},
   "outputs": [],
   "source": [
    "dirname = \"data/\"\n",
    "\n",
    "# Change filenames according to dataset\n",
    "X_train.to_csv(dirname + \"cardio_train.csv\", index=False)\n",
    "X_test.to_csv(dirname + \"cardio_test.csv\", index=False)"
   ]
  }
 ],
 "metadata": {
  "kernelspec": {
   "display_name": "Python 3",
   "language": "python",
   "name": "python3"
  },
  "language_info": {
   "codemirror_mode": {
    "name": "ipython",
    "version": 3
   },
   "file_extension": ".py",
   "mimetype": "text/x-python",
   "name": "python",
   "nbconvert_exporter": "python",
   "pygments_lexer": "ipython3",
   "version": "3.7.4"
  }
 },
 "nbformat": 4,
 "nbformat_minor": 2
}
