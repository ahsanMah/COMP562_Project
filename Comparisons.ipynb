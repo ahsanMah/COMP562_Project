{
 "cells": [
  {
   "cell_type": "code",
   "execution_count": 22,
   "metadata": {},
   "outputs": [],
   "source": [
    "import numpy as np\n",
    "import pandas as pd\n",
    "import matplotlib.pyplot as plt\n",
    "\n",
    "from sklearn.mixture import GaussianMixture\n",
    "from sklearn.ensemble import IsolationForest\n",
    "from sklearn.svm import SVC\n",
    "\n",
    "from sklearn.model_selection import ShuffleSplit\n",
    "from sklearn.preprocessing import StandardScaler\n",
    "from sklearn.metrics import average_precision_score\n",
    "from sklearn.metrics import precision_recall_curve\n",
    "from sklearn.metrics import precision_recall_fscore_support\n",
    "\n",
    "\n",
    "RANDOM_STATE = 42\n",
    "np.random.seed(seed=RANDOM_STATE)\n",
    "\n",
    "plt.rcParams['axes.titlesize'] = 20\n",
    "plt.rcParams['axes.labelsize'] = 14\n",
    "plt.rcParams['xtick.labelsize'] = 12\n",
    "plt.rcParams['ytick.labelsize'] = 12\n",
    "plt.rcParams['legend.fontsize'] = 14\n",
    "\n",
    "# To plot pretty figures\n",
    "%matplotlib inline"
   ]
  },
  {
   "cell_type": "markdown",
   "metadata": {},
   "source": [
    "# Credit Card Dataset"
   ]
  },
  {
   "cell_type": "code",
   "execution_count": 61,
   "metadata": {},
   "outputs": [
    {
     "data": {
      "text/html": [
       "<div>\n",
       "<style scoped>\n",
       "    .dataframe tbody tr th:only-of-type {\n",
       "        vertical-align: middle;\n",
       "    }\n",
       "\n",
       "    .dataframe tbody tr th {\n",
       "        vertical-align: top;\n",
       "    }\n",
       "\n",
       "    .dataframe thead th {\n",
       "        text-align: right;\n",
       "    }\n",
       "</style>\n",
       "<table border=\"1\" class=\"dataframe\">\n",
       "  <thead>\n",
       "    <tr style=\"text-align: right;\">\n",
       "      <th></th>\n",
       "      <th>V1</th>\n",
       "      <th>V2</th>\n",
       "      <th>V3</th>\n",
       "      <th>V4</th>\n",
       "      <th>V5</th>\n",
       "      <th>V6</th>\n",
       "      <th>V7</th>\n",
       "      <th>V8</th>\n",
       "      <th>V9</th>\n",
       "      <th>V10</th>\n",
       "      <th>...</th>\n",
       "      <th>V21</th>\n",
       "      <th>V22</th>\n",
       "      <th>V23</th>\n",
       "      <th>V24</th>\n",
       "      <th>V25</th>\n",
       "      <th>V26</th>\n",
       "      <th>V27</th>\n",
       "      <th>V28</th>\n",
       "      <th>Amount</th>\n",
       "      <th>Class</th>\n",
       "    </tr>\n",
       "  </thead>\n",
       "  <tbody>\n",
       "    <tr>\n",
       "      <th>0</th>\n",
       "      <td>1.114107</td>\n",
       "      <td>0.188459</td>\n",
       "      <td>0.149144</td>\n",
       "      <td>1.153868</td>\n",
       "      <td>0.224011</td>\n",
       "      <td>0.396246</td>\n",
       "      <td>0.020168</td>\n",
       "      <td>0.217603</td>\n",
       "      <td>-0.141379</td>\n",
       "      <td>0.090719</td>\n",
       "      <td>...</td>\n",
       "      <td>0.065655</td>\n",
       "      <td>0.367010</td>\n",
       "      <td>-0.090954</td>\n",
       "      <td>-0.271464</td>\n",
       "      <td>0.646597</td>\n",
       "      <td>-0.217493</td>\n",
       "      <td>0.035881</td>\n",
       "      <td>-0.004553</td>\n",
       "      <td>1.00</td>\n",
       "      <td>0</td>\n",
       "    </tr>\n",
       "    <tr>\n",
       "      <th>1</th>\n",
       "      <td>1.910941</td>\n",
       "      <td>0.686774</td>\n",
       "      <td>-0.595770</td>\n",
       "      <td>3.817385</td>\n",
       "      <td>0.288991</td>\n",
       "      <td>-0.660187</td>\n",
       "      <td>0.365387</td>\n",
       "      <td>-0.261102</td>\n",
       "      <td>-1.226056</td>\n",
       "      <td>1.527476</td>\n",
       "      <td>...</td>\n",
       "      <td>0.266636</td>\n",
       "      <td>0.805442</td>\n",
       "      <td>0.114189</td>\n",
       "      <td>0.401013</td>\n",
       "      <td>0.069967</td>\n",
       "      <td>0.108304</td>\n",
       "      <td>-0.039724</td>\n",
       "      <td>-0.047338</td>\n",
       "      <td>5.14</td>\n",
       "      <td>0</td>\n",
       "    </tr>\n",
       "    <tr>\n",
       "      <th>2</th>\n",
       "      <td>0.013514</td>\n",
       "      <td>0.452287</td>\n",
       "      <td>-0.738086</td>\n",
       "      <td>-0.950309</td>\n",
       "      <td>1.405159</td>\n",
       "      <td>-0.423082</td>\n",
       "      <td>1.115085</td>\n",
       "      <td>-0.073982</td>\n",
       "      <td>-0.349808</td>\n",
       "      <td>-0.362877</td>\n",
       "      <td>...</td>\n",
       "      <td>0.152423</td>\n",
       "      <td>0.411430</td>\n",
       "      <td>-0.017938</td>\n",
       "      <td>0.227643</td>\n",
       "      <td>-0.857711</td>\n",
       "      <td>0.444818</td>\n",
       "      <td>0.136231</td>\n",
       "      <td>0.229043</td>\n",
       "      <td>22.95</td>\n",
       "      <td>0</td>\n",
       "    </tr>\n",
       "    <tr>\n",
       "      <th>3</th>\n",
       "      <td>-1.273388</td>\n",
       "      <td>0.270815</td>\n",
       "      <td>1.256719</td>\n",
       "      <td>1.064659</td>\n",
       "      <td>-1.401545</td>\n",
       "      <td>0.234430</td>\n",
       "      <td>1.194255</td>\n",
       "      <td>0.412955</td>\n",
       "      <td>-0.528987</td>\n",
       "      <td>-1.038559</td>\n",
       "      <td>...</td>\n",
       "      <td>0.407454</td>\n",
       "      <td>0.673393</td>\n",
       "      <td>0.759378</td>\n",
       "      <td>0.580046</td>\n",
       "      <td>-0.310258</td>\n",
       "      <td>-0.463227</td>\n",
       "      <td>-0.023899</td>\n",
       "      <td>0.134970</td>\n",
       "      <td>325.00</td>\n",
       "      <td>0</td>\n",
       "    </tr>\n",
       "    <tr>\n",
       "      <th>4</th>\n",
       "      <td>1.978615</td>\n",
       "      <td>0.114560</td>\n",
       "      <td>-1.322450</td>\n",
       "      <td>0.577586</td>\n",
       "      <td>0.348417</td>\n",
       "      <td>-0.376863</td>\n",
       "      <td>-0.211046</td>\n",
       "      <td>-0.123861</td>\n",
       "      <td>1.623757</td>\n",
       "      <td>-0.637724</td>\n",
       "      <td>...</td>\n",
       "      <td>-0.138925</td>\n",
       "      <td>-0.031185</td>\n",
       "      <td>0.191191</td>\n",
       "      <td>0.598530</td>\n",
       "      <td>-0.182579</td>\n",
       "      <td>0.389251</td>\n",
       "      <td>-0.075180</td>\n",
       "      <td>-0.040764</td>\n",
       "      <td>14.05</td>\n",
       "      <td>0</td>\n",
       "    </tr>\n",
       "  </tbody>\n",
       "</table>\n",
       "<p>5 rows × 30 columns</p>\n",
       "</div>"
      ],
      "text/plain": [
       "         V1        V2        V3        V4        V5        V6        V7  \\\n",
       "0  1.114107  0.188459  0.149144  1.153868  0.224011  0.396246  0.020168   \n",
       "1  1.910941  0.686774 -0.595770  3.817385  0.288991 -0.660187  0.365387   \n",
       "2  0.013514  0.452287 -0.738086 -0.950309  1.405159 -0.423082  1.115085   \n",
       "3 -1.273388  0.270815  1.256719  1.064659 -1.401545  0.234430  1.194255   \n",
       "4  1.978615  0.114560 -1.322450  0.577586  0.348417 -0.376863 -0.211046   \n",
       "\n",
       "         V8        V9       V10  ...       V21       V22       V23       V24  \\\n",
       "0  0.217603 -0.141379  0.090719  ...  0.065655  0.367010 -0.090954 -0.271464   \n",
       "1 -0.261102 -1.226056  1.527476  ...  0.266636  0.805442  0.114189  0.401013   \n",
       "2 -0.073982 -0.349808 -0.362877  ...  0.152423  0.411430 -0.017938  0.227643   \n",
       "3  0.412955 -0.528987 -1.038559  ...  0.407454  0.673393  0.759378  0.580046   \n",
       "4 -0.123861  1.623757 -0.637724  ... -0.138925 -0.031185  0.191191  0.598530   \n",
       "\n",
       "        V25       V26       V27       V28  Amount  Class  \n",
       "0  0.646597 -0.217493  0.035881 -0.004553    1.00      0  \n",
       "1  0.069967  0.108304 -0.039724 -0.047338    5.14      0  \n",
       "2 -0.857711  0.444818  0.136231  0.229043   22.95      0  \n",
       "3 -0.310258 -0.463227 -0.023899  0.134970  325.00      0  \n",
       "4 -0.182579  0.389251 -0.075180 -0.040764   14.05      0  \n",
       "\n",
       "[5 rows x 30 columns]"
      ]
     },
     "execution_count": 61,
     "metadata": {},
     "output_type": "execute_result"
    }
   ],
   "source": [
    "data_train = pd.read_csv(\"data/credit_train_reduced.csv\", index_col=None)\n",
    "data_test = pd.read_csv(\"data/credit_test_reduced.csv\", index_col=None)\n",
    "\n",
    "X_train = data_train.drop(data_train.columns[-1],axis=1)\n",
    "y_train = data_train.iloc[:,-1]\n",
    "\n",
    "X_test = data_test.drop(data_test.columns[-1],axis=1)\n",
    "y_test = data_test.iloc[:,-1]\n",
    "data_train.head()"
   ]
  },
  {
   "cell_type": "code",
   "execution_count": 62,
   "metadata": {},
   "outputs": [],
   "source": [
    "inlier_train = X_train[y_train==0]\n",
    "inlier_test = X_test[y_test==0]\n",
    "outliers = X_test[y_test==1]\n",
    "outliers_all = np.concatenate((outliers, X_train[y_train==1]))"
   ]
  },
  {
   "cell_type": "markdown",
   "metadata": {},
   "source": [
    "## Training each model"
   ]
  },
  {
   "cell_type": "code",
   "execution_count": 63,
   "metadata": {},
   "outputs": [
    {
     "name": "stderr",
     "output_type": "stream",
     "text": [
      "/Users/Work/anaconda3/envs/condatensor/lib/python3.6/site-packages/sklearn/svm/base.py:193: FutureWarning: The default value of gamma will change from 'auto' to 'scale' in version 0.22 to account better for unscaled features. Set gamma explicitly to 'auto' or 'scale' to avoid this warning.\n",
      "  \"avoid this warning.\", FutureWarning)\n"
     ]
    },
    {
     "name": "stdout",
     "output_type": "stream",
     "text": [
      "CPU times: user 9.22 s, sys: 167 ms, total: 9.38 s\n",
      "Wall time: 8.84 s\n"
     ]
    },
    {
     "data": {
      "text/plain": [
       "SVC(C=1.0, cache_size=200, class_weight=None, coef0=0.0,\n",
       "    decision_function_shape='ovr', degree=5, gamma='auto_deprecated',\n",
       "    kernel='rbf', max_iter=-1, probability=False, random_state=None,\n",
       "    shrinking=True, tol=0.001, verbose=False)"
      ]
     },
     "execution_count": 63,
     "metadata": {},
     "output_type": "execute_result"
    }
   ],
   "source": [
    "%%time\n",
    "svclassifier = SVC(kernel=\"rbf\", degree=5)\n",
    "svclassifier.fit(X_train, y_train)"
   ]
  },
  {
   "cell_type": "code",
   "execution_count": 64,
   "metadata": {},
   "outputs": [],
   "source": [
    "SVM_scores = svclassifier.decision_function(X_test)\n",
    "SVM_prec, SVM_recall, _ = precision_recall_curve(y_test, SVM_scores)\n",
    "SVM_average_precision = average_precision_score(y_test, SVM_scores)"
   ]
  },
  {
   "cell_type": "code",
   "execution_count": 73,
   "metadata": {},
   "outputs": [
    {
     "name": "stdout",
     "output_type": "stream",
     "text": [
      "CPU times: user 1.88 s, sys: 163 ms, total: 2.04 s\n",
      "Wall time: 1.12 s\n"
     ]
    },
    {
     "data": {
      "text/plain": [
       "IsolationForest(behaviour='new', bootstrap=False, contamination=0.01802679,\n",
       "                max_features=0.63, max_samples=256, n_estimators=130, n_jobs=-1,\n",
       "                random_state=42, verbose=0, warm_start=False)"
      ]
     },
     "execution_count": 73,
     "metadata": {},
     "output_type": "execute_result"
    }
   ],
   "source": [
    "%%time \n",
    "IF_model = IsolationForest(n_estimators=130,max_features=0.63,max_samples=256,\n",
    "                           random_state=42,n_jobs=-1,contamination=0.01802679, behaviour='new')\n",
    "\n",
    "IF_model.fit(X_train,y_train)"
   ]
  },
  {
   "cell_type": "code",
   "execution_count": 74,
   "metadata": {},
   "outputs": [],
   "source": [
    "IF_score=IF_model.decision_function(X_test)\n",
    "IF_prec, IF_recall, _ = precision_recall_curve(y_test, -IF_score)\n",
    "IF_average_precision = average_precision_score(y_test, -IF_score)"
   ]
  },
  {
   "cell_type": "code",
   "execution_count": 67,
   "metadata": {},
   "outputs": [
    {
     "name": "stdout",
     "output_type": "stream",
     "text": [
      "CPU times: user 2min 9s, sys: 883 ms, total: 2min 10s\n",
      "Wall time: 32.7 s\n"
     ]
    },
    {
     "data": {
      "text/plain": [
       "GaussianMixture(covariance_type='full', init_params='kmeans', max_iter=100,\n",
       "                means_init=None, n_components=19, n_init=5,\n",
       "                precisions_init=None, random_state=None, reg_covar=1e-06,\n",
       "                tol=0.001, verbose=0, verbose_interval=10, warm_start=False,\n",
       "                weights_init=None)"
      ]
     },
     "execution_count": 67,
     "metadata": {},
     "output_type": "execute_result"
    }
   ],
   "source": [
    "%%time\n",
    "best_gmm = GaussianMixture(n_components=19, covariance_type=\"full\", max_iter=100, n_init=5)\n",
    "best_gmm.fit(inlier_train)"
   ]
  },
  {
   "cell_type": "code",
   "execution_count": 68,
   "metadata": {},
   "outputs": [],
   "source": [
    "test_scores = pd.DataFrame(best_gmm.score_samples(inlier_test))\n",
    "outlier_scores_all = pd.DataFrame(best_gmm.score_samples(outliers_all))\n",
    "GMM_probs = np.concatenate((test_scores, outlier_scores_all))\n",
    "GMM_true = np.concatenate(([0]*len(test_scores), [1]*len(outlier_scores_all)))\n",
    "GMM_prec, GMM_recall, _ = precision_recall_curve(GMM_true, -GMM_probs)\n",
    "GMM_average_precision = average_precision_score(GMM_true, -GMM_probs)"
   ]
  },
  {
   "cell_type": "markdown",
   "metadata": {},
   "source": [
    "## Plotting final figure"
   ]
  },
  {
   "cell_type": "code",
   "execution_count": 75,
   "metadata": {},
   "outputs": [
    {
     "data": {
      "image/png": "[encoded data removed]",
      "text/plain": [
       "<Figure size 864x576 with 1 Axes>"
      ]
     },
     "metadata": {
      "needs_background": "light"
     },
     "output_type": "display_data"
    }
   ],
   "source": [
    "plt.figure(figsize=(12, 8))\n",
    "plt.plot(GMM_recall, GMM_prec, marker='.', color=\"blue\",\n",
    "         label='GMM (AP={0:0.3f})'.format(GMM_average_precision))\n",
    "plt.plot(IF_recall, IF_prec, marker='.', color=\"orange\",\n",
    "         label='IF (AP={0:0.3f})'.format(IF_average_precision))\n",
    "plt.plot(SVM_recall, SVM_prec, marker='.', color=\"green\",\n",
    "         label='SVM (AP={0:0.3f})'.format(SVM_average_precision))\n",
    "\n",
    "plt.xlabel(\"Recall\")\n",
    "plt.ylabel(\"Precision\")\n",
    "plt.title('Credit Card Precision-Recall Curves')\n",
    "\n",
    "plt.legend()\n",
    "plt.savefig(\"credit.png\", dpi=600)"
   ]
  },
  {
   "cell_type": "markdown",
   "metadata": {},
   "source": [
    "# Cardio Dataset"
   ]
  },
  {
   "cell_type": "code",
   "execution_count": 51,
   "metadata": {},
   "outputs": [
    {
     "data": {
      "text/html": [
       "<div>\n",
       "<style scoped>\n",
       "    .dataframe tbody tr th:only-of-type {\n",
       "        vertical-align: middle;\n",
       "    }\n",
       "\n",
       "    .dataframe tbody tr th {\n",
       "        vertical-align: top;\n",
       "    }\n",
       "\n",
       "    .dataframe thead th {\n",
       "        text-align: right;\n",
       "    }\n",
       "</style>\n",
       "<table border=\"1\" class=\"dataframe\">\n",
       "  <thead>\n",
       "    <tr style=\"text-align: right;\">\n",
       "      <th></th>\n",
       "      <th>0</th>\n",
       "      <th>1</th>\n",
       "      <th>2</th>\n",
       "      <th>3</th>\n",
       "      <th>4</th>\n",
       "      <th>5</th>\n",
       "      <th>6</th>\n",
       "      <th>7</th>\n",
       "      <th>8</th>\n",
       "      <th>9</th>\n",
       "      <th>...</th>\n",
       "      <th>12</th>\n",
       "      <th>13</th>\n",
       "      <th>14</th>\n",
       "      <th>15</th>\n",
       "      <th>16</th>\n",
       "      <th>17</th>\n",
       "      <th>18</th>\n",
       "      <th>19</th>\n",
       "      <th>20</th>\n",
       "      <th>21</th>\n",
       "    </tr>\n",
       "  </thead>\n",
       "  <tbody>\n",
       "    <tr>\n",
       "      <th>0</th>\n",
       "      <td>-2.746331</td>\n",
       "      <td>0.674374</td>\n",
       "      <td>-0.203640</td>\n",
       "      <td>0.569296</td>\n",
       "      <td>-0.683598</td>\n",
       "      <td>-0.061401</td>\n",
       "      <td>-0.278295</td>\n",
       "      <td>1.161352</td>\n",
       "      <td>-0.862298</td>\n",
       "      <td>-0.420487</td>\n",
       "      <td>...</td>\n",
       "      <td>0.342006</td>\n",
       "      <td>-0.565334</td>\n",
       "      <td>-0.409388</td>\n",
       "      <td>-0.488279</td>\n",
       "      <td>-1.441887</td>\n",
       "      <td>-1.083848</td>\n",
       "      <td>-1.561651</td>\n",
       "      <td>-0.222985</td>\n",
       "      <td>-2.126605</td>\n",
       "      <td>0</td>\n",
       "    </tr>\n",
       "    <tr>\n",
       "      <th>1</th>\n",
       "      <td>-1.476526</td>\n",
       "      <td>-0.487369</td>\n",
       "      <td>-0.203640</td>\n",
       "      <td>0.159199</td>\n",
       "      <td>-0.127511</td>\n",
       "      <td>-0.061401</td>\n",
       "      <td>-0.278295</td>\n",
       "      <td>-1.171841</td>\n",
       "      <td>-0.051613</td>\n",
       "      <td>0.948799</td>\n",
       "      <td>...</td>\n",
       "      <td>-0.655829</td>\n",
       "      <td>-0.235325</td>\n",
       "      <td>-0.753395</td>\n",
       "      <td>2.414444</td>\n",
       "      <td>-0.600269</td>\n",
       "      <td>-0.828456</td>\n",
       "      <td>-0.940945</td>\n",
       "      <td>-0.323186</td>\n",
       "      <td>-0.493294</td>\n",
       "      <td>0</td>\n",
       "    </tr>\n",
       "    <tr>\n",
       "      <th>2</th>\n",
       "      <td>-0.312539</td>\n",
       "      <td>-0.380829</td>\n",
       "      <td>0.066072</td>\n",
       "      <td>-1.635871</td>\n",
       "      <td>-0.683598</td>\n",
       "      <td>-0.061401</td>\n",
       "      <td>-0.278295</td>\n",
       "      <td>0.144320</td>\n",
       "      <td>-0.630673</td>\n",
       "      <td>-0.420487</td>\n",
       "      <td>...</td>\n",
       "      <td>-1.368567</td>\n",
       "      <td>-0.455331</td>\n",
       "      <td>0.622631</td>\n",
       "      <td>-0.488279</td>\n",
       "      <td>-0.179460</td>\n",
       "      <td>0.001569</td>\n",
       "      <td>-0.182306</td>\n",
       "      <td>-0.556988</td>\n",
       "      <td>1.140018</td>\n",
       "      <td>0</td>\n",
       "    </tr>\n",
       "    <tr>\n",
       "      <th>3</th>\n",
       "      <td>-0.947441</td>\n",
       "      <td>3.464968</td>\n",
       "      <td>-0.203640</td>\n",
       "      <td>-0.961999</td>\n",
       "      <td>-0.683598</td>\n",
       "      <td>-0.061401</td>\n",
       "      <td>-0.278295</td>\n",
       "      <td>-1.231666</td>\n",
       "      <td>0.874885</td>\n",
       "      <td>-0.420487</td>\n",
       "      <td>...</td>\n",
       "      <td>0.342006</td>\n",
       "      <td>-0.675337</td>\n",
       "      <td>-1.097401</td>\n",
       "      <td>-0.488279</td>\n",
       "      <td>0.000886</td>\n",
       "      <td>0.001569</td>\n",
       "      <td>-0.113338</td>\n",
       "      <td>-0.523588</td>\n",
       "      <td>-0.493294</td>\n",
       "      <td>0</td>\n",
       "    </tr>\n",
       "    <tr>\n",
       "      <th>4</th>\n",
       "      <td>0.533997</td>\n",
       "      <td>-0.437880</td>\n",
       "      <td>-0.163445</td>\n",
       "      <td>0.697949</td>\n",
       "      <td>1.175504</td>\n",
       "      <td>-0.061401</td>\n",
       "      <td>-0.278295</td>\n",
       "      <td>0.802400</td>\n",
       "      <td>0.411636</td>\n",
       "      <td>-0.420487</td>\n",
       "      <td>...</td>\n",
       "      <td>-1.083472</td>\n",
       "      <td>0.094683</td>\n",
       "      <td>0.622631</td>\n",
       "      <td>-0.488279</td>\n",
       "      <td>0.181233</td>\n",
       "      <td>0.001569</td>\n",
       "      <td>0.300465</td>\n",
       "      <td>0.044218</td>\n",
       "      <td>1.140018</td>\n",
       "      <td>0</td>\n",
       "    </tr>\n",
       "  </tbody>\n",
       "</table>\n",
       "<p>5 rows × 22 columns</p>\n",
       "</div>"
      ],
      "text/plain": [
       "          0         1         2         3         4         5         6  \\\n",
       "0 -2.746331  0.674374 -0.203640  0.569296 -0.683598 -0.061401 -0.278295   \n",
       "1 -1.476526 -0.487369 -0.203640  0.159199 -0.127511 -0.061401 -0.278295   \n",
       "2 -0.312539 -0.380829  0.066072 -1.635871 -0.683598 -0.061401 -0.278295   \n",
       "3 -0.947441  3.464968 -0.203640 -0.961999 -0.683598 -0.061401 -0.278295   \n",
       "4  0.533997 -0.437880 -0.163445  0.697949  1.175504 -0.061401 -0.278295   \n",
       "\n",
       "          7         8         9  ...        12        13        14        15  \\\n",
       "0  1.161352 -0.862298 -0.420487  ...  0.342006 -0.565334 -0.409388 -0.488279   \n",
       "1 -1.171841 -0.051613  0.948799  ... -0.655829 -0.235325 -0.753395  2.414444   \n",
       "2  0.144320 -0.630673 -0.420487  ... -1.368567 -0.455331  0.622631 -0.488279   \n",
       "3 -1.231666  0.874885 -0.420487  ...  0.342006 -0.675337 -1.097401 -0.488279   \n",
       "4  0.802400  0.411636 -0.420487  ... -1.083472  0.094683  0.622631 -0.488279   \n",
       "\n",
       "         16        17        18        19        20  21  \n",
       "0 -1.441887 -1.083848 -1.561651 -0.222985 -2.126605   0  \n",
       "1 -0.600269 -0.828456 -0.940945 -0.323186 -0.493294   0  \n",
       "2 -0.179460  0.001569 -0.182306 -0.556988  1.140018   0  \n",
       "3  0.000886  0.001569 -0.113338 -0.523588 -0.493294   0  \n",
       "4  0.181233  0.001569  0.300465  0.044218  1.140018   0  \n",
       "\n",
       "[5 rows x 22 columns]"
      ]
     },
     "execution_count": 51,
     "metadata": {},
     "output_type": "execute_result"
    }
   ],
   "source": [
    "data_train = pd.read_csv(\"data/cardio_train.csv\", index_col=None)\n",
    "data_test = pd.read_csv(\"data/cardio_test.csv\", index_col=None)\n",
    "\n",
    "X_train = data_train.drop(data_train.columns[-1],axis=1)\n",
    "y_train = data_train.iloc[:,-1]\n",
    "\n",
    "X_test = data_test.drop(data_test.columns[-1],axis=1)\n",
    "y_test = data_test.iloc[:,-1]\n",
    "data_train.head()"
   ]
  },
  {
   "cell_type": "code",
   "execution_count": 52,
   "metadata": {},
   "outputs": [],
   "source": [
    "inlier_train = X_train[y_train==0]\n",
    "inlier_test = X_test[y_test==0]\n",
    "outliers = X_test[y_test==1]\n",
    "outliers_all = np.concatenate((outliers, X_train[y_train==1]))"
   ]
  },
  {
   "cell_type": "markdown",
   "metadata": {},
   "source": [
    "## Training each model"
   ]
  },
  {
   "cell_type": "code",
   "execution_count": 53,
   "metadata": {},
   "outputs": [
    {
     "name": "stdout",
     "output_type": "stream",
     "text": [
      "CPU times: user 15.5 ms, sys: 1.85 ms, total: 17.4 ms\n",
      "Wall time: 15.6 ms\n"
     ]
    },
    {
     "name": "stderr",
     "output_type": "stream",
     "text": [
      "/Users/Work/anaconda3/envs/condatensor/lib/python3.6/site-packages/sklearn/svm/base.py:193: FutureWarning: The default value of gamma will change from 'auto' to 'scale' in version 0.22 to account better for unscaled features. Set gamma explicitly to 'auto' or 'scale' to avoid this warning.\n",
      "  \"avoid this warning.\", FutureWarning)\n"
     ]
    },
    {
     "data": {
      "text/plain": [
       "SVC(C=1.0, cache_size=200, class_weight=None, coef0=0.0,\n",
       "    decision_function_shape='ovr', degree=5, gamma='auto_deprecated',\n",
       "    kernel='rbf', max_iter=-1, probability=False, random_state=None,\n",
       "    shrinking=True, tol=0.001, verbose=False)"
      ]
     },
     "execution_count": 53,
     "metadata": {},
     "output_type": "execute_result"
    }
   ],
   "source": [
    "%%time\n",
    "svclassifier = SVC(kernel=\"rbf\", degree=5)\n",
    "svclassifier.fit(X_train, y_train)"
   ]
  },
  {
   "cell_type": "code",
   "execution_count": 54,
   "metadata": {},
   "outputs": [],
   "source": [
    "SVM_scores = svclassifier.decision_function(X_test)\n",
    "SVM_prec, SVM_recall, _ = precision_recall_curve(y_test, SVM_scores)\n",
    "SVM_average_precision = average_precision_score(y_test, SVM_scores)"
   ]
  },
  {
   "cell_type": "code",
   "execution_count": 55,
   "metadata": {},
   "outputs": [
    {
     "name": "stdout",
     "output_type": "stream",
     "text": [
      "CPU times: user 37.1 ms, sys: 3.1 ms, total: 40.2 ms\n",
      "Wall time: 39.2 ms\n"
     ]
    },
    {
     "data": {
      "text/plain": [
       "IsolationForest(behaviour='new', bootstrap=False, contamination=0.099,\n",
       "                max_features=1.0, max_samples=75, n_estimators=14, n_jobs=None,\n",
       "                random_state=40, verbose=0, warm_start=False)"
      ]
     },
     "execution_count": 55,
     "metadata": {},
     "output_type": "execute_result"
    }
   ],
   "source": [
    "%%time \n",
    "IF_model = IsolationForest(n_estimators=14,max_features=1.0,max_samples=75,\n",
    "                           random_state=40,contamination=0.099, behaviour='new')\n",
    "IF_model.fit(X_train,y_train)"
   ]
  },
  {
   "cell_type": "code",
   "execution_count": 56,
   "metadata": {},
   "outputs": [],
   "source": [
    "IF_score=IF_model.decision_function(X_test)\n",
    "IF_prec, IF_recall, _ = precision_recall_curve(y_test, -IF_score)\n",
    "IF_average_precision = average_precision_score(y_test, -IF_score)"
   ]
  },
  {
   "cell_type": "code",
   "execution_count": 57,
   "metadata": {},
   "outputs": [
    {
     "name": "stdout",
     "output_type": "stream",
     "text": [
      "CPU times: user 4.11 s, sys: 52.6 ms, total: 4.16 s\n",
      "Wall time: 1.06 s\n"
     ]
    },
    {
     "data": {
      "text/plain": [
       "GaussianMixture(covariance_type='full', init_params='kmeans', max_iter=100,\n",
       "                means_init=None, n_components=10, n_init=5,\n",
       "                precisions_init=None, random_state=None, reg_covar=1e-06,\n",
       "                tol=0.001, verbose=0, verbose_interval=10, warm_start=False,\n",
       "                weights_init=None)"
      ]
     },
     "execution_count": 57,
     "metadata": {},
     "output_type": "execute_result"
    }
   ],
   "source": [
    "%%time\n",
    "best_gmm = GaussianMixture(n_components=10, covariance_type=\"full\", max_iter=100, n_init=5)\n",
    "best_gmm.fit(inlier_train)"
   ]
  },
  {
   "cell_type": "code",
   "execution_count": 58,
   "metadata": {},
   "outputs": [],
   "source": [
    "test_scores = pd.DataFrame(best_gmm.score_samples(inlier_test))\n",
    "outlier_scores_all = pd.DataFrame(best_gmm.score_samples(outliers_all))\n",
    "GMM_probs = np.concatenate((test_scores, outlier_scores_all))\n",
    "GMM_true = np.concatenate(([0]*len(test_scores), [1]*len(outlier_scores_all)))\n",
    "GMM_prec, GMM_recall, _ = precision_recall_curve(GMM_true, -GMM_probs)\n",
    "GMM_average_precision = average_precision_score(GMM_true, -GMM_probs)"
   ]
  },
  {
   "cell_type": "markdown",
   "metadata": {},
   "source": [
    "## Plotting final figure"
   ]
  },
  {
   "cell_type": "code",
   "execution_count": 59,
   "metadata": {},
   "outputs": [
    {
     "data": {
      "image/png": "[encoded data removed]",
      "text/plain": [
       "<Figure size 864x576 with 1 Axes>"
      ]
     },
     "metadata": {
      "needs_background": "light"
     },
     "output_type": "display_data"
    }
   ],
   "source": [
    "plt.figure(figsize=(12, 8))\n",
    "plt.plot(GMM_recall, GMM_prec, marker='.', color=\"blue\",\n",
    "         label='GMM (AP={0:0.3f})'.format(GMM_average_precision))\n",
    "plt.plot(IF_recall, IF_prec, marker='.', color=\"orange\",\n",
    "         label='IF (AP={0:0.3f})'.format(IF_average_precision))\n",
    "plt.plot(SVM_recall, SVM_prec, marker='.', color=\"green\",\n",
    "         label='SVM (AP={0:0.3f})'.format(SVM_average_precision))\n",
    "\n",
    "plt.xlabel(\"Recall\")\n",
    "plt.ylabel(\"Precision\")\n",
    "plt.title('Cardio Precision-Recall Curves')\n",
    "\n",
    "plt.legend()\n",
    "plt.savefig(\"cardio.png\", dpi=600)"
   ]
  },
  {
   "cell_type": "code",
   "execution_count": null,
   "metadata": {},
   "outputs": [],
   "source": []
  }
 ],
 "metadata": {
  "kernelspec": {
   "display_name": "Python (condatensor)",
   "language": "python",
   "name": "condatensor"
  },
  "language_info": {
   "codemirror_mode": {
    "name": "ipython",
    "version": 3
   },
   "file_extension": ".py",
   "mimetype": "text/x-python",
   "name": "python",
   "nbconvert_exporter": "python",
   "pygments_lexer": "ipython3",
   "version": "3.6.9"
  }
 },
 "nbformat": 4,
 "nbformat_minor": 4
}
