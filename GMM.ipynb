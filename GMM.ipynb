{
 "cells": [
  {
   "cell_type": "code",
   "execution_count": 179,
   "metadata": {},
   "outputs": [],
   "source": [
    "import numpy as np\n",
    "import pandas as pd\n",
    "import matplotlib.pyplot as plt\n",
    "\n",
    "from sklearn.mixture import GaussianMixture\n",
    "from sklearn.model_selection import ShuffleSplit\n",
    "from sklearn.preprocessing import StandardScaler\n",
    "from sklearn.metrics import average_precision_score\n",
    "from sklearn.metrics import precision_recall_curve\n",
    "from sklearn.metrics import precision_recall_fscore_support\n",
    "\n",
    "RANDOM_STATE = 42\n",
    "np.random.seed(seed=RANDOM_STATE)\n",
    "\n",
    "plt.rcParams['axes.titlesize'] = 18\n",
    "plt.rcParams['axes.labelsize'] = 14\n",
    "plt.rcParams['xtick.labelsize'] = 12\n",
    "plt.rcParams['ytick.labelsize'] = 12\n",
    "\n",
    "# To plot pretty figures\n",
    "%matplotlib inline"
   ]
  },
  {
   "cell_type": "markdown",
   "metadata": {},
   "source": [
    "# Credit Card Dataset"
   ]
  },
  {
   "cell_type": "code",
   "execution_count": 267,
   "metadata": {},
   "outputs": [
    {
     "data": {
      "text/html": [
       "<div>\n",
       "<style scoped>\n",
       "    .dataframe tbody tr th:only-of-type {\n",
       "        vertical-align: middle;\n",
       "    }\n",
       "\n",
       "    .dataframe tbody tr th {\n",
       "        vertical-align: top;\n",
       "    }\n",
       "\n",
       "    .dataframe thead th {\n",
       "        text-align: right;\n",
       "    }\n",
       "</style>\n",
       "<table border=\"1\" class=\"dataframe\">\n",
       "  <thead>\n",
       "    <tr style=\"text-align: right;\">\n",
       "      <th></th>\n",
       "      <th>V2</th>\n",
       "      <th>V3</th>\n",
       "      <th>V4</th>\n",
       "      <th>V5</th>\n",
       "      <th>V6</th>\n",
       "      <th>V7</th>\n",
       "      <th>V8</th>\n",
       "      <th>V9</th>\n",
       "      <th>V10</th>\n",
       "      <th>V11</th>\n",
       "      <th>...</th>\n",
       "      <th>V20</th>\n",
       "      <th>V21</th>\n",
       "      <th>V22</th>\n",
       "      <th>V23</th>\n",
       "      <th>V24</th>\n",
       "      <th>V25</th>\n",
       "      <th>V26</th>\n",
       "      <th>V27</th>\n",
       "      <th>V28</th>\n",
       "      <th>Class</th>\n",
       "    </tr>\n",
       "    <tr>\n",
       "      <th>V1</th>\n",
       "      <th></th>\n",
       "      <th></th>\n",
       "      <th></th>\n",
       "      <th></th>\n",
       "      <th></th>\n",
       "      <th></th>\n",
       "      <th></th>\n",
       "      <th></th>\n",
       "      <th></th>\n",
       "      <th></th>\n",
       "      <th></th>\n",
       "      <th></th>\n",
       "      <th></th>\n",
       "      <th></th>\n",
       "      <th></th>\n",
       "      <th></th>\n",
       "      <th></th>\n",
       "      <th></th>\n",
       "      <th></th>\n",
       "      <th></th>\n",
       "      <th></th>\n",
       "    </tr>\n",
       "  </thead>\n",
       "  <tbody>\n",
       "    <tr>\n",
       "      <th>1.114107</th>\n",
       "      <td>0.188459</td>\n",
       "      <td>0.149144</td>\n",
       "      <td>1.153868</td>\n",
       "      <td>0.224011</td>\n",
       "      <td>0.396246</td>\n",
       "      <td>0.020168</td>\n",
       "      <td>0.217603</td>\n",
       "      <td>-0.141379</td>\n",
       "      <td>0.090719</td>\n",
       "      <td>1.428138</td>\n",
       "      <td>...</td>\n",
       "      <td>-0.255692</td>\n",
       "      <td>0.065655</td>\n",
       "      <td>0.367010</td>\n",
       "      <td>-0.090954</td>\n",
       "      <td>-0.271464</td>\n",
       "      <td>0.646597</td>\n",
       "      <td>-0.217493</td>\n",
       "      <td>0.035881</td>\n",
       "      <td>-0.004553</td>\n",
       "      <td>0</td>\n",
       "    </tr>\n",
       "    <tr>\n",
       "      <th>1.910941</th>\n",
       "      <td>0.686774</td>\n",
       "      <td>-0.595770</td>\n",
       "      <td>3.817385</td>\n",
       "      <td>0.288991</td>\n",
       "      <td>-0.660187</td>\n",
       "      <td>0.365387</td>\n",
       "      <td>-0.261102</td>\n",
       "      <td>-1.226056</td>\n",
       "      <td>1.527476</td>\n",
       "      <td>-0.610363</td>\n",
       "      <td>...</td>\n",
       "      <td>-0.282781</td>\n",
       "      <td>0.266636</td>\n",
       "      <td>0.805442</td>\n",
       "      <td>0.114189</td>\n",
       "      <td>0.401013</td>\n",
       "      <td>0.069967</td>\n",
       "      <td>0.108304</td>\n",
       "      <td>-0.039724</td>\n",
       "      <td>-0.047338</td>\n",
       "      <td>0</td>\n",
       "    </tr>\n",
       "    <tr>\n",
       "      <th>0.013514</th>\n",
       "      <td>0.452287</td>\n",
       "      <td>-0.738086</td>\n",
       "      <td>-0.950309</td>\n",
       "      <td>1.405159</td>\n",
       "      <td>-0.423082</td>\n",
       "      <td>1.115085</td>\n",
       "      <td>-0.073982</td>\n",
       "      <td>-0.349808</td>\n",
       "      <td>-0.362877</td>\n",
       "      <td>-0.163693</td>\n",
       "      <td>...</td>\n",
       "      <td>-0.146694</td>\n",
       "      <td>0.152423</td>\n",
       "      <td>0.411430</td>\n",
       "      <td>-0.017938</td>\n",
       "      <td>0.227643</td>\n",
       "      <td>-0.857711</td>\n",
       "      <td>0.444818</td>\n",
       "      <td>0.136231</td>\n",
       "      <td>0.229043</td>\n",
       "      <td>0</td>\n",
       "    </tr>\n",
       "    <tr>\n",
       "      <th>-1.273388</th>\n",
       "      <td>0.270815</td>\n",
       "      <td>1.256719</td>\n",
       "      <td>1.064659</td>\n",
       "      <td>-1.401545</td>\n",
       "      <td>0.234430</td>\n",
       "      <td>1.194255</td>\n",
       "      <td>0.412955</td>\n",
       "      <td>-0.528987</td>\n",
       "      <td>-1.038559</td>\n",
       "      <td>-0.228716</td>\n",
       "      <td>...</td>\n",
       "      <td>0.472001</td>\n",
       "      <td>0.407454</td>\n",
       "      <td>0.673393</td>\n",
       "      <td>0.759378</td>\n",
       "      <td>0.580046</td>\n",
       "      <td>-0.310258</td>\n",
       "      <td>-0.463227</td>\n",
       "      <td>-0.023899</td>\n",
       "      <td>0.134970</td>\n",
       "      <td>0</td>\n",
       "    </tr>\n",
       "    <tr>\n",
       "      <th>1.978615</th>\n",
       "      <td>0.114560</td>\n",
       "      <td>-1.322450</td>\n",
       "      <td>0.577586</td>\n",
       "      <td>0.348417</td>\n",
       "      <td>-0.376863</td>\n",
       "      <td>-0.211046</td>\n",
       "      <td>-0.123861</td>\n",
       "      <td>1.623757</td>\n",
       "      <td>-0.637724</td>\n",
       "      <td>2.307537</td>\n",
       "      <td>...</td>\n",
       "      <td>-0.137539</td>\n",
       "      <td>-0.138925</td>\n",
       "      <td>-0.031185</td>\n",
       "      <td>0.191191</td>\n",
       "      <td>0.598530</td>\n",
       "      <td>-0.182579</td>\n",
       "      <td>0.389251</td>\n",
       "      <td>-0.075180</td>\n",
       "      <td>-0.040764</td>\n",
       "      <td>0</td>\n",
       "    </tr>\n",
       "  </tbody>\n",
       "</table>\n",
       "<p>5 rows × 28 columns</p>\n",
       "</div>"
      ],
      "text/plain": [
       "                 V2        V3        V4        V5        V6        V7  \\\n",
       "V1                                                                      \n",
       " 1.114107  0.188459  0.149144  1.153868  0.224011  0.396246  0.020168   \n",
       " 1.910941  0.686774 -0.595770  3.817385  0.288991 -0.660187  0.365387   \n",
       " 0.013514  0.452287 -0.738086 -0.950309  1.405159 -0.423082  1.115085   \n",
       "-1.273388  0.270815  1.256719  1.064659 -1.401545  0.234430  1.194255   \n",
       " 1.978615  0.114560 -1.322450  0.577586  0.348417 -0.376863 -0.211046   \n",
       "\n",
       "                 V8        V9       V10       V11  ...       V20       V21  \\\n",
       "V1                                                 ...                       \n",
       " 1.114107  0.217603 -0.141379  0.090719  1.428138  ... -0.255692  0.065655   \n",
       " 1.910941 -0.261102 -1.226056  1.527476 -0.610363  ... -0.282781  0.266636   \n",
       " 0.013514 -0.073982 -0.349808 -0.362877 -0.163693  ... -0.146694  0.152423   \n",
       "-1.273388  0.412955 -0.528987 -1.038559 -0.228716  ...  0.472001  0.407454   \n",
       " 1.978615 -0.123861  1.623757 -0.637724  2.307537  ... -0.137539 -0.138925   \n",
       "\n",
       "                V22       V23       V24       V25       V26       V27  \\\n",
       "V1                                                                      \n",
       " 1.114107  0.367010 -0.090954 -0.271464  0.646597 -0.217493  0.035881   \n",
       " 1.910941  0.805442  0.114189  0.401013  0.069967  0.108304 -0.039724   \n",
       " 0.013514  0.411430 -0.017938  0.227643 -0.857711  0.444818  0.136231   \n",
       "-1.273388  0.673393  0.759378  0.580046 -0.310258 -0.463227 -0.023899   \n",
       " 1.978615 -0.031185  0.191191  0.598530 -0.182579  0.389251 -0.075180   \n",
       "\n",
       "                V28  Class  \n",
       "V1                          \n",
       " 1.114107 -0.004553      0  \n",
       " 1.910941 -0.047338      0  \n",
       " 0.013514  0.229043      0  \n",
       "-1.273388  0.134970      0  \n",
       " 1.978615 -0.040764      0  \n",
       "\n",
       "[5 rows x 28 columns]"
      ]
     },
     "execution_count": 267,
     "metadata": {},
     "output_type": "execute_result"
    }
   ],
   "source": [
    "data_train = pd.read_csv(\"data/credit_train_reduced.csv\", index_col=0)\n",
    "data_test = pd.read_csv(\"data/credit_test_reduced.csv\", index_col=0)\n",
    "\n",
    "X_train = data_train.drop(data_train.columns[-1],axis=1)\n",
    "y_train = data_train.iloc[:,-1]\n",
    "\n",
    "X_test = data_test.drop(data_test.columns[-1],axis=1)\n",
    "y_test = data_test.iloc[:,-1]\n",
    "data_train.head()"
   ]
  },
  {
   "cell_type": "code",
   "execution_count": 298,
   "metadata": {},
   "outputs": [],
   "source": [
    "# X = raw_data.drop(columns=[\"Class\"])\n",
    "# y = raw_data[\"Class\"].copy()\n",
    "\n",
    "inlier_train = X_train[y_train==0]\n",
    "inlier_test = X_test[y_test==0]\n",
    "outliers = X_test[y_test==1]\n",
    "outliers_all = np.concatenate((outliers, X_train[y_train==1]))\n",
    "\n",
    "# ## No need to split again\n",
    "# outliers = X[y==1]\n",
    "# outlier_ratio = len(outliers) / len(X)\n",
    "\n",
    "# # Test samples of non-anomalous class are the same size as outliers\n",
    "# test_ratio = outlier_ratio\n",
    "# splitter = ShuffleSplit(n_splits=1, test_size=test_ratio)\n",
    "\n",
    "# for train_index,test_index in splitter.split(inliers):\n",
    "#     inlier_train = inliers.iloc[train_index]\n",
    "#     inlier_test = inliers.iloc[test_index]\n",
    "\n",
    "# scaler = StandardScaler()\n",
    "\n",
    "# inlier_train = scaler.fit_transform(inlier_train)\n",
    "# inlier_test = scaler.transform(inlier_test)\n",
    "# outliers = scaler.transform(outliers)"
   ]
  },
  {
   "cell_type": "code",
   "execution_count": 269,
   "metadata": {},
   "outputs": [
    {
     "name": "stdout",
     "output_type": "stream",
     "text": [
      "CPU times: user 3.08 s, sys: 48.7 ms, total: 3.13 s\n",
      "Wall time: 803 ms\n"
     ]
    },
    {
     "data": {
      "text/plain": [
       "GaussianMixture(covariance_type='full', init_params='kmeans', max_iter=100,\n",
       "                means_init=None, n_components=3, n_init=1, precisions_init=None,\n",
       "                random_state=None, reg_covar=1e-06, tol=0.001, verbose=0,\n",
       "                verbose_interval=10, warm_start=False, weights_init=None)"
      ]
     },
     "execution_count": 269,
     "metadata": {},
     "output_type": "execute_result"
    }
   ],
   "source": [
    "%%time\n",
    "GMM = GaussianMixture(n_components=3, covariance_type=\"full\")\n",
    "GMM.fit(inlier_train)"
   ]
  },
  {
   "cell_type": "code",
   "execution_count": 270,
   "metadata": {},
   "outputs": [
    {
     "name": "stdout",
     "output_type": "stream",
     "text": [
      "Training Likelihood: -16.787\n"
     ]
    }
   ],
   "source": [
    "print(\"Training Likelihood: {:.3f}\".format(GMM.score(inlier_train)))"
   ]
  },
  {
   "cell_type": "code",
   "execution_count": 271,
   "metadata": {},
   "outputs": [
    {
     "name": "stdout",
     "output_type": "stream",
     "text": [
      "Testing Likelihood: -89.576\n"
     ]
    }
   ],
   "source": [
    "print(\"Testing Likelihood: {:.3f}\".format(GMM.score(X_test)))"
   ]
  },
  {
   "cell_type": "code",
   "execution_count": 272,
   "metadata": {},
   "outputs": [
    {
     "name": "stdout",
     "output_type": "stream",
     "text": [
      "Testing Likelihood: -18.247\n",
      "Outlier Likelihood: -4228.807\n"
     ]
    }
   ],
   "source": [
    "print(\"Testing Likelihood: {:.3f}\".format(GMM.score(inlier_test)))\n",
    "print(\"Outlier Likelihood: {:.3f}\".format(GMM.score(outliers)))"
   ]
  },
  {
   "cell_type": "code",
   "execution_count": 273,
   "metadata": {},
   "outputs": [
    {
     "name": "stdout",
     "output_type": "stream",
     "text": [
      "Testing BIC: 218064.714\n",
      "Outlier BIC: 834426.135\n"
     ]
    }
   ],
   "source": [
    "print(\"Testing BIC: {:.3f}\".format(GMM.bic(inlier_test)))\n",
    "print(\"Outlier BIC: {:.3f}\".format(GMM.bic(outliers)))"
   ]
  },
  {
   "cell_type": "markdown",
   "metadata": {},
   "source": [
    "## This is weighted probability of each sample occuring from this distribution"
   ]
  },
  {
   "cell_type": "code",
   "execution_count": 51,
   "metadata": {},
   "outputs": [
    {
     "data": {
      "text/plain": [
       "array([[<matplotlib.axes._subplots.AxesSubplot object at 0x1a1fc12c88>]],\n",
       "      dtype=object)"
      ]
     },
     "execution_count": 51,
     "metadata": {},
     "output_type": "execute_result"
    },
    {
     "data": {
      "image/png": "[encoded data removed]",
      "text/plain": [
       "<Figure size 432x288 with 1 Axes>"
      ]
     },
     "metadata": {
      "needs_background": "light"
     },
     "output_type": "display_data"
    }
   ],
   "source": [
    "scores = pd.DataFrame(np.exp(GMM.score_samples(inlier_train)))\n",
    "scores.hist()"
   ]
  },
  {
   "cell_type": "code",
   "execution_count": 50,
   "metadata": {},
   "outputs": [
    {
     "data": {
      "text/plain": [
       "array([[<matplotlib.axes._subplots.AxesSubplot object at 0x1a20e17ac8>]],\n",
       "      dtype=object)"
      ]
     },
     "execution_count": 50,
     "metadata": {},
     "output_type": "execute_result"
    },
    {
     "data": {
      "image/png": "[encoded data removed]",
      "text/plain": [
       "<Figure size 432x288 with 1 Axes>"
      ]
     },
     "metadata": {
      "needs_background": "light"
     },
     "output_type": "display_data"
    }
   ],
   "source": [
    "outlier_probs = pd.DataFrame(GMM.predict_proba(outliers))\n",
    "outlier_probs.hist(bins=50)"
   ]
  },
  {
   "cell_type": "markdown",
   "metadata": {},
   "source": [
    "## Gridsearch to get better density estimation..."
   ]
  },
  {
   "cell_type": "code",
   "execution_count": 283,
   "metadata": {},
   "outputs": [
    {
     "name": "stdout",
     "output_type": "stream",
     "text": [
      "CPU times: user 6min 59s, sys: 4.09 s, total: 7min 3s\n",
      "Wall time: 1min 46s\n"
     ]
    }
   ],
   "source": [
    "%%time\n",
    "lowest_bic = np.infty\n",
    "bic = []\n",
    "n_components_range = range(1, 20)\n",
    "cv_types = ['full']\n",
    "for cv_type in cv_types:\n",
    "    for n_components in n_components_range:\n",
    "        # Fit a Gaussian mixture with EM\n",
    "        gmm = GaussianMixture(n_components=n_components,\n",
    "                                      covariance_type=cv_type)\n",
    "        gmm.fit(inlier_train)\n",
    "        bic.append(gmm.bic(inlier_train))\n",
    "        if bic[-1] < lowest_bic:\n",
    "            lowest_bic = bic[-1]\n",
    "            best_gmm = gmm"
   ]
  },
  {
   "cell_type": "code",
   "execution_count": 284,
   "metadata": {},
   "outputs": [
    {
     "data": {
      "text/plain": [
       "GaussianMixture(covariance_type='full', init_params='kmeans', max_iter=100,\n",
       "                means_init=None, n_components=19, n_init=1,\n",
       "                precisions_init=None, random_state=None, reg_covar=1e-06,\n",
       "                tol=0.001, verbose=0, verbose_interval=10, warm_start=False,\n",
       "                weights_init=None)"
      ]
     },
     "execution_count": 284,
     "metadata": {},
     "output_type": "execute_result"
    }
   ],
   "source": [
    "best_gmm"
   ]
  },
  {
   "cell_type": "code",
   "execution_count": 287,
   "metadata": {},
   "outputs": [
    {
     "data": {
      "text/plain": [
       "<matplotlib.axes._subplots.AxesSubplot at 0x1a51d4fe80>"
      ]
     },
     "execution_count": 287,
     "metadata": {},
     "output_type": "execute_result"
    },
    {
     "data": {
      "image/png": "[encoded data removed]",
      "text/plain": [
       "<Figure size 432x288 with 1 Axes>"
      ]
     },
     "metadata": {
      "needs_background": "light"
     },
     "output_type": "display_data"
    }
   ],
   "source": [
    "bics = pd.DataFrame(bic)\n",
    "bics.plot(kind=\"bar\")"
   ]
  },
  {
   "cell_type": "code",
   "execution_count": 288,
   "metadata": {},
   "outputs": [
    {
     "name": "stdout",
     "output_type": "stream",
     "text": [
      "CPU times: user 3min 22s, sys: 1.9 s, total: 3min 24s\n",
      "Wall time: 51.8 s\n"
     ]
    },
    {
     "data": {
      "text/plain": [
       "GaussianMixture(covariance_type='full', init_params='kmeans', max_iter=100,\n",
       "                means_init=None, n_components=19, n_init=5,\n",
       "                precisions_init=None, random_state=None, reg_covar=1e-06,\n",
       "                tol=0.001, verbose=0, verbose_interval=10, warm_start=False,\n",
       "                weights_init=None)"
      ]
     },
     "execution_count": 288,
     "metadata": {},
     "output_type": "execute_result"
    }
   ],
   "source": [
    "%%time\n",
    "best_gmm = GaussianMixture(n_components=19, covariance_type=\"full\", max_iter=100, n_init=5)\n",
    "best_gmm.fit(inlier_train)"
   ]
  },
  {
   "cell_type": "code",
   "execution_count": 289,
   "metadata": {},
   "outputs": [
    {
     "name": "stdout",
     "output_type": "stream",
     "text": [
      "Training Likelihood: 34.720\n",
      "Testing Likelihood: 32.459\n",
      "Outlier Likelihood: -2761.098\n"
     ]
    }
   ],
   "source": [
    "print(\"Training Likelihood: {:.3f}\".format(best_gmm.score(inlier_train)))\n",
    "print(\"Testing Likelihood: {:.3f}\".format(best_gmm.score(inlier_test)))\n",
    "print(\"Outlier Likelihood: {:.3f}\".format(best_gmm.score(outliers)))"
   ]
  },
  {
   "cell_type": "markdown",
   "metadata": {},
   "source": [
    "## Its possible to visualize posterior probabilities "
   ]
  },
  {
   "cell_type": "code",
   "execution_count": 290,
   "metadata": {},
   "outputs": [],
   "source": [
    "# outlier_probs = pd.DataFrame(best_gmm.predict_proba(outliers))\n",
    "# outlier_probs.hist(bins=5, figsize=(16,8))"
   ]
  },
  {
   "cell_type": "markdown",
   "metadata": {},
   "source": [
    "## Recall that score samples returns probability *densities*\n",
    "> In order to use them we have to integrate from 0 to x"
   ]
  },
  {
   "cell_type": "code",
   "execution_count": 291,
   "metadata": {},
   "outputs": [
    {
     "data": {
      "text/plain": [
       "array([[<matplotlib.axes._subplots.AxesSubplot object at 0x1a51d323c8>]],\n",
       "      dtype=object)"
      ]
     },
     "execution_count": 291,
     "metadata": {},
     "output_type": "execute_result"
    },
    {
     "data": {
      "image/png": "[encoded data removed]",
      "text/plain": [
       "<Figure size 1440x288 with 1 Axes>"
      ]
     },
     "metadata": {
      "needs_background": "light"
     },
     "output_type": "display_data"
    }
   ],
   "source": [
    "train_scores = pd.DataFrame(best_gmm.score_samples(inlier_train))\n",
    "train_scores.hist(bins=100, figsize=(20,4))"
   ]
  },
  {
   "cell_type": "code",
   "execution_count": 292,
   "metadata": {},
   "outputs": [
    {
     "data": {
      "text/plain": [
       "array([[<matplotlib.axes._subplots.AxesSubplot object at 0x1a51d81cf8>]],\n",
       "      dtype=object)"
      ]
     },
     "execution_count": 292,
     "metadata": {},
     "output_type": "execute_result"
    },
    {
     "data": {
      "image/png": "[encoded data removed]",
      "text/plain": [
       "<Figure size 1440x288 with 1 Axes>"
      ]
     },
     "metadata": {
      "needs_background": "light"
     },
     "output_type": "display_data"
    }
   ],
   "source": [
    "test_scores = pd.DataFrame(best_gmm.score_samples(inlier_test))\n",
    "test_scores.hist(bins=100, figsize=(20,4))"
   ]
  },
  {
   "cell_type": "code",
   "execution_count": 293,
   "metadata": {},
   "outputs": [
    {
     "data": {
      "text/plain": [
       "array([[<matplotlib.axes._subplots.AxesSubplot object at 0x1a52173e48>]],\n",
       "      dtype=object)"
      ]
     },
     "execution_count": 293,
     "metadata": {},
     "output_type": "execute_result"
    },
    {
     "data": {
      "image/png": "[encoded data removed]",
      "text/plain": [
       "<Figure size 1440x288 with 1 Axes>"
      ]
     },
     "metadata": {
      "needs_background": "light"
     },
     "output_type": "display_data"
    }
   ],
   "source": [
    "outlier_scores = pd.DataFrame(best_gmm.score_samples(outliers))\n",
    "outlier_scores.hist(bins=100, figsize=(20,4))"
   ]
  },
  {
   "cell_type": "code",
   "execution_count": 299,
   "metadata": {},
   "outputs": [
    {
     "data": {
      "text/plain": [
       "array([[<matplotlib.axes._subplots.AxesSubplot object at 0x1a52963518>]],\n",
       "      dtype=object)"
      ]
     },
     "execution_count": 299,
     "metadata": {},
     "output_type": "execute_result"
    },
    {
     "data": {
      "image/png": "[encoded data removed]",
      "text/plain": [
       "<Figure size 1440x288 with 1 Axes>"
      ]
     },
     "metadata": {
      "needs_background": "light"
     },
     "output_type": "display_data"
    }
   ],
   "source": [
    "outlier_scores_all = pd.DataFrame(best_gmm.score_samples(outliers_all))\n",
    "outlier_scores_all.hist(bins=100, figsize=(20,4))"
   ]
  },
  {
   "cell_type": "code",
   "execution_count": 295,
   "metadata": {},
   "outputs": [
    {
     "data": {
      "text/plain": [
       "0   -9.838579\n",
       "Name: 0.1, dtype: float64"
      ]
     },
     "execution_count": 295,
     "metadata": {},
     "output_type": "execute_result"
    }
   ],
   "source": [
    "test_scores.quantile(0.1)"
   ]
  },
  {
   "cell_type": "code",
   "execution_count": 300,
   "metadata": {},
   "outputs": [
    {
     "name": "stdout",
     "output_type": "stream",
     "text": [
      "              precision    recall  f1-score   support\n",
      "\n",
      "           0    0.98669   0.49534   0.65956      5687\n",
      "           1    0.13658   0.92276   0.23795       492\n",
      "\n",
      "    accuracy                        0.52937      6179\n",
      "   macro avg    0.56164   0.70905   0.44875      6179\n",
      "weighted avg    0.91900   0.52937   0.62599      6179\n",
      "\n"
     ]
    }
   ],
   "source": [
    "from sklearn.metrics import classification_report as report\n",
    "\n",
    "thresh = test_scores.mean()[0] #test_scores.quantile(0.01)[0]\n",
    "y_probs = np.concatenate((test_scores, outlier_scores_all))\n",
    "y_true = np.concatenate(([0]*len(test_scores), [1]*len(outlier_scores_all)))\n",
    "y_pred = y_probs < thresh\n",
    "print(report(y_true, y_pred, digits=5))"
   ]
  },
  {
   "cell_type": "code",
   "execution_count": 309,
   "metadata": {},
   "outputs": [
    {
     "data": {
      "text/plain": [
       "<matplotlib.legend.Legend at 0x1a594c1160>"
      ]
     },
     "execution_count": 309,
     "metadata": {},
     "output_type": "execute_result"
    },
    {
     "data": {
      "image/png": "[encoded data removed]",
      "text/plain": [
       "<Figure size 1152x576 with 1 Axes>"
      ]
     },
     "metadata": {
      "needs_background": "light"
     },
     "output_type": "display_data"
    }
   ],
   "source": [
    "## Getting Precision Recall Curves\n",
    "credit_prec, credit_recall, threshes = precision_recall_curve(y_true, -y_probs)\n",
    "credit_avg_prec = average_precision_score(y_true, -y_probs)\n",
    "\n",
    "plt.figure(figsize=(16, 8))\n",
    "plt.plot(credit_recall, credit_prec, marker='.', label='GMM')\n",
    "# plt.plot(credit_recall, credit_prec-0.5, marker='.', label='SVM')\n",
    "plt.xlabel(\"Recall\")\n",
    "plt.ylabel(\"Precision\")\n",
    "plt.title('Credit Card Precision-Recall curve: '\n",
    "                   'AP={0:0.2f}'.format(credit_avg_prec))\n",
    "plt.legend()"
   ]
  },
  {
   "cell_type": "code",
   "execution_count": 64,
   "metadata": {},
   "outputs": [
    {
     "name": "stdout",
     "output_type": "stream",
     "text": [
      "(4414, 1)\n"
     ]
    },
    {
     "data": {
      "text/plain": [
       "(984,)"
      ]
     },
     "execution_count": 64,
     "metadata": {},
     "output_type": "execute_result"
    }
   ],
   "source": [
    "print(y_pred.shape)\n",
    "y_true.shape"
   ]
  },
  {
   "cell_type": "code",
   "execution_count": 66,
   "metadata": {},
   "outputs": [
    {
     "data": {
      "text/plain": [
       "(984, 1)"
      ]
     },
     "execution_count": 66,
     "metadata": {},
     "output_type": "execute_result"
    }
   ],
   "source": [
    "y_probs.shape"
   ]
  },
  {
   "cell_type": "markdown",
   "metadata": {},
   "source": [
    "## Using Average Precision to test different thresholds"
   ]
  },
  {
   "cell_type": "code",
   "execution_count": 129,
   "metadata": {},
   "outputs": [
    {
     "data": {
      "text/plain": [
       "0.3137928530365953"
      ]
     },
     "execution_count": 129,
     "metadata": {},
     "output_type": "execute_result"
    }
   ],
   "source": [
    "# thresh = inlier_test.mean() + inlier_test.std()*3\n",
    "y_score = np.concatenate((test_scores, outlier_scores))\n",
    "y_true = np.concatenate(([0]*len(test_scores), [1]*len(outlier_scores)))\n",
    "\n",
    "average_precision_score(y_true, y_score)"
   ]
  },
  {
   "cell_type": "markdown",
   "metadata": {},
   "source": [
    "# HTTP Dataset"
   ]
  },
  {
   "cell_type": "code",
   "execution_count": 118,
   "metadata": {},
   "outputs": [
    {
     "data": {
      "text/html": [
       "<div>\n",
       "<style scoped>\n",
       "    .dataframe tbody tr th:only-of-type {\n",
       "        vertical-align: middle;\n",
       "    }\n",
       "\n",
       "    .dataframe tbody tr th {\n",
       "        vertical-align: top;\n",
       "    }\n",
       "\n",
       "    .dataframe thead th {\n",
       "        text-align: right;\n",
       "    }\n",
       "</style>\n",
       "<table border=\"1\" class=\"dataframe\">\n",
       "  <thead>\n",
       "    <tr style=\"text-align: right;\">\n",
       "      <th></th>\n",
       "      <th>0</th>\n",
       "      <th>1</th>\n",
       "      <th>2</th>\n",
       "      <th>3</th>\n",
       "    </tr>\n",
       "  </thead>\n",
       "  <tbody>\n",
       "    <tr>\n",
       "      <th>0</th>\n",
       "      <td>-2.302585</td>\n",
       "      <td>5.638710</td>\n",
       "      <td>6.853405</td>\n",
       "      <td>0</td>\n",
       "    </tr>\n",
       "    <tr>\n",
       "      <th>1</th>\n",
       "      <td>-2.302585</td>\n",
       "      <td>5.727173</td>\n",
       "      <td>7.099284</td>\n",
       "      <td>0</td>\n",
       "    </tr>\n",
       "    <tr>\n",
       "      <th>2</th>\n",
       "      <td>-2.302585</td>\n",
       "      <td>5.204556</td>\n",
       "      <td>8.565431</td>\n",
       "      <td>0</td>\n",
       "    </tr>\n",
       "    <tr>\n",
       "      <th>3</th>\n",
       "      <td>-2.302585</td>\n",
       "      <td>5.333202</td>\n",
       "      <td>7.319269</td>\n",
       "      <td>0</td>\n",
       "    </tr>\n",
       "    <tr>\n",
       "      <th>4</th>\n",
       "      <td>-2.302585</td>\n",
       "      <td>5.464255</td>\n",
       "      <td>7.368403</td>\n",
       "      <td>0</td>\n",
       "    </tr>\n",
       "  </tbody>\n",
       "</table>\n",
       "</div>"
      ],
      "text/plain": [
       "          0         1         2  3\n",
       "0 -2.302585  5.638710  6.853405  0\n",
       "1 -2.302585  5.727173  7.099284  0\n",
       "2 -2.302585  5.204556  8.565431  0\n",
       "3 -2.302585  5.333202  7.319269  0\n",
       "4 -2.302585  5.464255  7.368403  0"
      ]
     },
     "execution_count": 118,
     "metadata": {},
     "output_type": "execute_result"
    }
   ],
   "source": [
    "data_train = pd.read_csv(\"data/http_train.csv\", index_col=None)\n",
    "data_test = pd.read_csv(\"data/http_test.csv\", index_col=None)\n",
    "\n",
    "X_train = data_train.drop(data_train.columns[-1],axis=1)\n",
    "y_train = data_train.iloc[:,-1]\n",
    "\n",
    "X_test = data_test.drop(data_test.columns[-1],axis=1)\n",
    "y_test = data_test.iloc[:,-1]\n",
    "data_train.head()"
   ]
  },
  {
   "cell_type": "code",
   "execution_count": 119,
   "metadata": {},
   "outputs": [],
   "source": [
    "inlier_train = X_train[y_train==0]\n",
    "inlier_test = X_test[y_test==0]\n",
    "outliers = X_test[y_test==1]\n",
    "# outliers_all = np.concatenate((outliers, X_train[y_train==1]))"
   ]
  },
  {
   "cell_type": "markdown",
   "metadata": {},
   "source": [
    "## Gridsearch to get better density estimation..."
   ]
  },
  {
   "cell_type": "code",
   "execution_count": 45,
   "metadata": {},
   "outputs": [
    {
     "name": "stdout",
     "output_type": "stream",
     "text": [
      "CPU times: user 15min 25s, sys: 43.2 s, total: 16min 9s\n",
      "Wall time: 4min 8s\n"
     ]
    }
   ],
   "source": [
    "%%time\n",
    "lowest_bic = np.infty\n",
    "bic = []\n",
    "n_components_range = range(1, 12)\n",
    "cv_types = ['full']\n",
    "for cv_type in cv_types:\n",
    "    for n_components in n_components_range:\n",
    "        # Fit a Gaussian mixture with EM\n",
    "        gmm = GaussianMixture(n_components=n_components,\n",
    "                                      covariance_type=cv_type)\n",
    "        gmm.fit(inlier_train)\n",
    "        bic.append(gmm.bic(inlier_train))\n",
    "        if bic[-1] < lowest_bic:\n",
    "            lowest_bic = bic[-1]\n",
    "            best_gmm = gmm"
   ]
  },
  {
   "cell_type": "code",
   "execution_count": null,
   "metadata": {},
   "outputs": [],
   "source": [
    "# n_components_range = range(1,8)\n",
    "# param_grid = {'n_components': n_components_range}\n",
    "# cv_test= KFold(n_splits=10)\n",
    "# # class_weight='balanced' makes the result worse\n",
    "# grid_search = GridSearchCV(GaussianMixture(n_init=3), param_grid, cv=cv_test, \n",
    "#                            scoring='average_precision', n_jobs=4)"
   ]
  },
  {
   "cell_type": "code",
   "execution_count": 14,
   "metadata": {},
   "outputs": [
    {
     "data": {
      "text/plain": [
       "<matplotlib.axes._subplots.AxesSubplot at 0x1a1fff15f8>"
      ]
     },
     "execution_count": 14,
     "metadata": {},
     "output_type": "execute_result"
    },
    {
     "data": {
      "image/png": "[encoded data removed]",
      "text/plain": [
       "<Figure size 432x288 with 1 Axes>"
      ]
     },
     "metadata": {
      "needs_background": "light"
     },
     "output_type": "display_data"
    }
   ],
   "source": [
    "bics = pd.DataFrame(bic)\n",
    "bics.plot(kind=\"bar\")"
   ]
  },
  {
   "cell_type": "code",
   "execution_count": 120,
   "metadata": {},
   "outputs": [
    {
     "name": "stdout",
     "output_type": "stream",
     "text": [
      "CPU times: user 13.4 s, sys: 427 ms, total: 13.8 s\n",
      "Wall time: 3.82 s\n"
     ]
    },
    {
     "data": {
      "text/plain": [
       "GaussianMixture(covariance_type='full', init_params='kmeans', max_iter=100,\n",
       "                means_init=None, n_components=3, n_init=3, precisions_init=None,\n",
       "                random_state=None, reg_covar=1e-06, tol=0.001, verbose=0,\n",
       "                verbose_interval=10, warm_start=False, weights_init=None)"
      ]
     },
     "execution_count": 120,
     "metadata": {},
     "output_type": "execute_result"
    }
   ],
   "source": [
    "%%time\n",
    "best_gmm = GaussianMixture(n_components=3, covariance_type=\"full\", n_init=3)\n",
    "best_gmm.fit(inlier_train)"
   ]
  },
  {
   "cell_type": "code",
   "execution_count": 121,
   "metadata": {},
   "outputs": [
    {
     "name": "stdout",
     "output_type": "stream",
     "text": [
      "Training Likelihood: 4.373\n",
      "Testing Likelihood: 4.380\n",
      "Outlier Likelihood: -23.895\n"
     ]
    }
   ],
   "source": [
    "print(\"Training Likelihood: {:.3f}\".format(best_gmm.score(inlier_train)))\n",
    "print(\"Testing Likelihood: {:.3f}\".format(best_gmm.score(inlier_test)))\n",
    "print(\"Outlier Likelihood: {:.3f}\".format(best_gmm.score(outliers)))"
   ]
  },
  {
   "cell_type": "markdown",
   "metadata": {},
   "source": [
    "## Recall that score samples returns probability *densities*\n",
    "> In order to use them we have to integrate from 0 to x"
   ]
  },
  {
   "cell_type": "code",
   "execution_count": 122,
   "metadata": {},
   "outputs": [
    {
     "data": {
      "text/plain": [
       "array([[<matplotlib.axes._subplots.AxesSubplot object at 0x1a3493cb00>]],\n",
       "      dtype=object)"
      ]
     },
     "execution_count": 122,
     "metadata": {},
     "output_type": "execute_result"
    },
    {
     "data": {
      "image/png": "[encoded data removed]",
      "text/plain": [
       "<Figure size 1440x288 with 1 Axes>"
      ]
     },
     "metadata": {
      "needs_background": "light"
     },
     "output_type": "display_data"
    }
   ],
   "source": [
    "train_scores = pd.DataFrame(best_gmm.score_samples(inlier_train))\n",
    "train_scores.hist(bins=100, figsize=(20,4))"
   ]
  },
  {
   "cell_type": "code",
   "execution_count": 123,
   "metadata": {},
   "outputs": [
    {
     "data": {
      "text/plain": [
       "array([[<matplotlib.axes._subplots.AxesSubplot object at 0x1a3497a860>]],\n",
       "      dtype=object)"
      ]
     },
     "execution_count": 123,
     "metadata": {},
     "output_type": "execute_result"
    },
    {
     "data": {
      "image/png": "[encoded data removed]",
      "text/plain": [
       "<Figure size 1440x288 with 1 Axes>"
      ]
     },
     "metadata": {
      "needs_background": "light"
     },
     "output_type": "display_data"
    }
   ],
   "source": [
    "test_scores = pd.DataFrame(best_gmm.score_samples(inlier_test))\n",
    "test_scores.hist(bins=100, figsize=(20,4))"
   ]
  },
  {
   "cell_type": "code",
   "execution_count": 124,
   "metadata": {},
   "outputs": [
    {
     "data": {
      "text/plain": [
       "array([[<matplotlib.axes._subplots.AxesSubplot object at 0x1a3449f048>]],\n",
       "      dtype=object)"
      ]
     },
     "execution_count": 124,
     "metadata": {},
     "output_type": "execute_result"
    },
    {
     "data": {
      "image/png": "[encoded data removed]",
      "text/plain": [
       "<Figure size 1440x288 with 1 Axes>"
      ]
     },
     "metadata": {
      "needs_background": "light"
     },
     "output_type": "display_data"
    }
   ],
   "source": [
    "epsilon = 1e-10\n",
    "outlier_scores = pd.DataFrame(best_gmm.score_samples(outliers))\n",
    "outlier_scores.hist(bins=100, figsize=(20,4))"
   ]
  },
  {
   "cell_type": "markdown",
   "metadata": {},
   "source": [
    "## Using Average Precision to test different thresholds"
   ]
  },
  {
   "cell_type": "code",
   "execution_count": 125,
   "metadata": {},
   "outputs": [
    {
     "data": {
      "text/plain": [
       "442"
      ]
     },
     "execution_count": 125,
     "metadata": {},
     "output_type": "execute_result"
    }
   ],
   "source": [
    "len(outlier_scores)"
   ]
  },
  {
   "cell_type": "code",
   "execution_count": 144,
   "metadata": {},
   "outputs": [
    {
     "name": "stdout",
     "output_type": "stream",
     "text": [
      "              precision    recall  f1-score   support\n",
      "\n",
      "           0    0.99989   0.99989   0.99989    113058\n",
      "           1    0.97279   0.97059   0.97169       442\n",
      "\n",
      "    accuracy                        0.99978    113500\n",
      "   macro avg    0.98634   0.98524   0.98579    113500\n",
      "weighted avg    0.99978   0.99978   0.99978    113500\n",
      "\n"
     ]
    }
   ],
   "source": [
    "##### thresh = (test_scores.mean() - test_scores.std()*3)[0]\n",
    "\n",
    "thresh = -20 #test_scores.quantile(0.001)[0]\n",
    "test_data = np.concatenate([inlier_test, outliers])\n",
    "y_probs = np.concatenate((test_scores, outlier_scores))\n",
    "\n",
    "y_true = np.concatenate(([0]*len(test_scores), [1]*len(outlier_scores)))\n",
    "y_pred = y_probs < thresh\n",
    "\n",
    "print(report(y_true, y_pred,digits=5))"
   ]
  },
  {
   "cell_type": "code",
   "execution_count": 145,
   "metadata": {},
   "outputs": [
    {
     "name": "stdout",
     "output_type": "stream",
     "text": [
      "Avg Prec: 0.9968\n"
     ]
    }
   ],
   "source": [
    "http_avg_prec = average_precision_score(y_true, -y_probs)\n",
    "print(\"Avg Prec: {:.4f}\".format(avg_prec))"
   ]
  },
  {
   "cell_type": "code",
   "execution_count": 180,
   "metadata": {},
   "outputs": [
    {
     "data": {
      "text/plain": [
       "Text(0.5, 1.0, 'HTTP Precision-Recall curve: AP=1.00')"
      ]
     },
     "execution_count": 180,
     "metadata": {},
     "output_type": "execute_result"
    },
    {
     "data": {
      "image/png": "[encoded data removed]",
      "text/plain": [
       "<Figure size 1152x576 with 1 Axes>"
      ]
     },
     "metadata": {
      "needs_background": "light"
     },
     "output_type": "display_data"
    }
   ],
   "source": [
    "## Getting Precision Recall Curves\n",
    "http_prec, http_recall, threshes = precision_recall_curve(y_true, -y_probs)\n",
    "\n",
    "plt.figure(figsize=(16, 8))\n",
    "plt.plot(http_recall, http_prec, marker='.', label='GMM')\n",
    "plt.xlabel(\"Recall\")\n",
    "plt.ylabel(\"Precision\")\n",
    "plt.title('HTTP Precision-Recall curve: '\n",
    "                   'AP={0:0.2f}'.format(http_avg_prec))"
   ]
  },
  {
   "cell_type": "code",
   "execution_count": 134,
   "metadata": {},
   "outputs": [
    {
     "data": {
      "text/plain": [
       "array([-24.68679479, -24.47751303, -24.24213207, ...,   5.55345876,\n",
       "         5.55353969,   5.55354127])"
      ]
     },
     "execution_count": 134,
     "metadata": {},
     "output_type": "execute_result"
    }
   ],
   "source": [
    "threshes"
   ]
  },
  {
   "cell_type": "markdown",
   "metadata": {},
   "source": [
    "# Cardio Dataset"
   ]
  },
  {
   "cell_type": "code",
   "execution_count": 243,
   "metadata": {},
   "outputs": [
    {
     "data": {
      "text/html": [
       "<div>\n",
       "<style scoped>\n",
       "    .dataframe tbody tr th:only-of-type {\n",
       "        vertical-align: middle;\n",
       "    }\n",
       "\n",
       "    .dataframe tbody tr th {\n",
       "        vertical-align: top;\n",
       "    }\n",
       "\n",
       "    .dataframe thead th {\n",
       "        text-align: right;\n",
       "    }\n",
       "</style>\n",
       "<table border=\"1\" class=\"dataframe\">\n",
       "  <thead>\n",
       "    <tr style=\"text-align: right;\">\n",
       "      <th></th>\n",
       "      <th>0</th>\n",
       "      <th>1</th>\n",
       "      <th>2</th>\n",
       "      <th>3</th>\n",
       "      <th>4</th>\n",
       "      <th>5</th>\n",
       "      <th>6</th>\n",
       "      <th>7</th>\n",
       "      <th>8</th>\n",
       "      <th>9</th>\n",
       "      <th>...</th>\n",
       "      <th>12</th>\n",
       "      <th>13</th>\n",
       "      <th>14</th>\n",
       "      <th>15</th>\n",
       "      <th>16</th>\n",
       "      <th>17</th>\n",
       "      <th>18</th>\n",
       "      <th>19</th>\n",
       "      <th>20</th>\n",
       "      <th>21</th>\n",
       "    </tr>\n",
       "  </thead>\n",
       "  <tbody>\n",
       "    <tr>\n",
       "      <th>0</th>\n",
       "      <td>-2.746331</td>\n",
       "      <td>0.674374</td>\n",
       "      <td>-0.203640</td>\n",
       "      <td>0.569296</td>\n",
       "      <td>-0.683598</td>\n",
       "      <td>-0.061401</td>\n",
       "      <td>-0.278295</td>\n",
       "      <td>1.161352</td>\n",
       "      <td>-0.862298</td>\n",
       "      <td>-0.420487</td>\n",
       "      <td>...</td>\n",
       "      <td>0.342006</td>\n",
       "      <td>-0.565334</td>\n",
       "      <td>-0.409388</td>\n",
       "      <td>-0.488279</td>\n",
       "      <td>-1.441887</td>\n",
       "      <td>-1.083848</td>\n",
       "      <td>-1.561651</td>\n",
       "      <td>-0.222985</td>\n",
       "      <td>-2.126605</td>\n",
       "      <td>0</td>\n",
       "    </tr>\n",
       "    <tr>\n",
       "      <th>1</th>\n",
       "      <td>-1.476526</td>\n",
       "      <td>-0.487369</td>\n",
       "      <td>-0.203640</td>\n",
       "      <td>0.159199</td>\n",
       "      <td>-0.127511</td>\n",
       "      <td>-0.061401</td>\n",
       "      <td>-0.278295</td>\n",
       "      <td>-1.171841</td>\n",
       "      <td>-0.051613</td>\n",
       "      <td>0.948799</td>\n",
       "      <td>...</td>\n",
       "      <td>-0.655829</td>\n",
       "      <td>-0.235325</td>\n",
       "      <td>-0.753395</td>\n",
       "      <td>2.414444</td>\n",
       "      <td>-0.600269</td>\n",
       "      <td>-0.828456</td>\n",
       "      <td>-0.940945</td>\n",
       "      <td>-0.323186</td>\n",
       "      <td>-0.493294</td>\n",
       "      <td>0</td>\n",
       "    </tr>\n",
       "    <tr>\n",
       "      <th>2</th>\n",
       "      <td>-0.312539</td>\n",
       "      <td>-0.380829</td>\n",
       "      <td>0.066072</td>\n",
       "      <td>-1.635871</td>\n",
       "      <td>-0.683598</td>\n",
       "      <td>-0.061401</td>\n",
       "      <td>-0.278295</td>\n",
       "      <td>0.144320</td>\n",
       "      <td>-0.630673</td>\n",
       "      <td>-0.420487</td>\n",
       "      <td>...</td>\n",
       "      <td>-1.368567</td>\n",
       "      <td>-0.455331</td>\n",
       "      <td>0.622631</td>\n",
       "      <td>-0.488279</td>\n",
       "      <td>-0.179460</td>\n",
       "      <td>0.001569</td>\n",
       "      <td>-0.182306</td>\n",
       "      <td>-0.556988</td>\n",
       "      <td>1.140018</td>\n",
       "      <td>0</td>\n",
       "    </tr>\n",
       "    <tr>\n",
       "      <th>3</th>\n",
       "      <td>-0.947441</td>\n",
       "      <td>3.464968</td>\n",
       "      <td>-0.203640</td>\n",
       "      <td>-0.961999</td>\n",
       "      <td>-0.683598</td>\n",
       "      <td>-0.061401</td>\n",
       "      <td>-0.278295</td>\n",
       "      <td>-1.231666</td>\n",
       "      <td>0.874885</td>\n",
       "      <td>-0.420487</td>\n",
       "      <td>...</td>\n",
       "      <td>0.342006</td>\n",
       "      <td>-0.675337</td>\n",
       "      <td>-1.097401</td>\n",
       "      <td>-0.488279</td>\n",
       "      <td>0.000886</td>\n",
       "      <td>0.001569</td>\n",
       "      <td>-0.113338</td>\n",
       "      <td>-0.523588</td>\n",
       "      <td>-0.493294</td>\n",
       "      <td>0</td>\n",
       "    </tr>\n",
       "    <tr>\n",
       "      <th>4</th>\n",
       "      <td>0.533997</td>\n",
       "      <td>-0.437880</td>\n",
       "      <td>-0.163445</td>\n",
       "      <td>0.697949</td>\n",
       "      <td>1.175504</td>\n",
       "      <td>-0.061401</td>\n",
       "      <td>-0.278295</td>\n",
       "      <td>0.802400</td>\n",
       "      <td>0.411636</td>\n",
       "      <td>-0.420487</td>\n",
       "      <td>...</td>\n",
       "      <td>-1.083472</td>\n",
       "      <td>0.094683</td>\n",
       "      <td>0.622631</td>\n",
       "      <td>-0.488279</td>\n",
       "      <td>0.181233</td>\n",
       "      <td>0.001569</td>\n",
       "      <td>0.300465</td>\n",
       "      <td>0.044218</td>\n",
       "      <td>1.140018</td>\n",
       "      <td>0</td>\n",
       "    </tr>\n",
       "  </tbody>\n",
       "</table>\n",
       "<p>5 rows × 22 columns</p>\n",
       "</div>"
      ],
      "text/plain": [
       "          0         1         2         3         4         5         6  \\\n",
       "0 -2.746331  0.674374 -0.203640  0.569296 -0.683598 -0.061401 -0.278295   \n",
       "1 -1.476526 -0.487369 -0.203640  0.159199 -0.127511 -0.061401 -0.278295   \n",
       "2 -0.312539 -0.380829  0.066072 -1.635871 -0.683598 -0.061401 -0.278295   \n",
       "3 -0.947441  3.464968 -0.203640 -0.961999 -0.683598 -0.061401 -0.278295   \n",
       "4  0.533997 -0.437880 -0.163445  0.697949  1.175504 -0.061401 -0.278295   \n",
       "\n",
       "          7         8         9  ...        12        13        14        15  \\\n",
       "0  1.161352 -0.862298 -0.420487  ...  0.342006 -0.565334 -0.409388 -0.488279   \n",
       "1 -1.171841 -0.051613  0.948799  ... -0.655829 -0.235325 -0.753395  2.414444   \n",
       "2  0.144320 -0.630673 -0.420487  ... -1.368567 -0.455331  0.622631 -0.488279   \n",
       "3 -1.231666  0.874885 -0.420487  ...  0.342006 -0.675337 -1.097401 -0.488279   \n",
       "4  0.802400  0.411636 -0.420487  ... -1.083472  0.094683  0.622631 -0.488279   \n",
       "\n",
       "         16        17        18        19        20  21  \n",
       "0 -1.441887 -1.083848 -1.561651 -0.222985 -2.126605   0  \n",
       "1 -0.600269 -0.828456 -0.940945 -0.323186 -0.493294   0  \n",
       "2 -0.179460  0.001569 -0.182306 -0.556988  1.140018   0  \n",
       "3  0.000886  0.001569 -0.113338 -0.523588 -0.493294   0  \n",
       "4  0.181233  0.001569  0.300465  0.044218  1.140018   0  \n",
       "\n",
       "[5 rows x 22 columns]"
      ]
     },
     "execution_count": 243,
     "metadata": {},
     "output_type": "execute_result"
    }
   ],
   "source": [
    "data_train = pd.read_csv(\"data/cardio_train.csv\", index_col=None)\n",
    "data_test = pd.read_csv(\"data/cardio_test.csv\", index_col=None)\n",
    "\n",
    "X_train = data_train.drop(data_train.columns[-1],axis=1)\n",
    "y_train = data_train.iloc[:,-1]\n",
    "\n",
    "X_test = data_test.drop(data_test.columns[-1],axis=1)\n",
    "y_test = data_test.iloc[:,-1]\n",
    "data_train.head()"
   ]
  },
  {
   "cell_type": "code",
   "execution_count": 244,
   "metadata": {},
   "outputs": [
    {
     "data": {
      "text/plain": [
       "0    1323\n",
       "1     141\n",
       "Name: 21, dtype: int64"
      ]
     },
     "execution_count": 244,
     "metadata": {},
     "output_type": "execute_result"
    }
   ],
   "source": [
    "y_train.value_counts()"
   ]
  },
  {
   "cell_type": "code",
   "execution_count": 255,
   "metadata": {},
   "outputs": [],
   "source": [
    "inlier_train = X_train[y_train==0]\n",
    "inlier_test = X_test[y_test==0]\n",
    "outliers = X_test[y_test==1]\n",
    "outliers_all = np.concatenate((outliers, X_train[y_train==1]))"
   ]
  },
  {
   "cell_type": "markdown",
   "metadata": {},
   "source": [
    "## Gridsearch to get better density estimation..."
   ]
  },
  {
   "cell_type": "code",
   "execution_count": 246,
   "metadata": {},
   "outputs": [],
   "source": [
    "# %%time\n",
    "# lowest_bic = np.infty\n",
    "# bic = []\n",
    "# n_components_range = range(1, 7)\n",
    "# cv_types = ['full']\n",
    "# for cv_type in cv_types:\n",
    "#     for n_components in n_components_range:\n",
    "#         # Fit a Gaussian mixture with EM\n",
    "#         gmm = GaussianMixture(n_components=n_components,\n",
    "#                               covariance_type=cv_type,\n",
    "#                               n_init=5)\n",
    "#         gmm.fit(inlier_train)\n",
    "#         bic.append(gmm.bic(inlier_train))\n",
    "#         if bic[-1] < lowest_bic:\n",
    "#             lowest_bic = bic[-1]\n",
    "#             best_gmm = gmm"
   ]
  },
  {
   "cell_type": "code",
   "execution_count": 247,
   "metadata": {},
   "outputs": [
    {
     "name": "stdout",
     "output_type": "stream",
     "text": [
      "CPU times: user 3.72 s, sys: 36.6 ms, total: 3.76 s\n",
      "Wall time: 953 ms\n"
     ]
    },
    {
     "data": {
      "text/plain": [
       "GaussianMixture(covariance_type='full', init_params='kmeans', max_iter=100,\n",
       "                means_init=None, n_components=10, n_init=5,\n",
       "                precisions_init=None, random_state=None, reg_covar=1e-06,\n",
       "                tol=0.001, verbose=0, verbose_interval=10, warm_start=False,\n",
       "                weights_init=None)"
      ]
     },
     "execution_count": 247,
     "metadata": {},
     "output_type": "execute_result"
    }
   ],
   "source": [
    "%%time\n",
    "best_gmm = GaussianMixture(n_components=10, covariance_type=\"full\", max_iter=100, n_init=5)\n",
    "best_gmm.fit(inlier_train)"
   ]
  },
  {
   "cell_type": "code",
   "execution_count": 248,
   "metadata": {},
   "outputs": [
    {
     "name": "stdout",
     "output_type": "stream",
     "text": [
      "Training Likelihood: 15.601\n",
      "Testing Likelihood: -259859.836\n",
      "Outlier Likelihood: -4313008.128\n"
     ]
    }
   ],
   "source": [
    "print(\"Training Likelihood: {:.3f}\".format(best_gmm.score(inlier_train)))\n",
    "print(\"Testing Likelihood: {:.3f}\".format(best_gmm.score(inlier_test)))\n",
    "print(\"Outlier Likelihood: {:.3f}\".format(best_gmm.score(outliers)))"
   ]
  },
  {
   "cell_type": "markdown",
   "metadata": {},
   "source": [
    "## Recall that score samples returns probability *densities*\n",
    "> In order to use them we have to integrate from 0 to x"
   ]
  },
  {
   "cell_type": "code",
   "execution_count": 249,
   "metadata": {},
   "outputs": [
    {
     "data": {
      "text/plain": [
       "array([[<matplotlib.axes._subplots.AxesSubplot object at 0x1a45c3c860>]],\n",
       "      dtype=object)"
      ]
     },
     "execution_count": 249,
     "metadata": {},
     "output_type": "execute_result"
    },
    {
     "data": {
      "image/png": "[encoded data removed]",
      "text/plain": [
       "<Figure size 1440x288 with 1 Axes>"
      ]
     },
     "metadata": {
      "needs_background": "light"
     },
     "output_type": "display_data"
    }
   ],
   "source": [
    "train_scores = pd.DataFrame(best_gmm.score_samples(inlier_train))\n",
    "train_scores.hist(bins=100, figsize=(20,4))"
   ]
  },
  {
   "cell_type": "code",
   "execution_count": 250,
   "metadata": {},
   "outputs": [
    {
     "data": {
      "text/plain": [
       "array([[<matplotlib.axes._subplots.AxesSubplot object at 0x1a4280ce48>]],\n",
       "      dtype=object)"
      ]
     },
     "execution_count": 250,
     "metadata": {},
     "output_type": "execute_result"
    },
    {
     "data": {
      "image/png": "[encoded data removed]",
      "text/plain": [
       "<Figure size 1440x288 with 1 Axes>"
      ]
     },
     "metadata": {
      "needs_background": "light"
     },
     "output_type": "display_data"
    }
   ],
   "source": [
    "test_scores = pd.DataFrame(best_gmm.score_samples(inlier_test))\n",
    "test_scores.hist(bins=100, figsize=(20,4))"
   ]
  },
  {
   "cell_type": "code",
   "execution_count": 251,
   "metadata": {},
   "outputs": [
    {
     "data": {
      "text/plain": [
       "array([[<matplotlib.axes._subplots.AxesSubplot object at 0x1a5dbd9b38>]],\n",
       "      dtype=object)"
      ]
     },
     "execution_count": 251,
     "metadata": {},
     "output_type": "execute_result"
    },
    {
     "data": {
      "image/png": "[encoded data removed]",
      "text/plain": [
       "<Figure size 1440x288 with 1 Axes>"
      ]
     },
     "metadata": {
      "needs_background": "light"
     },
     "output_type": "display_data"
    }
   ],
   "source": [
    "outlier_scores = pd.DataFrame(best_gmm.score_samples(outliers))\n",
    "outlier_scores.hist(bins=100, figsize=(20,4))"
   ]
  },
  {
   "cell_type": "code",
   "execution_count": 257,
   "metadata": {},
   "outputs": [
    {
     "data": {
      "text/plain": [
       "array([[<matplotlib.axes._subplots.AxesSubplot object at 0x1a45c43208>]],\n",
       "      dtype=object)"
      ]
     },
     "execution_count": 257,
     "metadata": {},
     "output_type": "execute_result"
    },
    {
     "data": {
      "image/png": "[encoded data removed]",
      "text/plain": [
       "<Figure size 1440x288 with 1 Axes>"
      ]
     },
     "metadata": {
      "needs_background": "light"
     },
     "output_type": "display_data"
    }
   ],
   "source": [
    "outlier_scores_all = pd.DataFrame(best_gmm.score_samples(outliers_all))\n",
    "outlier_scores_all.hist(bins=100, figsize=(20,4))"
   ]
  },
  {
   "cell_type": "markdown",
   "metadata": {},
   "source": [
    "## Using Average Precision to test different thresholds"
   ]
  },
  {
   "cell_type": "code",
   "execution_count": 262,
   "metadata": {},
   "outputs": [
    {
     "data": {
      "text/plain": [
       "-40.01667648835267"
      ]
     },
     "execution_count": 262,
     "metadata": {},
     "output_type": "execute_result"
    }
   ],
   "source": [
    "test_scores.quantile(0.01)[0]"
   ]
  },
  {
   "cell_type": "code",
   "execution_count": 263,
   "metadata": {},
   "outputs": [
    {
     "name": "stdout",
     "output_type": "stream",
     "text": [
      "              precision    recall  f1-score   support\n",
      "\n",
      "           0    0.79227   0.98795   0.87936       332\n",
      "           1    0.95745   0.51136   0.66667       176\n",
      "\n",
      "    accuracy                        0.82283       508\n",
      "   macro avg    0.87486   0.74966   0.77301       508\n",
      "weighted avg    0.84950   0.82283   0.80567       508\n",
      "\n"
     ]
    }
   ],
   "source": [
    "# thresh = test_scores.mean() - test_scores.std()*4\n",
    "thresh = test_scores.quantile(0.01)[0]\n",
    "y_probs = np.concatenate((test_scores, outlier_scores_all))\n",
    "y_true = np.concatenate(([0]*len(test_scores), [1]*len(outlier_scores_all)))\n",
    "y_pred = y_probs < thresh\n",
    "\n",
    "print(report(y_true, y_pred, digits=5))"
   ]
  },
  {
   "cell_type": "code",
   "execution_count": 264,
   "metadata": {},
   "outputs": [
    {
     "name": "stdout",
     "output_type": "stream",
     "text": [
      "Avg Prec: 0.7995\n"
     ]
    }
   ],
   "source": [
    "avg_prec = average_precision_score(y_true, -y_probs)\n",
    "print(\"Avg Prec: {:.4f}\".format(avg_prec))"
   ]
  },
  {
   "cell_type": "code",
   "execution_count": 265,
   "metadata": {},
   "outputs": [
    {
     "data": {
      "text/plain": [
       "Text(0.5, 1.0, 'HTTP Precision-Recall curve: AP=0.80')"
      ]
     },
     "execution_count": 265,
     "metadata": {},
     "output_type": "execute_result"
    },
    {
     "data": {
      "image/png": "[encoded data removed]",
      "text/plain": [
       "<Figure size 1152x576 with 1 Axes>"
      ]
     },
     "metadata": {
      "needs_background": "light"
     },
     "output_type": "display_data"
    }
   ],
   "source": [
    "## Getting Precision Recall Curves\n",
    "\n",
    "from sklearn.metrics import precision_recall_curve\n",
    "from sklearn.metrics import precision_recall_fscore_support\n",
    "# from sklearn.metrics import plot_precision_recall_curve\n",
    "\n",
    "cardio_prec, cardio_recall, threshes = precision_recall_curve(y_true, -y_probs)\n",
    "\n",
    "plt.figure(figsize=(16, 8))\n",
    "plt.plot(cardio_recall, cardio_prec, marker='.', label='GMM')\n",
    "plt.xlabel(\"Recall\")\n",
    "plt.ylabel(\"Precision\")\n",
    "plt.title('HTTP Precision-Recall curve: '\n",
    "                   'AP={0:0.2f}'.format(avg_prec))"
   ]
  },
  {
   "cell_type": "code",
   "execution_count": null,
   "metadata": {},
   "outputs": [],
   "source": []
  }
 ],
 "metadata": {
  "kernelspec": {
   "display_name": "Python (condatensor)",
   "language": "python",
   "name": "condatensor"
  },
  "language_info": {
   "codemirror_mode": {
    "name": "ipython",
    "version": 3
   },
   "file_extension": ".py",
   "mimetype": "text/x-python",
   "name": "python",
   "nbconvert_exporter": "python",
   "pygments_lexer": "ipython3",
   "version": "3.6.9"
  }
 },
 "nbformat": 4,
 "nbformat_minor": 4
}
