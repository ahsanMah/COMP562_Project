{
 "cells": [
  {
   "cell_type": "code",
   "execution_count": 1,
   "metadata": {},
   "outputs": [],
   "source": [
    "import pandas as pd\n",
    "import numpy as np\n",
    "import matplotlib.pyplot as plt\n",
    "from sklearn.metrics import classification_report, confusion_matrix\n",
    "from sklearn.svm import SVC\n",
    "%matplotlib inline"
   ]
  },
  {
   "cell_type": "markdown",
   "metadata": {},
   "source": [
    "### Loading the Dataset"
   ]
  },
  {
   "cell_type": "code",
   "execution_count": 2,
   "metadata": {},
   "outputs": [
    {
     "data": {
      "text/html": [
       "<div>\n",
       "<style scoped>\n",
       "    .dataframe tbody tr th:only-of-type {\n",
       "        vertical-align: middle;\n",
       "    }\n",
       "\n",
       "    .dataframe tbody tr th {\n",
       "        vertical-align: top;\n",
       "    }\n",
       "\n",
       "    .dataframe thead th {\n",
       "        text-align: right;\n",
       "    }\n",
       "</style>\n",
       "<table border=\"1\" class=\"dataframe\">\n",
       "  <thead>\n",
       "    <tr style=\"text-align: right;\">\n",
       "      <th></th>\n",
       "      <th>0</th>\n",
       "      <th>1</th>\n",
       "      <th>2</th>\n",
       "      <th>3</th>\n",
       "    </tr>\n",
       "  </thead>\n",
       "  <tbody>\n",
       "    <tr>\n",
       "      <td>0</td>\n",
       "      <td>-2.302585</td>\n",
       "      <td>5.638710</td>\n",
       "      <td>6.853405</td>\n",
       "      <td>0</td>\n",
       "    </tr>\n",
       "    <tr>\n",
       "      <td>1</td>\n",
       "      <td>-2.302585</td>\n",
       "      <td>5.727173</td>\n",
       "      <td>7.099284</td>\n",
       "      <td>0</td>\n",
       "    </tr>\n",
       "    <tr>\n",
       "      <td>2</td>\n",
       "      <td>-2.302585</td>\n",
       "      <td>5.204556</td>\n",
       "      <td>8.565431</td>\n",
       "      <td>0</td>\n",
       "    </tr>\n",
       "    <tr>\n",
       "      <td>3</td>\n",
       "      <td>-2.302585</td>\n",
       "      <td>5.333202</td>\n",
       "      <td>7.319269</td>\n",
       "      <td>0</td>\n",
       "    </tr>\n",
       "    <tr>\n",
       "      <td>4</td>\n",
       "      <td>-2.302585</td>\n",
       "      <td>5.464255</td>\n",
       "      <td>7.368403</td>\n",
       "      <td>0</td>\n",
       "    </tr>\n",
       "  </tbody>\n",
       "</table>\n",
       "</div>"
      ],
      "text/plain": [
       "          0         1         2  3\n",
       "0 -2.302585  5.638710  6.853405  0\n",
       "1 -2.302585  5.727173  7.099284  0\n",
       "2 -2.302585  5.204556  8.565431  0\n",
       "3 -2.302585  5.333202  7.319269  0\n",
       "4 -2.302585  5.464255  7.368403  0"
      ]
     },
     "execution_count": 2,
     "metadata": {},
     "output_type": "execute_result"
    }
   ],
   "source": [
    "data_train = pd.read_csv(\"data/http_train.csv\")\n",
    "data_test = pd.read_csv(\"data/http_test.csv\")\n",
    "\n",
    "X_train = data_train.drop(data_train.columns[-1],axis=1)\n",
    "y_train = data_train.iloc[:,-1]\n",
    "\n",
    "X_test = data_test.drop(data_test.columns[-1],axis=1)\n",
    "y_test = data_test.iloc[:,-1]\n",
    "data_train.head()"
   ]
  },
  {
   "cell_type": "markdown",
   "metadata": {},
   "source": [
    "### Training, Making Predictions, Evaluation"
   ]
  },
  {
   "cell_type": "code",
   "execution_count": 3,
   "metadata": {},
   "outputs": [],
   "source": [
    "def svm(ker):\n",
    "    #training the model\n",
    "    svclassifier = SVC(kernel=ker)\n",
    "    svclassifier.fit(X_train, y_train)\n",
    "    #making predictions\n",
    "    y_pred = svclassifier.predict(X_test)\n",
    "    #evaluating the model\n",
    "    print(confusion_matrix(y_test,y_pred))\n",
    "    print(classification_report(y_test,y_pred))"
   ]
  },
  {
   "cell_type": "code",
   "execution_count": 4,
   "metadata": {},
   "outputs": [
    {
     "name": "stdout",
     "output_type": "stream",
     "text": [
      "[[113056      2]\n",
      " [     3    439]]\n",
      "              precision    recall  f1-score   support\n",
      "\n",
      "           0       1.00      1.00      1.00    113058\n",
      "           1       1.00      0.99      0.99       442\n",
      "\n",
      "    accuracy                           1.00    113500\n",
      "   macro avg       1.00      1.00      1.00    113500\n",
      "weighted avg       1.00      1.00      1.00    113500\n",
      "\n"
     ]
    }
   ],
   "source": [
    "#Linear Kernel\n",
    "svm('linear')"
   ]
  },
  {
   "cell_type": "code",
   "execution_count": 5,
   "metadata": {},
   "outputs": [
    {
     "name": "stderr",
     "output_type": "stream",
     "text": [
      "/Applications/anaconda3/lib/python3.7/site-packages/sklearn/svm/base.py:193: FutureWarning: The default value of gamma will change from 'auto' to 'scale' in version 0.22 to account better for unscaled features. Set gamma explicitly to 'auto' or 'scale' to avoid this warning.\n",
      "  \"avoid this warning.\", FutureWarning)\n"
     ]
    },
    {
     "name": "stdout",
     "output_type": "stream",
     "text": [
      "[[113058      0]\n",
      " [     3    439]]\n",
      "              precision    recall  f1-score   support\n",
      "\n",
      "           0       1.00      1.00      1.00    113058\n",
      "           1       1.00      0.99      1.00       442\n",
      "\n",
      "    accuracy                           1.00    113500\n",
      "   macro avg       1.00      1.00      1.00    113500\n",
      "weighted avg       1.00      1.00      1.00    113500\n",
      "\n"
     ]
    }
   ],
   "source": [
    "#Gaussian Kernel\n",
    "svm('rbf')"
   ]
  },
  {
   "cell_type": "code",
   "execution_count": 6,
   "metadata": {},
   "outputs": [
    {
     "name": "stderr",
     "output_type": "stream",
     "text": [
      "/Applications/anaconda3/lib/python3.7/site-packages/sklearn/svm/base.py:193: FutureWarning: The default value of gamma will change from 'auto' to 'scale' in version 0.22 to account better for unscaled features. Set gamma explicitly to 'auto' or 'scale' to avoid this warning.\n",
      "  \"avoid this warning.\", FutureWarning)\n"
     ]
    },
    {
     "name": "stdout",
     "output_type": "stream",
     "text": [
      "[[112760    298]\n",
      " [   439      3]]\n",
      "              precision    recall  f1-score   support\n",
      "\n",
      "           0       1.00      1.00      1.00    113058\n",
      "           1       0.01      0.01      0.01       442\n",
      "\n",
      "    accuracy                           0.99    113500\n",
      "   macro avg       0.50      0.50      0.50    113500\n",
      "weighted avg       0.99      0.99      0.99    113500\n",
      "\n"
     ]
    }
   ],
   "source": [
    "#Sigmoid Kernel\n",
    "svm('sigmoid')"
   ]
  },
  {
   "cell_type": "code",
   "execution_count": 7,
   "metadata": {},
   "outputs": [],
   "source": [
    "def svm_poly():\n",
    "    #training the model\n",
    "    svclassifier = SVC(kernel='poly', degree=8)\n",
    "    svclassifier.fit(X_train, y_train)\n",
    "    #making predictions\n",
    "    y_pred = svclassifier.predict(X_test)\n",
    "    #evaluating the model\n",
    "    print(confusion_matrix(y_test,y_pred))\n",
    "    print(classification_report(y_test,y_pred))"
   ]
  },
  {
   "cell_type": "code",
   "execution_count": null,
   "metadata": {},
   "outputs": [],
   "source": [
    "#Polynomial Kernel\n",
    "svm_poly()"
   ]
  },
  {
   "cell_type": "code",
   "execution_count": null,
   "metadata": {},
   "outputs": [],
   "source": []
  }
 ],
 "metadata": {
  "kernelspec": {
   "display_name": "Python 3",
   "language": "python",
   "name": "python3"
  },
  "language_info": {
   "codemirror_mode": {
    "name": "ipython",
    "version": 3
   },
   "file_extension": ".py",
   "mimetype": "text/x-python",
   "name": "python",
   "nbconvert_exporter": "python",
   "pygments_lexer": "ipython3",
   "version": "3.7.3"
  }
 },
 "nbformat": 4,
 "nbformat_minor": 2
}
